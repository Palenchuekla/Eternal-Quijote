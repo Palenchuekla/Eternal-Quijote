{
  "cells": [
    {
      "cell_type": "markdown",
      "metadata": {
        "id": "mFu_3CBg-owX"
      },
      "source": [
        "# Introduction"
      ]
    },
    {
      "cell_type": "markdown",
      "metadata": {
        "id": "IrqKRKQG-sT5"
      },
      "source": [
        "Following the steps of the notorious Andrej Karpathy in the following video-tutorial: https://www.youtube.com/watch?v=kCc8FmEb1nY&t=1492s, in this notebook we implement a Language Model based on the Transformer architecture \"from scratch\" that generates sequences of words that may fool someone into thinking that they were written by Miguel de Cervantes on the mother of the novel genre: \"El Quijote de la Mancha\". The goal is to understand the fundamentals behind Natural Language Processing and the Transformer architecture. Being more technical, we implement and \"pre-train\" a Decoder-Only Transfomer to generate text using \"El Quijote de la Mancha\".\n",
        "\n",
        "NOTE: The validation process and the batch creation is simplified.\n",
        "- Batch creation randomly selects samples, does not take into account samples reapeated samples (within and/or outside the batch).\n",
        "- Validation method: Hold Out. No Cross-validation."
      ]
    },
    {
      "cell_type": "markdown",
      "metadata": {
        "id": "4215sSxtxqWZ"
      },
      "source": [
        "# Imports"
      ]
    },
    {
      "cell_type": "code",
      "execution_count": 1,
      "metadata": {
        "id": "wsRIs614xsX7"
      },
      "outputs": [],
      "source": [
        "import torch # GOTY library\n",
        "import matplotlib.pyplot as plt # Figures = Gráficas\n",
        "from tqdm.auto import tqdm # Progress Bar"
      ]
    },
    {
      "cell_type": "markdown",
      "metadata": {
        "id": "AO8GGJ7v-bpH"
      },
      "source": [
        "# Raw Data"
      ]
    },
    {
      "cell_type": "code",
      "execution_count": 2,
      "metadata": {
        "id": "-ALo36Qn7A4i"
      },
      "outputs": [],
      "source": [
        "# Open the file to check its content.\n",
        "with open(file=\"el_quijote.txt\", mode=\"r\", encoding='utf-8') as f:\n",
        "  text = f.read(-1)"
      ]
    },
    {
      "cell_type": "code",
      "execution_count": 3,
      "metadata": {
        "colab": {
          "base_uri": "https://localhost:8080/"
        },
        "id": "-aLGG6oI73G1",
        "outputId": "c341f9b8-3106-43aa-93ba-d1d66fa8dcf8"
      },
      "outputs": [
        {
          "name": "stdout",
          "output_type": "stream",
          "text": [
            "Length in characters: 1038397\n"
          ]
        }
      ],
      "source": [
        "# Length of the file in characters.\n",
        "print(f\"Length in characters: {len(text)}\")"
      ]
    },
    {
      "cell_type": "code",
      "execution_count": 4,
      "metadata": {
        "colab": {
          "base_uri": "https://localhost:8080/"
        },
        "id": "nn0dQmzt9-pA",
        "outputId": "b40c8003-b5bd-48ef-f004-75ed071ce7ed"
      },
      "outputs": [
        {
          "name": "stdout",
          "output_type": "stream",
          "text": [
            " --- First 300 characters --- \n",
            "\n",
            " DON QUIJOTE DE LA MANCHA\n",
            "Miguel de Cervantes Saavedra\n",
            "\n",
            "PRIMERA PARTE\n",
            "CAPÍTULO 1: Que trata de la condición y ejercicio del famoso hidalgo D. Quijote de la Mancha\n",
            "En un lugar de la Mancha, de cuyo nombre no quiero acordarme, no ha mucho tiempo que vivía un hidalgo de los de lanza en astillero, ada\n"
          ]
        }
      ],
      "source": [
        "# Quick look at the first characters.\n",
        "first = 300\n",
        "print(f\" --- First {first} characters --- \\n\\n {text[:first]}\")"
      ]
    },
    {
      "cell_type": "markdown",
      "metadata": {
        "id": "03QZxIpO__Vc"
      },
      "source": [
        "# Tokenized Data"
      ]
    },
    {
      "cell_type": "code",
      "execution_count": 5,
      "metadata": {
        "colab": {
          "base_uri": "https://localhost:8080/"
        },
        "id": "y7X5w00m_2GN",
        "outputId": "23dbc0e8-572b-430b-de4b-101fb92f1692"
      },
      "outputs": [
        {
          "name": "stdout",
          "output_type": "stream",
          "text": [
            "['\\n', ' ', '!', '\"', \"'\", '(', ')', ',', '-', '.', '0', '1', '2', '3', '4', '5', '6', '7', '8', '9', ':', ';', '<', '?', 'A', 'B', 'C', 'D', 'E', 'F', 'G', 'H', 'I', 'J', 'K', 'L', 'M', 'N', 'O', 'P', 'Q', 'R', 'S', 'T', 'U', 'V', 'W', 'X', 'Y', 'Z', '[', ']', 'a', 'b', 'c', 'd', 'e', 'f', 'g', 'h', 'i', 'j', 'l', 'm', 'n', 'o', 'p', 'q', 'r', 's', 't', 'u', 'v', 'x', 'y', 'z', '¡', '«', '»', '¿', '̀', '́', '̃', '̈', '–', '‘', '’', '“', '”']\n",
            "89\n"
          ]
        }
      ],
      "source": [
        "# Language Models work with tokens.\n",
        "# They recieve a sequence of tokens (input) and they must return the most probable/appropriate next token (output).\n",
        "# A token can be a letter, a word or even sub-word (GTP-2) ...\n",
        "# In this case: token = character (keeping it easy). This kind of model it is formally called: character-level language model.\n",
        "# Our model will generate character sequences that look like the Quijote.\n",
        "\n",
        "# SO, we extract all the unique characters/tokens that our model will use from the dataset.\n",
        "unique_ch = sorted(list(set(str(text))))\n",
        "vocab_size = len(unique_ch)\n",
        "print(unique_ch)\n",
        "print(vocab_size)"
      ]
    },
    {
      "cell_type": "code",
      "execution_count": 7,
      "metadata": {
        "colab": {
          "base_uri": "https://localhost:8080/"
        },
        "id": "XSOtjCLujoix",
        "outputId": "a6b91e85-d90f-4888-cc39-95282afc9681"
      },
      "outputs": [
        {
          "name": "stdout",
          "output_type": "stream",
          "text": [
            "------------------------------------\n",
            "Character: ['\\n']\n",
            "Interpreted as: \n",
            "\n",
            "Example of use:\n",
            "QUIJOTE DE LA MANCHA\n",
            "Miguel de Cervantes\n",
            "\n",
            "------------------------------------\n",
            "Character: [' ']\n",
            "Interpreted as:  \n",
            "Example of use:\n",
            "\n",
            "\n",
            "------------------------------------\n",
            "Character: ['!']\n",
            "Interpreted as: !\n",
            "Example of use:\n",
            "ar nombre de su dama! Y fue, a lo que se\n",
            "\n",
            "------------------------------------\n",
            "Character: ['\"']\n",
            "Interpreted as: \"\n",
            "Example of use:\n",
            "na, de esta manera? \"Apenas había el ru\n",
            "\n",
            "------------------------------------\n",
            "Character: [\"'\"]\n",
            "Interpreted as: '\n",
            "Example of use:\n",
            "do voces, diciendo: ''Éste es el Caball\n",
            "\n",
            "------------------------------------\n",
            "Character: ['(']\n",
            "Interpreted as: (\n",
            "Example of use:\n",
            "e Quijada o Quesada (que en esto hay alg\n",
            "\n",
            "------------------------------------\n",
            "Character: [')']\n",
            "Interpreted as: )\n",
            "Example of use:\n",
            " deste caso escriben), aunque por conjet\n",
            "\n",
            "------------------------------------\n",
            "Character: [',']\n",
            "Interpreted as: ,\n",
            "Example of use:\n",
            "n lugar de la Mancha, de cuyo nombre no \n",
            "\n",
            "------------------------------------\n",
            "Character: ['-']\n",
            "Interpreted as: -\n",
            "Example of use:\n",
            "compañero le dijo: - Paréceme, señor \n",
            "\n",
            "------------------------------------\n",
            "Character: ['.']\n",
            "Interpreted as: .\n",
            "Example of use:\n",
            "del famoso hidalgo D. Quijote de la Manc\n",
            "\n",
            "------------------------------------\n",
            "Character: ['0']\n",
            "Interpreted as: 0\n",
            "Example of use:\n",
            "erecido.\n",
            "Capítulo 10: De los graciosos \n",
            "\n",
            "------------------------------------\n",
            "Character: ['1']\n",
            "Interpreted as: 1\n",
            "Example of use:\n",
            "ERA PARTE\n",
            "CAPÍTULO 1: Que trata de la c\n",
            "\n",
            "------------------------------------\n",
            "Character: ['2']\n",
            "Interpreted as: 2\n",
            "Example of use:\n",
            "a puesto.\n",
            "Capítulo 2: Que trata de la p\n",
            "\n",
            "------------------------------------\n",
            "Character: ['3']\n",
            "Interpreted as: 3\n",
            "Example of use:\n",
            "allería.\n",
            "Capítulo 3: Donde se cuenta l\n",
            "\n",
            "------------------------------------\n",
            "Character: ['4']\n",
            "Interpreted as: 4\n",
            "Example of use:\n",
            "ena hora.\n",
            "Capítulo 4: De lo que le suce\n",
            "\n",
            "------------------------------------\n",
            "Character: ['5']\n",
            "Interpreted as: 5\n",
            "Example of use:\n",
            "l cuerpo.\n",
            "Capítulo 5: Donde se prosigue\n",
            "\n",
            "------------------------------------\n",
            "Character: ['6']\n",
            "Interpreted as: 6\n",
            "Example of use:\n",
            " Quijote.\n",
            "Capítulo 6: Del donoso y gran\n",
            "\n",
            "------------------------------------\n",
            "Character: ['7']\n",
            "Interpreted as: 7\n",
            "Example of use:\n",
            "e Ovidio.\n",
            "Capítulo 7: De la segunda sal\n",
            "\n",
            "------------------------------------\n",
            "Character: ['8']\n",
            "Interpreted as: 8\n",
            "Example of use:\n",
            "a llevar.\n",
            "Capítulo 8: Del buen suceso q\n",
            "\n",
            "------------------------------------\n",
            "Character: ['9']\n",
            "Interpreted as: 9\n",
            "Example of use:\n",
            "apítulo.\n",
            "Capítulo 9: Donde se concluye\n",
            "\n",
            "------------------------------------\n",
            "Character: [':']\n",
            "Interpreted as: :\n",
            "Example of use:\n",
            "RA PARTE\n",
            "CAPÍTULO 1: Que trata de la co\n",
            "\n",
            "------------------------------------\n",
            "Character: [';']\n",
            "Interpreted as: ;\n",
            "Example of use:\n",
            "es, enjuto de rostro; gran madrugador y \n",
            "\n",
            "------------------------------------\n",
            "Character: ['<']\n",
            "Interpreted as: <\n",
            "Example of use:\n",
            " como vos temíades.<BR< riendo.\n",
            "Y de es\n",
            "\n",
            "------------------------------------\n",
            "Character: ['?']\n",
            "Interpreted as: ?\n",
            "Example of use:\n",
            " de mí a su talante? ¡Oh, cómo se holg\n",
            "\n",
            "------------------------------------\n",
            "Character: ['A']\n",
            "Interpreted as: A\n",
            "Example of use:\n",
            "\n",
            "\n",
            "------------------------------------\n",
            "Character: ['B']\n",
            "Interpreted as: B\n",
            "Example of use:\n",
            "las heridas que don Belianis daba y reci\n",
            "\n",
            "------------------------------------\n",
            "Character: ['C']\n",
            "Interpreted as: C\n",
            "Example of use:\n",
            "ON QUIJOTE DE LA MANCHA\n",
            "Miguel de Cervan\n",
            "\n",
            "------------------------------------\n",
            "Character: ['D']\n",
            "Interpreted as: D\n",
            "Example of use:\n",
            "\n",
            "\n",
            "------------------------------------\n",
            "Character: ['E']\n",
            "Interpreted as: E\n",
            "Example of use:\n",
            "\n",
            "\n",
            "------------------------------------\n",
            "Character: ['F']\n",
            "Interpreted as: F\n",
            "Example of use:\n",
            "tomaba la podadera. Frisaba la edad de n\n",
            "\n",
            "------------------------------------\n",
            "Character: ['G']\n",
            "Interpreted as: G\n",
            "Example of use:\n",
            "aterra o Amadís de Gaula; mas maese Nic\n",
            "\n",
            "------------------------------------\n",
            "Character: ['H']\n",
            "Interpreted as: H\n",
            "Example of use:\n",
            "N QUIJOTE DE LA MANCHA\n",
            "Miguel de Cervant\n",
            "\n",
            "------------------------------------\n",
            "Character: ['I']\n",
            "Interpreted as: I\n",
            "Example of use:\n",
            "\n",
            "\n",
            "------------------------------------\n",
            "Character: ['J']\n",
            "Interpreted as: J\n",
            "Example of use:\n",
            "\n",
            "\n",
            "------------------------------------\n",
            "Character: ['K']\n",
            "Interpreted as: K\n",
            "Example of use:\n",
            "os. Aquí está don Kirieleison de Monta\n",
            "\n",
            "------------------------------------\n",
            "Character: ['L']\n",
            "Interpreted as: L\n",
            "Example of use:\n",
            "\n",
            "\n",
            "------------------------------------\n",
            "Character: ['M']\n",
            "Interpreted as: M\n",
            "Example of use:\n",
            "\n",
            "\n",
            "------------------------------------\n",
            "Character: ['N']\n",
            "Interpreted as: N\n",
            "Example of use:\n",
            "\n",
            "\n",
            "------------------------------------\n",
            "Character: ['O']\n",
            "Interpreted as: O\n",
            "Example of use:\n",
            "\n",
            "\n",
            "------------------------------------\n",
            "Character: ['P']\n",
            "Interpreted as: P\n",
            "Example of use:\n",
            "Cervantes Saavedra\n",
            "\n",
            "PRIMERA PARTE\n",
            "CAPÍT\n",
            "\n",
            "------------------------------------\n",
            "Character: ['Q']\n",
            "Interpreted as: Q\n",
            "Example of use:\n",
            "\n",
            "\n",
            "------------------------------------\n",
            "Character: ['R']\n",
            "Interpreted as: R\n",
            "Example of use:\n",
            "ervantes Saavedra\n",
            "\n",
            "PRIMERA PARTE\n",
            "CAPÍTU\n",
            "\n",
            "------------------------------------\n",
            "Character: ['S']\n",
            "Interpreted as: S\n",
            "Example of use:\n",
            "Miguel de Cervantes Saavedra\n",
            "\n",
            "PRIMERA PA\n",
            "\n",
            "------------------------------------\n",
            "Character: ['T']\n",
            "Interpreted as: T\n",
            "Example of use:\n",
            "\n",
            "\n",
            "------------------------------------\n",
            "Character: ['U']\n",
            "Interpreted as: U\n",
            "Example of use:\n",
            "\n",
            "\n",
            "------------------------------------\n",
            "Character: ['V']\n",
            "Interpreted as: V\n",
            "Example of use:\n",
            "n mucha abundancia. Viendo Don Quijote l\n",
            "\n",
            "------------------------------------\n",
            "Character: ['W']\n",
            "Interpreted as: W\n",
            "Example of use:\n",
            ", en tiempo del rey Wamba. No consintió\n",
            "\n",
            "------------------------------------\n",
            "Character: ['X']\n",
            "Interpreted as: X\n",
            "Example of use:\n",
            "cito, verdadero. La X no le cuadra, porq\n",
            "\n",
            "------------------------------------\n",
            "Character: ['Y']\n",
            "Interpreted as: Y\n",
            "Example of use:\n",
            "cto lo que deseaba. Y lo primero que hiz\n",
            "\n",
            "------------------------------------\n",
            "Character: ['Z']\n",
            "Interpreted as: Z\n",
            "Example of use:\n",
            "res y Desengaño de Zelos.\n",
            "Pues no hay m\n",
            "\n",
            "------------------------------------\n",
            "Character: ['[']\n",
            "Interpreted as: [\n",
            "Example of use:\n",
            " que estaba junto a [él], sí; y así, \n",
            "\n",
            "------------------------------------\n",
            "Character: [']']\n",
            "Interpreted as: ]\n",
            "Example of use:\n",
            " estaba junto a [él], sí; y así, el b\n",
            "\n",
            "------------------------------------\n",
            "Character: ['a']\n",
            "Interpreted as: a\n",
            "Example of use:\n",
            "ANCHA\n",
            "Miguel de Cervantes Saavedra\n",
            "\n",
            "PRIM\n",
            "\n",
            "------------------------------------\n",
            "Character: ['b']\n",
            "Interpreted as: b\n",
            "Example of use:\n",
            " Mancha, de cuyo nombre no quiero acorda\n",
            "\n",
            "------------------------------------\n",
            "Character: ['c']\n",
            "Interpreted as: c\n",
            "Example of use:\n",
            " 1: Que trata de la condición y ejercic\n",
            "\n",
            "------------------------------------\n",
            "Character: ['d']\n",
            "Interpreted as: d\n",
            "Example of use:\n",
            "DE LA MANCHA\n",
            "Miguel de Cervantes Saavedr\n",
            "\n",
            "------------------------------------\n",
            "Character: ['e']\n",
            "Interpreted as: e\n",
            "Example of use:\n",
            "TE DE LA MANCHA\n",
            "Miguel de Cervantes Saav\n",
            "\n",
            "------------------------------------\n",
            "Character: ['f']\n",
            "Interpreted as: f\n",
            "Example of use:\n",
            "ón y ejercicio del famoso hidalgo D. Qu\n",
            "\n",
            "------------------------------------\n",
            "Character: ['g']\n",
            "Interpreted as: g\n",
            "Example of use:\n",
            "JOTE DE LA MANCHA\n",
            "Miguel de Cervantes Sa\n",
            "\n",
            "------------------------------------\n",
            "Character: ['h']\n",
            "Interpreted as: h\n",
            "Example of use:\n",
            "jercicio del famoso hidalgo D. Quijote d\n",
            "\n",
            "------------------------------------\n",
            "Character: ['i']\n",
            "Interpreted as: i\n",
            "Example of use:\n",
            "IJOTE DE LA MANCHA\n",
            "Miguel de Cervantes S\n",
            "\n",
            "------------------------------------\n",
            "Character: ['j']\n",
            "Interpreted as: j\n",
            "Example of use:\n",
            "de la condición y ejercicio del famoso \n",
            "\n",
            "------------------------------------\n",
            "Character: ['l']\n",
            "Interpreted as: l\n",
            "Example of use:\n",
            "E DE LA MANCHA\n",
            "Miguel de Cervantes Saave\n",
            "\n",
            "------------------------------------\n",
            "Character: ['m']\n",
            "Interpreted as: m\n",
            "Example of use:\n",
            "n y ejercicio del famoso hidalgo D. Quij\n",
            "\n",
            "------------------------------------\n",
            "Character: ['n']\n",
            "Interpreted as: n\n",
            "Example of use:\n",
            "NCHA\n",
            "Miguel de Cervantes Saavedra\n",
            "\n",
            "PRIME\n",
            "\n",
            "------------------------------------\n",
            "Character: ['o']\n",
            "Interpreted as: o\n",
            "Example of use:\n",
            "1: Que trata de la condición y ejercici\n",
            "\n",
            "------------------------------------\n",
            "Character: ['p']\n",
            "Interpreted as: p\n",
            "Example of use:\n",
            "me, no ha mucho tiempo que vivía un hid\n",
            "\n",
            "------------------------------------\n",
            "Character: ['q']\n",
            "Interpreted as: q\n",
            "Example of use:\n",
            ", de cuyo nombre no quiero acordarme, no\n",
            "\n",
            "------------------------------------\n",
            "Character: ['r']\n",
            "Interpreted as: r\n",
            "Example of use:\n",
            " MANCHA\n",
            "Miguel de Cervantes Saavedra\n",
            "\n",
            "PR\n",
            "\n",
            "------------------------------------\n",
            "Character: ['s']\n",
            "Interpreted as: s\n",
            "Example of use:\n",
            "A\n",
            "Miguel de Cervantes Saavedra\n",
            "\n",
            "PRIMERA \n",
            "\n",
            "------------------------------------\n",
            "Character: ['t']\n",
            "Interpreted as: t\n",
            "Example of use:\n",
            "CHA\n",
            "Miguel de Cervantes Saavedra\n",
            "\n",
            "PRIMER\n",
            "\n",
            "------------------------------------\n",
            "Character: ['u']\n",
            "Interpreted as: u\n",
            "Example of use:\n",
            "OTE DE LA MANCHA\n",
            "Miguel de Cervantes Saa\n",
            "\n",
            "------------------------------------\n",
            "Character: ['v']\n",
            "Interpreted as: v\n",
            "Example of use:\n",
            "MANCHA\n",
            "Miguel de Cervantes Saavedra\n",
            "\n",
            "PRI\n",
            "\n",
            "------------------------------------\n",
            "Character: ['x']\n",
            "Interpreted as: x\n",
            "Example of use:\n",
            "años, era de complexión recia, seco de\n",
            "\n",
            "------------------------------------\n",
            "Character: ['y']\n",
            "Interpreted as: y\n",
            "Example of use:\n",
            "ta de la condición y ejercicio del famo\n",
            "\n",
            "------------------------------------\n",
            "Character: ['z']\n",
            "Interpreted as: z\n",
            "Example of use:\n",
            "idalgo de los de lanza en astillero, ada\n",
            "\n",
            "------------------------------------\n",
            "Character: ['¡']\n",
            "Interpreted as: ¡\n",
            "Example of use:\n",
            "e mí a su talante? ¡Oh, cómo se holgó\n",
            "\n",
            "------------------------------------\n",
            "Character: ['«']\n",
            "Interpreted as: «\n",
            "Example of use:\n",
            " el cabrero– es que «habrá al pie de se\n",
            "\n",
            "------------------------------------\n",
            "Character: ['»']\n",
            "Interpreted as: »\n",
            "Example of use:\n",
            "icia de su desgracia». Esto es, señores\n",
            "\n",
            "------------------------------------\n",
            "Character: ['¿']\n",
            "Interpreted as: ¿\n",
            "Example of use:\n",
            "e venzo y le rindo, ¿no será bien tener\n",
            "\n",
            "------------------------------------\n",
            "Character: ['̀']\n",
            "Interpreted as: ̀\n",
            "Example of use:\n",
            "\n",
            "Forse altri canterà con miglior plettr\n",
            "\n",
            "------------------------------------\n",
            "Character: ['́']\n",
            "Interpreted as: ́\n",
            "Example of use:\n",
            "\n",
            "\n",
            "PRIMERA PARTE\n",
            "CAPÍTULO 1: Que trata d\n",
            "\n",
            "------------------------------------\n",
            "Character: ['̃']\n",
            "Interpreted as: ̃\n",
            "Example of use:\n",
            "lgún palomino de añadidura los domingo\n",
            "\n",
            "------------------------------------\n",
            "Character: ['̈']\n",
            "Interpreted as: ̈\n",
            "Example of use:\n",
            "cto graduado en Sigüenza), sobre cuál \n",
            "\n",
            "------------------------------------\n",
            "Character: ['–']\n",
            "Interpreted as: –\n",
            "Example of use:\n",
            "a Sancho y le dijo:\n",
            "–Paréceme, Sancho, \n",
            "\n",
            "------------------------------------\n",
            "Character: ['‘']\n",
            "Interpreted as: ‘\n",
            "Example of use:\n",
            "o hacía, diciendo: ‘‘¡Ah, fementido Fer\n",
            "\n",
            "------------------------------------\n",
            "Character: ['’']\n",
            "Interpreted as: ’\n",
            "Example of use:\n",
            "fraude y el engaño!’’ Y a éstas añadi\n",
            "\n",
            "------------------------------------\n",
            "Character: ['“']\n",
            "Interpreted as: “\n",
            "Example of use:\n",
            "tre peras, y decir: “éste quiero, aqué\n",
            "\n",
            "------------------------------------\n",
            "Character: ['”']\n",
            "Interpreted as: ”\n",
            "Example of use:\n",
            ", aquéste no quiero”» Mas ella le respo\n",
            "\n"
          ]
        }
      ],
      "source": [
        "# Let's check an example of use of every character.\n",
        "\n",
        "# Special attention to strange characters like: `, ´, ~ and ¨.\n",
        "# These symbols transform the sound of the previous letter.\n",
        "# We could think about to considering every combination letter-special symbol as a character,\n",
        "# but we'll be optimistic and maybe our model learns where to place them.\n",
        "\n",
        "# '<' is a mistake in the dataset. We must keep it for the tokenization.\n",
        "for c in unique_ch:\n",
        "  print(f\"------------------------------------\")\n",
        "  print(f\"Character: {list(c)}\")\n",
        "  print(f\"Interpreted as: {c}\")\n",
        "  print(f\"Example of use:\\n{text[text.find(c)-20:text.find(c)+20]}\\n\")"
      ]
    },
    {
      "cell_type": "code",
      "execution_count": 6,
      "metadata": {
        "colab": {
          "base_uri": "https://localhost:8080/"
        },
        "id": "PjZ696Vud3v9",
        "outputId": "587edb18-98eb-4d61-ed2d-7db5d398baf3"
      },
      "outputs": [
        {
          "name": "stdout",
          "output_type": "stream",
          "text": [
            "Hello World! -->  [31, 56, 62, 62, 65, 1, 46, 65, 68, 62, 55, 2]\n",
            "[31, 56, 62, 62, 65, 1, 46, 65, 68, 62, 55, 2]  -->  Hello World!\n"
          ]
        }
      ],
      "source": [
        "# Now we tokenize the dataset.\n",
        "\n",
        "# ------ FUNCTIONS NEEDED\n",
        "\n",
        "# Map every token (in this case a character) to an intenger.\n",
        "stoi = { c:i for i,c in enumerate(unique_ch) } # string to int list\n",
        "itos = { i:c for i,c in enumerate(unique_ch) } # int list to string\n",
        "\n",
        "# Transforms string to int list\n",
        "encode = lambda s: [stoi[c] for c in s]\n",
        "\n",
        "# Transforms int list to string\n",
        "decode = lambda l: ''.join([itos[i] for i in l])\n",
        "\n",
        "# Examples of use\n",
        "print(\"Hello World! --> \", encode(\"Hello World!\"))\n",
        "print(encode(\"Hello World!\"), \" --> \", decode(encode(\"Hello World!\")))"
      ]
    },
    {
      "cell_type": "code",
      "execution_count": 7,
      "metadata": {
        "colab": {
          "base_uri": "https://localhost:8080/"
        },
        "id": "C4f0B-og0pNy",
        "outputId": "a84be2ad-86d9-460a-9f0f-d73c10ad909c"
      },
      "outputs": [
        {
          "name": "stdout",
          "output_type": "stream",
          "text": [
            "torch.Size([1038397]) \n",
            "\n",
            "tensor([27, 38, 37,  1, 40, 44, 32, 33, 38, 43, 28,  1, 27, 28,  1, 35, 24,  1,\n",
            "        36, 24, 37, 26, 31, 24,  0, 36, 60, 58, 71, 56, 62,  1, 55, 56,  1, 26,\n",
            "        56, 68, 72, 52, 64, 70, 56, 69,  1, 42, 52, 52, 72, 56, 55, 68, 52,  0,\n",
            "         0, 39, 41, 32, 36, 28, 41, 24,  1, 39, 24, 41, 43, 28,  0, 26, 24, 39,\n",
            "        32, 81, 43, 44, 35, 38,  1, 11, 20,  1, 40, 71, 56,  1, 70, 68, 52, 70,\n",
            "        52,  1, 55, 56,  1, 62, 52,  1, 54, 65]) \n",
            "\n",
            "DON QUIJOTE DE LA MANCHA\n",
            "Miguel de Cervantes Saavedra\n",
            "\n",
            "PRIMERA PARTE\n",
            "CAPÍTULO 1: Que trata de la co\n"
          ]
        }
      ],
      "source": [
        "# Using PyTorch, actual tokenization of the dataset.\n",
        "# Why Pytorch? It handles backpropagation, creation of dataloaders ... Automatically\n",
        "tokanized_text = torch.tensor(encode(text), dtype=torch.int64)\n",
        "# Tantos números como caracteres\n",
        "print(tokanized_text.shape, '\\n')\n",
        "# Codificación y decodificación de los primeros 100.\n",
        "print(tokanized_text[:100], '\\n')\n",
        "print(decode(tokanized_text[:100].tolist()))"
      ]
    },
    {
      "cell_type": "markdown",
      "metadata": {
        "id": "SoE6wJES5B75"
      },
      "source": [
        "# Train/Validation Split"
      ]
    },
    {
      "cell_type": "code",
      "execution_count": 8,
      "metadata": {
        "id": "dUlyESjZ5HV9"
      },
      "outputs": [],
      "source": [
        "# We don't want the model to memorize, better said overfit, the training data, so ...\n",
        "# During the optimization process, we'll also evaluate the model (value parameters) on samples it hasn't seen, the validation set.\n",
        "# If the loss function diverges for the validation set, we are overfitting the training set and we must stop.\n",
        "\n",
        "p = 0.9 # p % train | (1-p) % validation\n",
        "n = int(len(tokanized_text)*p)\n",
        "train_data = tokanized_text[:n]\n",
        "val_data = tokanized_text[n:]"
      ]
    },
    {
      "cell_type": "markdown",
      "metadata": {
        "id": "T4Zjwya98ksL"
      },
      "source": [
        "# Manually creating Inputs and Labels"
      ]
    },
    {
      "cell_type": "code",
      "execution_count": 9,
      "metadata": {
        "colab": {
          "base_uri": "https://localhost:8080/"
        },
        "id": "Rei-FqZQ6q0T",
        "outputId": "51e2fca6-f3da-41a4-963f-665e8fda7067"
      },
      "outputs": [
        {
          "name": "stdout",
          "output_type": "stream",
          "text": [
            "For the input [27], the output is 38\n",
            "For the input D, the output is O\n",
            "For the input [27, 38], the output is 37\n",
            "For the input DO, the output is N\n",
            "For the input [27, 38, 37], the output is 1\n",
            "For the input DON, the output is  \n",
            "For the input [27, 38, 37, 1], the output is 40\n",
            "For the input DON , the output is Q\n",
            "For the input [27, 38, 37, 1, 40], the output is 44\n",
            "For the input DON Q, the output is U\n",
            "For the input [27, 38, 37, 1, 40, 44], the output is 32\n",
            "For the input DON QU, the output is I\n",
            "For the input [27, 38, 37, 1, 40, 44, 32], the output is 33\n",
            "For the input DON QUI, the output is J\n",
            "For the input [27, 38, 37, 1, 40, 44, 32, 33], the output is 38\n",
            "For the input DON QUIJ, the output is O\n"
          ]
        }
      ],
      "source": [
        "# Now, we manually create an inputs (sequence of tokens) and targets/labels (single token).\n",
        "\n",
        "# The model will be feed with a sequence of tokens (block_size+1 tokens).\n",
        "# From this sequence of tokens, the model will generate block_size inputs and labels to train with.\n",
        "# The lenght (better known as context) of these sub-inputs will vary from 1 to block_size. This way, the transformer will learn what to generate from only one token, two tokens ...\n",
        "# DO NOT confuse this group of inputs with a batch of inputs. Every sample/sequence of the batch generates block_size input/output.\n",
        "\n",
        "# This is a toy example of a x-y (input-label) that could be feeded to the transformer.\n",
        "# We also print w\n",
        "block_size = 8\n",
        "x = train_data[0:block_size]\n",
        "y = train_data[1:block_size+1]\n",
        "for t in range(block_size):\n",
        "  context = x[0:t+1]\n",
        "  target = y[t]\n",
        "  print(f\"For the input {context.tolist()}, the output is {target.tolist()}\")\n",
        "  print(f\"For the input {decode(context.tolist())}, the output is {decode([target.tolist()])}\")"
      ]
    },
    {
      "cell_type": "code",
      "execution_count": 10,
      "metadata": {
        "colab": {
          "base_uri": "https://localhost:8080/"
        },
        "id": "jNiAGsgi-V40",
        "outputId": "12dedace-d75f-47ed-bbc1-2a2742e2ef8c"
      },
      "outputs": [
        {
          "name": "stdout",
          "output_type": "stream",
          "text": [
            "Amnesia hitting hard ... For the input [38, 37, 1, 40, 44, 32, 33, 38], the output is 43\n",
            "Amnesia hitting hard ... For the input ON QUIJO, the output is T\n",
            "Amnesia hitting hard ... For the input [37, 1, 40, 44, 32, 33, 38, 43], the output is 28\n",
            "Amnesia hitting hard ... For the input N QUIJOT, the output is E\n",
            "Amnesia hitting hard ... For the input [1, 40, 44, 32, 33, 38, 43, 28], the output is 1\n",
            "Amnesia hitting hard ... For the input  QUIJOTE, the output is  \n"
          ]
        }
      ],
      "source": [
        "# In the future, if the input is bigger than the maximum context length the model will ignore/forget the beggining to make its prediction. Only the last block_size tokens will be considered.\n",
        "for t in range(block_size, block_size+3):\n",
        "  context = train_data[(t+1)-block_size:t+1]\n",
        "  target = train_data[t+1]\n",
        "  print(f\"Amnesia hitting hard ... For the input {context.tolist()}, the output is {target.tolist()}\")\n",
        "  print(f\"Amnesia hitting hard ... For the input {decode(context.tolist())}, the output is {decode([target.tolist()])}\")"
      ]
    },
    {
      "cell_type": "markdown",
      "metadata": {
        "id": "faKy7A6KHTPE"
      },
      "source": [
        "# Manually creating a Batch"
      ]
    },
    {
      "cell_type": "code",
      "execution_count": 11,
      "metadata": {
        "id": "BWBHNNWJHSR8"
      },
      "outputs": [],
      "source": [
        "# Several sequences of block_size tokens (batch of sequences) are feed at the same time to the model.\n",
        "# Take advantage of SBGD (Stocastic Batch Gradiente Descend).\n",
        "# Squeeze the paralelization that the transformer allows.\n",
        "\n",
        "batch_size = 4 # Number of independent sequences process on parallel\n",
        "block_size = 8 # Maximun context length\n",
        "\n",
        "def get_batch(split, batch_size):\n",
        "  # Generate a batch of data of inputs x and targets y.\n",
        "  # Keep in mind that this method does not care about repeated x-y.\n",
        "  # The same x-y could be repeated (more than once) in the batch.\n",
        "  # The same x-y could be repeated in other batch.\n",
        "  if split == 'train':\n",
        "    data = train_data\n",
        "  else:\n",
        "    data = val_data\n",
        "  # Generate a random index for every input\n",
        "  ix = torch.randint(len(data)-block_size, (batch_size,))\n",
        "  # Generate the corresponding x and y\n",
        "  x = []\n",
        "  y = []\n",
        "  for i in ix:\n",
        "    x.append(data[i:i+block_size])\n",
        "    y.append(data[i+1:i+block_size+1])\n",
        "  x = torch.stack(x)\n",
        "  y = torch.stack(y)\n",
        "\n",
        "  return x, y"
      ]
    },
    {
      "cell_type": "code",
      "execution_count": 14,
      "metadata": {
        "colab": {
          "base_uri": "https://localhost:8080/"
        },
        "id": "aYap9cPMI_Wm",
        "outputId": "372ccb7c-1327-4574-b83e-a2f2669cce7f"
      },
      "outputs": [
        {
          "name": "stdout",
          "output_type": "stream",
          "text": [
            "------ Inputs:\n",
            "torch.Size([4, 8])\n",
            "tensor([[64, 65,  1, 52, 62,  1, 68, 71],\n",
            "        [ 1, 74,  1, 67, 71, 56, 81,  1],\n",
            "        [63, 71, 54, 59, 65,  1, 54, 65],\n",
            "        [64, 60, 56, 68, 56, 21,  1, 66]])\n",
            "['no al ru', ' y qué ', 'mucho co', 'niere; p']\n",
            "\n",
            "------ Targets:\n",
            "torch.Size([4, 8])\n",
            "tensor([[65,  1, 52, 62,  1, 68, 71, 60],\n",
            "        [74,  1, 67, 71, 56, 81,  1, 66],\n",
            "        [71, 54, 59, 65,  1, 54, 65, 64],\n",
            "        [60, 56, 68, 56, 21,  1, 66, 65]])\n",
            "['o al rui', 'y qué p', 'ucho con', 'iere; po']\n",
            "\n",
            "------ What will the transformer use to train?\n",
            "\n",
            "From the 0 sequence of the batch.\n",
            "For the input [64], the output is 65\n",
            "For the input [n], the output is [o]\n",
            "For the input [64, 65], the output is 1\n",
            "For the input [no], the output is [ ]\n",
            "For the input [64, 65, 1], the output is 52\n",
            "For the input [no ], the output is [a]\n",
            "For the input [64, 65, 1, 52], the output is 62\n",
            "For the input [no a], the output is [l]\n",
            "For the input [64, 65, 1, 52, 62], the output is 1\n",
            "For the input [no al], the output is [ ]\n",
            "For the input [64, 65, 1, 52, 62, 1], the output is 68\n",
            "For the input [no al ], the output is [r]\n",
            "For the input [64, 65, 1, 52, 62, 1, 68], the output is 71\n",
            "For the input [no al r], the output is [u]\n",
            "For the input [64, 65, 1, 52, 62, 1, 68, 71], the output is 60\n",
            "For the input [no al ru], the output is [i]\n",
            "\n",
            "From the 1 sequence of the batch.\n",
            "For the input [1], the output is 74\n",
            "For the input [ ], the output is [y]\n",
            "For the input [1, 74], the output is 1\n",
            "For the input [ y], the output is [ ]\n",
            "For the input [1, 74, 1], the output is 67\n",
            "For the input [ y ], the output is [q]\n",
            "For the input [1, 74, 1, 67], the output is 71\n",
            "For the input [ y q], the output is [u]\n",
            "For the input [1, 74, 1, 67, 71], the output is 56\n",
            "For the input [ y qu], the output is [e]\n",
            "For the input [1, 74, 1, 67, 71, 56], the output is 81\n",
            "For the input [ y que], the output is [́]\n",
            "For the input [1, 74, 1, 67, 71, 56, 81], the output is 1\n",
            "For the input [ y qué], the output is [ ]\n",
            "For the input [1, 74, 1, 67, 71, 56, 81, 1], the output is 66\n",
            "For the input [ y qué ], the output is [p]\n",
            "\n",
            "From the 2 sequence of the batch.\n",
            "For the input [63], the output is 71\n",
            "For the input [m], the output is [u]\n",
            "For the input [63, 71], the output is 54\n",
            "For the input [mu], the output is [c]\n",
            "For the input [63, 71, 54], the output is 59\n",
            "For the input [muc], the output is [h]\n",
            "For the input [63, 71, 54, 59], the output is 65\n",
            "For the input [much], the output is [o]\n",
            "For the input [63, 71, 54, 59, 65], the output is 1\n",
            "For the input [mucho], the output is [ ]\n",
            "For the input [63, 71, 54, 59, 65, 1], the output is 54\n",
            "For the input [mucho ], the output is [c]\n",
            "For the input [63, 71, 54, 59, 65, 1, 54], the output is 65\n",
            "For the input [mucho c], the output is [o]\n",
            "For the input [63, 71, 54, 59, 65, 1, 54, 65], the output is 64\n",
            "For the input [mucho co], the output is [n]\n",
            "\n",
            "From the 3 sequence of the batch.\n",
            "For the input [64], the output is 60\n",
            "For the input [n], the output is [i]\n",
            "For the input [64, 60], the output is 56\n",
            "For the input [ni], the output is [e]\n",
            "For the input [64, 60, 56], the output is 68\n",
            "For the input [nie], the output is [r]\n",
            "For the input [64, 60, 56, 68], the output is 56\n",
            "For the input [nier], the output is [e]\n",
            "For the input [64, 60, 56, 68, 56], the output is 21\n",
            "For the input [niere], the output is [;]\n",
            "For the input [64, 60, 56, 68, 56, 21], the output is 1\n",
            "For the input [niere;], the output is [ ]\n",
            "For the input [64, 60, 56, 68, 56, 21, 1], the output is 66\n",
            "For the input [niere; ], the output is [p]\n",
            "For the input [64, 60, 56, 68, 56, 21, 1, 66], the output is 65\n",
            "For the input [niere; p], the output is [o]\n",
            "\n"
          ]
        }
      ],
      "source": [
        "# Example\n",
        "torch.manual_seed(1234)\n",
        "xb, yb = get_batch('train', batch_size=4)\n",
        "\n",
        "print('------ Inputs:')\n",
        "print(xb.shape)\n",
        "print(xb)\n",
        "print([decode(x.tolist()) for x in xb])\n",
        "\n",
        "print('\\n------ Targets:')\n",
        "print(yb.shape)\n",
        "print(yb)\n",
        "print([decode(t.tolist()) for t in yb])\n",
        "\n",
        "print('\\n------ What will the transformer use to train?\\n')\n",
        "for b in range(batch_size):\n",
        "  print(f\"From the {b} sequence of the batch.\")\n",
        "  for t in range(block_size):\n",
        "    context = xb[b, 0:t+1]\n",
        "    target = yb[b, t]\n",
        "    print(f\"For the input {context.tolist()}, the output is {target.tolist()}\")\n",
        "    print(f\"For the input [{decode(context.tolist())}], the output is [{decode([target.tolist()])}]\")\n",
        "  print('')"
      ]
    },
    {
      "cell_type": "code",
      "execution_count": 12,
      "metadata": {
        "colab": {
          "base_uri": "https://localhost:8080/"
        },
        "id": "yg5ZpqwQZg8I",
        "outputId": "f742f55c-06e7-4868-9624-a1ffa6bbdfed"
      },
      "outputs": [
        {
          "name": "stdout",
          "output_type": "stream",
          "text": [
            "------ Inputs:\n"
          ]
        },
        {
          "ename": "NameError",
          "evalue": "name 'xb' is not defined",
          "output_type": "error",
          "traceback": [
            "\u001b[1;31m---------------------------------------------------------------------------\u001b[0m",
            "\u001b[1;31mNameError\u001b[0m                                 Traceback (most recent call last)",
            "\u001b[1;32mc:\\Users\\Palenzuela\\Downloads\\Eternal_Quijote.ipynb Cell 22\u001b[0m line \u001b[0;36m2\n\u001b[0;32m      <a href='vscode-notebook-cell:/c%3A/Users/Palenzuela/Downloads/Eternal_Quijote.ipynb#X31sZmlsZQ%3D%3D?line=0'>1</a>\u001b[0m \u001b[39mprint\u001b[39m(\u001b[39m'\u001b[39m\u001b[39m------ Inputs:\u001b[39m\u001b[39m'\u001b[39m)\n\u001b[1;32m----> <a href='vscode-notebook-cell:/c%3A/Users/Palenzuela/Downloads/Eternal_Quijote.ipynb#X31sZmlsZQ%3D%3D?line=1'>2</a>\u001b[0m \u001b[39mprint\u001b[39m(xb\u001b[39m.\u001b[39mshape)\n\u001b[0;32m      <a href='vscode-notebook-cell:/c%3A/Users/Palenzuela/Downloads/Eternal_Quijote.ipynb#X31sZmlsZQ%3D%3D?line=2'>3</a>\u001b[0m \u001b[39mprint\u001b[39m(xb)\n\u001b[0;32m      <a href='vscode-notebook-cell:/c%3A/Users/Palenzuela/Downloads/Eternal_Quijote.ipynb#X31sZmlsZQ%3D%3D?line=3'>4</a>\u001b[0m \u001b[39mprint\u001b[39m([decode(x\u001b[39m.\u001b[39mtolist()) \u001b[39mfor\u001b[39;00m x \u001b[39min\u001b[39;00m xb])\n",
            "\u001b[1;31mNameError\u001b[0m: name 'xb' is not defined"
          ]
        }
      ],
      "source": [
        "print('------ Inputs:')\n",
        "print(xb.shape)\n",
        "print(xb)\n",
        "print([decode(x.tolist()) for x in xb])\n",
        "\n",
        "print('\\n------ Targets:')\n",
        "print(yb.shape)\n",
        "print(yb)\n",
        "print([decode(t.tolist()) for t in yb])"
      ]
    },
    {
      "cell_type": "markdown",
      "metadata": {
        "id": "jzhQIuUwWZBk"
      },
      "source": [
        "# First model: Biagram."
      ]
    },
    {
      "cell_type": "code",
      "execution_count": 16,
      "metadata": {
        "id": "V4mWTYtHNaSS"
      },
      "outputs": [],
      "source": [
        "import torch\n",
        "import torch.nn as nn\n",
        "from torch.nn import functional as F\n",
        "\n",
        "# First, we implement one of the simplest language models: the biagram model.\n",
        "class BigramLanguageModel(nn.Module):\n",
        "\n",
        "    def __init__(self, vocab_size):\n",
        "        super().__init__()\n",
        "        # Each token directly reads off the logits/scores for the next token from a lookup table (vocab_size logits).\n",
        "        # The i-th row gives the logits of every token given the i-th token (vocab_size logits).\n",
        "        # The token/column with the biggest logit/score is the one predicted next.\n",
        "        # The model optimizes the values of these lookup table. On a perfectly fitted model, the ij value correspond to how often the token j follow the token i on the dataset.\n",
        "        # The lookup table is matrix (vocab_size, vocad_size).\n",
        "        # The maximum context of this model is 1.\n",
        "        self.token_embedding_table = nn.Embedding(vocab_size, vocab_size)\n",
        "\n",
        "    def forward(self, idx, targets=None):\n",
        "        # idx(= batch input) and targets(=batch output) are both (B = batch_size, T = block_size) tensor of integers.\n",
        "        # For every token of the input, returns vocab_size values.\n",
        "        # So, vocab_size values for (batch_size, block_size) makes the dimension of the output: (B,T,C) -> (B=batch_size, T=block_size, C=vocab_size).\n",
        "\n",
        "\n",
        "        #                 IDX\n",
        "        #        _____________________\n",
        "        #       /\t\t                 /\n",
        "        #      /\t\t                /\n",
        "        #   \t/\t\t                 /   B = Batch Size\n",
        "        #    /\t\t                /\n",
        "        #   /____________________/\n",
        "        #\n",
        "        #        T = Block Size\n",
        "\n",
        "\n",
        "\n",
        "        #             LOGITS\n",
        "        #                         ____\n",
        "        #                        /___/\n",
        "        #                        |   |\n",
        "        #                        |   |  C = Vocab Size\n",
        "        #        _______________ |___|\n",
        "        #       /\t\t            /___ /\n",
        "        #      /\t\t                /\n",
        "        #   \t/\t\t                 /   B = Batch Size\n",
        "        #    /\t\t                /\n",
        "        #   /____________________/\n",
        "        #\n",
        "        #        T = Block Size\n",
        "\n",
        "        logits = self.token_embedding_table(idx)\n",
        "        # When just evaluating\n",
        "        if targets is None:\n",
        "            loss = None\n",
        "        # When training\n",
        "        else:\n",
        "            # Transformations \"needed\" for F.cross_entropy((batch_size, vocab_size),())\n",
        "            B, T, C = logits.shape\n",
        "            # Cross Entropy Loss\n",
        "            loss = F.cross_entropy(logits.view(B*T, C), targets.view(B*T))\n",
        "\n",
        "        return logits, loss\n",
        "\n",
        "    def generate(self, idx, max_new_tokens):\n",
        "      # idx is the input batch tensor (B, T) of tokens.\n",
        "      for _ in range(max_new_tokens):\n",
        "          # Get the predictions for idx --> (B, T, C)\n",
        "          logits, _ = self(idx)\n",
        "          # We are only interested in the predictions (C) for the last token (-1) of every input of the batch (B).\n",
        "          logits = logits[:, -1, :] # --> (B, C)\n",
        "          # Apply softmax to get probabilities\n",
        "          probs = F.softmax(logits, dim=-1) # --> (B, C)\n",
        "          # Sample the tokens using the distribution\n",
        "          idx_next = torch.multinomial(probs, num_samples=1) # (B, 1)\n",
        "          # Append sampled tokens to the running sequence\n",
        "          idx = torch.cat((idx, idx_next), dim=1) # (B, T+1)\n",
        "      # idx is now (B, T + max_new_tokens).\n",
        "      return idx"
      ]
    },
    {
      "cell_type": "markdown",
      "metadata": {
        "id": "_86I5ufUPLxE"
      },
      "source": [
        "## Generating before training (absolute non-sense)"
      ]
    },
    {
      "cell_type": "code",
      "execution_count": 17,
      "metadata": {
        "id": "piAYzicMdCJ8"
      },
      "outputs": [],
      "source": [
        "# Instantiate a model.\n",
        "# Initial values for the parameters are random.\n",
        "torch.manual_seed(1234)\n",
        "m = BigramLanguageModel(vocab_size = vocab_size)"
      ]
    },
    {
      "cell_type": "code",
      "execution_count": 18,
      "metadata": {
        "colab": {
          "base_uri": "https://localhost:8080/"
        },
        "id": "xSFbNcPcPKhV",
        "outputId": "f6ec8e2f-8aa0-4276-bea7-7f2e919f20f7"
      },
      "outputs": [
        {
          "name": "stdout",
          "output_type": "stream",
          "text": [
            "---- Generating sequence from ['\\n']:\n",
            "Encoded: tensor([[ 0, 71, 71, 67, 80, 53, 79, 15, 35, 29, 84, 87, 60, 26, 28, 10, 35, 69,\n",
            "         39, 51, 72,  5,  0, 73, 50, 10,  5, 13,  7, 46, 47,  0, 32, 38, 50, 29,\n",
            "          5, 74, 63,  3, 24, 11, 35, 76,  2, 49, 47, 58, 31, 74, 51,  9, 20, 84,\n",
            "         16, 40, 53,  9, 30, 17, 33, 84, 84,  4, 19, 77, 19, 45, 50, 50, 35,  3,\n",
            "         81, 13, 74, 63, 48, 73, 49, 67, 25, 78, 13, 24, 66, 74, 13, 74,  3, 41,\n",
            "         48, 25, 56, 29, 61, 37, 67, 75, 48, 33, 71]])\n",
            "Decoded: \n",
            "uuq̀b¿5LF–“iCE0LsP]v(\n",
            "x[0(3,WX\n",
            "IO[F(ym\"A1L¡!ZXgHy].:–6Qb.G7J––'9«9V[[L\"́3ymYxZqB»3Apy3y\"RYBeFjNqzYJu\n"
          ]
        }
      ],
      "source": [
        "# Generating from 0 token (which is the '\\n' character)\n",
        "starting_token = torch.zeros((1, 1), dtype=torch.long)\n",
        "print(\"---- Generating sequence from [\\'\\\\n\\']:\")\n",
        "torch.manual_seed(98)\n",
        "generated_tokens = m.generate(idx = starting_token, max_new_tokens=100)\n",
        "print(f\"Encoded: {generated_tokens}\")\n",
        "print(f\"Decoded: {decode(generated_tokens[0].tolist())}\")"
      ]
    },
    {
      "cell_type": "markdown",
      "metadata": {
        "id": "Juc62fs7Ub2x"
      },
      "source": [
        "### Context Length"
      ]
    },
    {
      "cell_type": "code",
      "execution_count": 19,
      "metadata": {
        "colab": {
          "base_uri": "https://localhost:8080/"
        },
        "id": "Kz6a3MetQMQq",
        "outputId": "dd417b5e-0fd0-4ef9-e5f9-d14c73ba0f26"
      },
      "outputs": [
        {
          "name": "stdout",
          "output_type": "stream",
          "text": [
            "Input: \n",
            "tensor([[64, 65,  1, 52, 62,  1, 68, 71],\n",
            "        [ 1, 74,  1, 67, 71, 56, 81,  1],\n",
            "        [63, 71, 54, 59, 65,  1, 54, 65],\n",
            "        [64, 60, 56, 68, 56, 21,  1, 66]])\n",
            "Output: \n",
            "tensor([[64, 65,  1, 52, 62,  1, 68, 71, 87, 65, 71],\n",
            "        [ 1, 74,  1, 67, 71, 56, 81,  1, 26,  3, 78],\n",
            "        [63, 71, 54, 59, 65,  1, 54, 65, 47, 85,  4],\n",
            "        [64, 60, 56, 68, 56, 21,  1, 66, 48, 50, 67]])\n",
            "Input: \n",
            "tensor([[71],\n",
            "        [ 1],\n",
            "        [65],\n",
            "        [66]])\n",
            "Output: \n",
            "tensor([[71, 87, 65, 71],\n",
            "        [ 1, 26,  3, 78],\n",
            "        [65, 47, 85,  4],\n",
            "        [66, 48, 50, 67]])\n"
          ]
        }
      ],
      "source": [
        "# This cell tries to show that the context length of the Biagram model is 1.\n",
        "# The generated tokens for every sequence of the batch is the same as the generated tokens for the last token of evey sequence.\n",
        "torch.manual_seed(1234)\n",
        "xb, _ = get_batch('train', batch_size=4)\n",
        "torch.manual_seed(1234)\n",
        "print(f'Input: \\n{xb}')\n",
        "print(f'Output: \\n{m.generate(idx = xb, max_new_tokens=3)}')\n",
        "torch.manual_seed(1234)\n",
        "print(f'Input: \\n{xb[:,-1:]}')\n",
        "print(f'Output: \\n{m.generate(idx = xb[:,-1:], max_new_tokens=3)}')"
      ]
    },
    {
      "cell_type": "markdown",
      "metadata": {
        "id": "RculWJqtPaMD"
      },
      "source": [
        "## Training"
      ]
    },
    {
      "cell_type": "markdown",
      "metadata": {
        "id": "FECDcYSF5Kj4"
      },
      "source": [
        "- We used the manually our homemade function to manually create batches (`get_batch(...)`).\n",
        "- We estimate the model performance over the training and validation set (separatedly) once in a while (every `eval_iterval` batches) over several (`eval_batches`) batches."
      ]
    },
    {
      "cell_type": "code",
      "execution_count": 20,
      "metadata": {
        "id": "MNjq3Jsm3HTa"
      },
      "outputs": [],
      "source": [
        "# Hyperparameters summary\n",
        "block_size = 8 # tokens per sequence feeded to the model = maximum context length\n",
        "batch_size = 32 # number of sequences feeded to the model at the same time\n",
        "eval_interval = 300 # frequency of estimation of the loss (over trainig and validation)\n",
        "eval_batches = 200 # number of batches used to estimate the loss (over trainig and validation)\n",
        "max_iters = 10000 # number of processed batches during training\n",
        "\n",
        "device = 'cuda' if torch.cuda.is_available() else 'cpu'"
      ]
    },
    {
      "cell_type": "markdown",
      "metadata": {
        "id": "HYSb2f1W_2hr"
      },
      "source": [
        "### Validation Function"
      ]
    },
    {
      "cell_type": "code",
      "execution_count": 13,
      "metadata": {
        "id": "ULJwELmy4OSe"
      },
      "outputs": [],
      "source": [
        "# Function to stimate the models performance\n",
        "def estimate_loss(model, eval_iters, batch_size):\n",
        "  with torch.no_grad(): # We won't call .backward() --> More efficent and quicker\n",
        "    out = {}\n",
        "    # Our model could behave differently training and evaluating.\n",
        "    # De-activate certain layers (Dropout) or modify parameters (BatchNorm) ...\n",
        "    model.eval()\n",
        "    for split in ['train', 'val']:\n",
        "        losses = torch.zeros(eval_iters)\n",
        "        for k in range(eval_iters):\n",
        "            X, Y = get_batch(split, batch_size)\n",
        "            logits, loss = model(X, Y)\n",
        "            losses[k] = loss.item()\n",
        "        out[split] = losses.mean()\n",
        "    print(f\"train_loss = {out['train']}. valid_loss = {out['val']}\")\n",
        "    # Back to training mode\n",
        "    model.train()\n",
        "  return out"
      ]
    },
    {
      "cell_type": "markdown",
      "metadata": {
        "id": "hVsldcKwA1DD"
      },
      "source": [
        "### Train and Validation"
      ]
    },
    {
      "cell_type": "code",
      "execution_count": 22,
      "metadata": {
        "colab": {
          "base_uri": "https://localhost:8080/",
          "height": 1000,
          "referenced_widgets": [
            "1eea39b98107433fba72c5b3b5b0842a",
            "cf9e767929d647eebcff9d3f9415fd5f",
            "8910a15471314254bc0e992e40522593",
            "05894a48f8ab43829f0fa5b663d0cf01",
            "fa4be2f3b4134d308452b446de103dd2",
            "c0e839ba144845bc933a713e53bbe559",
            "e413150976e444e29d78ffa087cb3548",
            "b9d5e59feaeb45679929f1a16de2dfb7",
            "779779388c534da184f23585a3d923b9",
            "3cb463dc92304743b5a29de50ccf0811",
            "9ed7137090f6481aa39670408937d668"
          ]
        },
        "id": "sSO9iGqeP3mk",
        "outputId": "77dec7b7-713c-46be-9b95-90e138db96b0"
      },
      "outputs": [
        {
          "data": {
            "application/vnd.jupyter.widget-view+json": {
              "model_id": "1eea39b98107433fba72c5b3b5b0842a",
              "version_major": 2,
              "version_minor": 0
            },
            "text/plain": [
              "  0%|          | 0/10000 [00:00<?, ?it/s]"
            ]
          },
          "metadata": {},
          "output_type": "display_data"
        },
        {
          "name": "stdout",
          "output_type": "stream",
          "text": [
            "train_loss = 4.502381801605225. valid_loss = 4.497044086456299\n",
            "train_loss = 4.120266437530518. valid_loss = 4.129078388214111\n",
            "train_loss = 3.797539472579956. valid_loss = 3.8077173233032227\n",
            "train_loss = 3.5147008895874023. valid_loss = 3.5334525108337402\n",
            "train_loss = 3.279090404510498. valid_loss = 3.2981603145599365\n",
            "train_loss = 3.077587366104126. valid_loss = 3.0907840728759766\n",
            "train_loss = 2.909942865371704. valid_loss = 2.9300098419189453\n",
            "train_loss = 2.770601987838745. valid_loss = 2.799287796020508\n",
            "train_loss = 2.665043830871582. valid_loss = 2.6926357746124268\n",
            "train_loss = 2.58286714553833. valid_loss = 2.604494333267212\n",
            "train_loss = 2.5121490955352783. valid_loss = 2.5371592044830322\n",
            "train_loss = 2.461294651031494. valid_loss = 2.486281394958496\n",
            "train_loss = 2.410219192504883. valid_loss = 2.4429516792297363\n",
            "train_loss = 2.3826465606689453. valid_loss = 2.413666248321533\n",
            "train_loss = 2.357506036758423. valid_loss = 2.3856430053710938\n",
            "train_loss = 2.33406138420105. valid_loss = 2.3621764183044434\n",
            "train_loss = 2.3151087760925293. valid_loss = 2.3465001583099365\n",
            "train_loss = 2.3002169132232666. valid_loss = 2.3359196186065674\n",
            "train_loss = 2.2964682579040527. valid_loss = 2.3103768825531006\n",
            "train_loss = 2.2806344032287598. valid_loss = 2.315178394317627\n",
            "train_loss = 2.2710652351379395. valid_loss = 2.3077828884124756\n",
            "train_loss = 2.2664623260498047. valid_loss = 2.2934420108795166\n",
            "train_loss = 2.257387638092041. valid_loss = 2.2876980304718018\n",
            "train_loss = 2.252824068069458. valid_loss = 2.2781426906585693\n",
            "train_loss = 2.249760150909424. valid_loss = 2.2797677516937256\n",
            "train_loss = 2.244967460632324. valid_loss = 2.2760119438171387\n",
            "train_loss = 2.2426400184631348. valid_loss = 2.273749351501465\n",
            "train_loss = 2.2410945892333984. valid_loss = 2.2716548442840576\n",
            "train_loss = 2.237123727798462. valid_loss = 2.267442464828491\n",
            "train_loss = 2.233708620071411. valid_loss = 2.2701590061187744\n",
            "train_loss = 2.2286508083343506. valid_loss = 2.2561471462249756\n",
            "train_loss = 2.2287659645080566. valid_loss = 2.2630603313446045\n",
            "train_loss = 2.2227540016174316. valid_loss = 2.259291887283325\n"
          ]
        },
        {
          "data": {
            "image/png": "[encoded data removed]",
            "text/plain": [
              "<Figure size 640x480 with 1 Axes>"
            ]
          },
          "metadata": {},
          "output_type": "display_data"
        }
      ],
      "source": [
        "# Re-creating model to get random intial values for the parameters\n",
        "torch.manual_seed(1234)\n",
        "m = BigramLanguageModel(vocab_size = vocab_size)\n",
        "\n",
        "# PyTorch optimizer.\n",
        "# Uptadtes the parameters of the model during training.\n",
        "# Direction of the update --> Gradient.\n",
        "# Magnitude/Step of the uptade --> Learning Rate.\n",
        "optimizer = torch.optim.AdamW(m.parameters(), lr=1e-3)\n",
        "\n",
        "\n",
        "# Training loop\n",
        "train_loss = [] # i-th item = estimated loss over training set after eval_interval processed batches\n",
        "val_loss = [] # i-th item = estimated loss over validation set after eval_interval processed batches\n",
        "for i in tqdm(range(max_iters)):\n",
        "\n",
        "    # Fitting phase\n",
        "    # Sample a batch of data\n",
        "    X, Y = get_batch('train', batch_size=batch_size)\n",
        "    # Evaluate the loss\n",
        "    batch_logits, batch_loss = m(X, Y)\n",
        "    # Backpropagate the gradient\n",
        "    optimizer.zero_grad(set_to_none=True) # they add-up if kept\n",
        "    batch_loss.backward()\n",
        "    # Optimize the parameters\n",
        "    optimizer.step()\n",
        "\n",
        "    # Evaluating phase\n",
        "    if i >= eval_interval and i % eval_interval == 0:\n",
        "      losses = estimate_loss(model=m, eval_iters=eval_interval, batch_size=batch_size)\n",
        "      train_loss.append(losses['train'])\n",
        "      val_loss.append(losses['val'])\n",
        "\n",
        "# Show results\n",
        "plt.plot(torch.tensor(train_loss).log()) # .log() Makes the visualization easier\n",
        "plt.plot(torch.tensor(val_loss).log())\n",
        "plt.show()"
      ]
    },
    {
      "cell_type": "markdown",
      "metadata": {
        "id": "dVhfGX6fVRBX"
      },
      "source": [
        "### Results"
      ]
    },
    {
      "cell_type": "code",
      "execution_count": 23,
      "metadata": {
        "colab": {
          "base_uri": "https://localhost:8080/"
        },
        "id": "vjCgco9xT6or",
        "outputId": "bb1d39e3-c63a-4f69-a315-d005d470456d"
      },
      "outputs": [
        {
          "name": "stdout",
          "output_type": "stream",
          "text": [
            "Train Loss = 2.2227540016174316 \n",
            "Validation Loss = 2.259291887283325\n"
          ]
        }
      ],
      "source": [
        "print(f'Train Loss = {train_loss[-1].item()} \\nValidation Loss = {val_loss[-1].item()}')"
      ]
    },
    {
      "cell_type": "markdown",
      "metadata": {
        "id": "svW-k4_KcgJD"
      },
      "source": [
        "## Generating after training (not that much non-sense, still work to do)"
      ]
    },
    {
      "cell_type": "code",
      "execution_count": 24,
      "metadata": {
        "colab": {
          "base_uri": "https://localhost:8080/"
        },
        "id": "aXqQk0mIc7hC",
        "outputId": "34311792-8309-4bf2-ba94-913aa0b4c15b"
      },
      "outputs": [
        {
          "name": "stdout",
          "output_type": "stream",
          "text": [
            "---- Generating sequence from ['\\n']:\n",
            "Encoded: tensor([[ 0, 48, 71, 56, 69, 54, 71, 56, 64, 70, 60, 61, 65, 69, 60, 54, 65, 69,\n",
            "         66, 65, 69,  7,  1, 66, 65, 68, 65,  8,  7,  1, 55, 60, 56,  7,  1, 55,\n",
            "         56, 58, 71, 56,  1, 62,  1, 66, 62, 52, 69, 60, 52,  1, 59, 65, 68, 52,\n",
            "         68, 63, 53, 60, 63, 60, 54, 60, 69, 60, 61, 65, 70, 68,  1, 55, 52, 55,\n",
            "         65, 64, 65, 55, 56, 68, 52, 63, 65, 69, 66, 65,  1, 74,  1, 74, 52, 64,\n",
            "         58, 71, 56, 62,  1, 37, 60, 56, 64, 54, 71]])\n",
            "Decoded: \n",
            "Yuescuentijosicospos, poro-, die, degue l plasia horarmbimicisijotr dadonoderamospo y yanguel Niencu\n"
          ]
        }
      ],
      "source": [
        "# Generating from 0 token (which is the '\\n' character)\n",
        "starting_token = torch.zeros((1, 1), dtype=torch.long)\n",
        "print(\"---- Generating sequence from [\\'\\\\n\\']:\")\n",
        "torch.manual_seed(98)\n",
        "generated_tokens = m.generate(idx = starting_token, max_new_tokens=100)\n",
        "print(f\"Encoded: {generated_tokens}\")\n",
        "print(f\"Decoded: {decode(generated_tokens[0].tolist())}\")"
      ]
    },
    {
      "cell_type": "markdown",
      "metadata": {
        "id": "cdo3wSDBLkUC"
      },
      "source": [
        "# Second Model: Starting to pay attention. Single Attention Head."
      ]
    },
    {
      "cell_type": "code",
      "execution_count": 18,
      "metadata": {
        "id": "-_m5ErG0T3mf"
      },
      "outputs": [],
      "source": [
        "# Hyperparameters recap.\n",
        "vocab_size = vocab_size # number of different tokens\n",
        "block_size = 8 # tokens per sequence feeded to the model\n",
        "batch_size = 32 # number of sequences feeded to the model at the same time"
      ]
    },
    {
      "cell_type": "code",
      "execution_count": 19,
      "metadata": {
        "id": "QnHqXacQUhIT"
      },
      "outputs": [],
      "source": [
        "# Introducing a new hyperparameter: Number of embeding dimensions.\n",
        "# Internally we'll encode/transform every token to 2 vectors of 32 elements.\n",
        "# --> The first identifies the token. Example: I'm an 'a'. --> token_embedding_table = nn.Embedding(vocab_size, n_embd) --> (vocab_size) possible tokens\n",
        "# --> The second one identifies the position of the token. Example: I'm in third place. --> position_embedding_table = nn.Embedding(block_size, n_embd) --> (block_size) posible positions\n",
        "# Finally the token will be identified by the sum of these elements.\n",
        "n_embd = 32"
      ]
    },
    {
      "cell_type": "markdown",
      "metadata": {
        "id": "K620b1hPBdPO"
      },
      "source": [
        "### Attention Mecanism"
      ]
    },
    {
      "cell_type": "code",
      "execution_count": 27,
      "metadata": {
        "colab": {
          "base_uri": "https://localhost:8080/"
        },
        "id": "MTOGyybfBnr6",
        "outputId": "ee129edd-4795-4a76-8c60-5f16af0ee8bd"
      },
      "outputs": [
        {
          "data": {
            "text/plain": [
              "torch.Size([4, 8, 16])"
            ]
          },
          "execution_count": 27,
          "metadata": {},
          "output_type": "execute_result"
        }
      ],
      "source": [
        "# Self-attention!\n",
        "# Note: Here token = embeded token.\n",
        "# To gerate a new token, we want to consider the tokens before him, information from other tokens.\n",
        "# This can be achieved by performing a weighted sum of the tokens before (remember that every token is embedded/encoded as a vector).\n",
        "# The weights of this sum can be seen as how influential each token is.\n",
        "# To generate these weights.\n",
        "#   1. Every token generates a key (vector that represents what token is) and a query (vector that represents what it is looking for). Both are linear projections: nn.Linear(...).\n",
        "#   2. Dot product of every key with every query.\n",
        "# The bigger the dot product, the bigger the affinitie between the two tokens.\n",
        "\n",
        "# Generating batch of embedded tokens ...\n",
        "torch.manual_seed(1234)\n",
        "B,T,C = 4,8,32 # (B,T,C) --> (B = Batch = Batch Size = Nº of sequences, T = Time = Block Size = Tokens per sequence, C = channels = Embedding Dimmensions = Dimmesion of the vector that represents the token)\n",
        "x = torch.randn(B,T,C)\n",
        "# For every token, T affinities will be computed. Affinities for future tokens will be set to 0 afterwards. --> (T)\n",
        "# Every sequence has T tokens --> (T,T)\n",
        "# There is B sequences in a batch --> (B,T,T)\n",
        "\n",
        "\n",
        "# Single Head performing self-attention\n",
        "\n",
        "head_size = 16\n",
        "# Generating keys ...\n",
        "# Key = What a token is? Example: A vocal on 6th position.\n",
        "key = nn.Linear(C, head_size, bias=False)\n",
        "k = key(x)   # (B, T, 16)\n",
        "\n",
        "# Generating queries ...\n",
        "# Query = What a token is looking for? Example: A consonant prior to 4th position.\n",
        "query = nn.Linear(C, head_size, bias=False)\n",
        "q = query(x) # (B, T, 16)\n",
        "\n",
        "# Computing affinities (also called attetion scores) between tokens ...\n",
        "wei =  q @ k.transpose(-2, -1) # (B, T, 16) @ (B, 16, T) ---> (B, T, T)\n",
        "\n",
        "# No information can come from future tokens. Masking it ...\n",
        "tril = torch.tril(torch.ones(T, T))\n",
        "wei = wei.masked_fill(tril == 0, float('-inf'))\n",
        "wei = F.softmax(wei, dim=-1) # Normalizing the affinities and setting future affinities from future tokens to 0\n",
        "\n",
        "# One last detail. We do not use the raw embedded token (x, \"private information\") in the weighted sum. We generate a value.\n",
        "# Value = What a token offers in this context.\n",
        "value = nn.Linear(C, head_size, bias=False)\n",
        "v = value(x) # (B, T, 16)\n",
        "\n",
        "# Result\n",
        "out = wei @ v # (B, T, T) @ (B, T, 16) ---> (B, T, 16)\n",
        "\n",
        "\n",
        "out.shape"
      ]
    },
    {
      "cell_type": "code",
      "execution_count": 28,
      "metadata": {
        "colab": {
          "base_uri": "https://localhost:8080/"
        },
        "id": "9CyPKfuTHbMN",
        "outputId": "b1946fa2-17d7-4f6e-8cea-ec01e4242f3d"
      },
      "outputs": [
        {
          "data": {
            "text/plain": [
              "tensor([[1.0000, 0.0000, 0.0000, 0.0000, 0.0000, 0.0000, 0.0000, 0.0000],\n",
              "        [0.2767, 0.7233, 0.0000, 0.0000, 0.0000, 0.0000, 0.0000, 0.0000],\n",
              "        [0.2088, 0.7186, 0.0726, 0.0000, 0.0000, 0.0000, 0.0000, 0.0000],\n",
              "        [0.1615, 0.0213, 0.5879, 0.2292, 0.0000, 0.0000, 0.0000, 0.0000],\n",
              "        [0.0558, 0.0951, 0.1961, 0.1000, 0.5530, 0.0000, 0.0000, 0.0000],\n",
              "        [0.0935, 0.6474, 0.0659, 0.0296, 0.0822, 0.0814, 0.0000, 0.0000],\n",
              "        [0.0367, 0.0325, 0.0941, 0.4913, 0.2240, 0.0431, 0.0784, 0.0000],\n",
              "        [0.2329, 0.2915, 0.0324, 0.1427, 0.0200, 0.0800, 0.0436, 0.1569]],\n",
              "       grad_fn=<SelectBackward0>)"
            ]
          },
          "execution_count": 28,
          "metadata": {},
          "output_type": "execute_result"
        }
      ],
      "source": [
        "wei[0]"
      ]
    },
    {
      "cell_type": "markdown",
      "metadata": {
        "id": "JvV6HX6GJnLc"
      },
      "source": [
        "Notes:\n",
        "- Attention is a **communication mechanism**. Can be seen as nodes in a directed graph looking at each other and aggregating information with a weighted sum from all nodes that point to them, with data-dependent weights. In this case, every token of a sequence is a node pointed by all the tokens of the sequence that come before him.\n",
        "- There is no notion of space. Attention simply acts over a set of vectors in a space (remember that tokens are embedded as vectors). This is why we need to positionally encode tokens.\n",
        "- Each example across batch dimension is of course processed completely independently and never \"talk\" to each other.\n",
        "- In an \"encoder\" attention block just delete the single line that does masking with `tril`, allowing all tokens to communicate. This block here is called a \"decoder\" attention block because it has triangular masking, and is usually used in autoregressive settings, like language modeling. No information from future tokens should be considered in this case (generating model), not the case for sentimient analisis.\n",
        "- \"Self-attention\" just means that the keys and values are produced from the same source as queries. In \"cross-attention\", the queries still get produced from x, but the keys and values come from some other, external source (e.g. an encoder module). This external source of nodes that contain information that we want to be taken into consideration.\n",
        "- \"Scaled\" attention additional divides `wei` by 1/sqrt(head_size). This makes it so when input Q,K are unit variance, wei will be unit variance too and Softmax will stay diffuse and not saturate too much. If Softmax saturates, only information from one token will be considered. Illustration below ..."
      ]
    },
    {
      "cell_type": "code",
      "execution_count": 29,
      "metadata": {
        "id": "3Ng13x9cKrrf"
      },
      "outputs": [],
      "source": [
        "k = torch.randn(B,T,head_size)\n",
        "q = torch.randn(B,T,head_size)\n",
        "wei = q @ k.transpose(-2, -1) * head_size**-0.5"
      ]
    },
    {
      "cell_type": "code",
      "execution_count": 30,
      "metadata": {
        "colab": {
          "base_uri": "https://localhost:8080/"
        },
        "id": "ci94kcNxKslU",
        "outputId": "a2dbabee-1414-48fe-a4c0-29c8dc60702a"
      },
      "outputs": [
        {
          "name": "stdout",
          "output_type": "stream",
          "text": [
            "{tensor(0.9988)}\n",
            "{tensor(1.0134)}\n",
            "{tensor(0.9901)}\n"
          ]
        }
      ],
      "source": [
        "print({k.var()})\n",
        "print({q.var()})\n",
        "print({wei.var()})"
      ]
    },
    {
      "cell_type": "code",
      "execution_count": 31,
      "metadata": {
        "colab": {
          "base_uri": "https://localhost:8080/"
        },
        "id": "1H_8_uOyK0sL",
        "outputId": "1aa7bcfb-8130-43f4-a7f3-7fb4297bfb36"
      },
      "outputs": [
        {
          "name": "stdout",
          "output_type": "stream",
          "text": [
            "tensor([0.1925, 0.1426, 0.2351, 0.1426, 0.2872])\n",
            "tensor([0.0326, 0.0030, 0.1615, 0.0030, 0.8000])\n"
          ]
        }
      ],
      "source": [
        "print(torch.softmax(torch.tensor([0.1, -0.2, 0.3, -0.2, 0.5]), dim=-1))\n",
        "print(torch.softmax(torch.tensor([0.1, -0.2, 0.3, -0.2, 0.5])*8, dim=-1)) # gets too peaky, converges to one-hot"
      ]
    },
    {
      "cell_type": "markdown",
      "metadata": {
        "id": "Y-SjfOfaBjGr"
      },
      "source": [
        "## Attenttive Model I - Single Attention Head"
      ]
    },
    {
      "cell_type": "code",
      "execution_count": 32,
      "metadata": {
        "id": "3o85z6cwNzwk"
      },
      "outputs": [],
      "source": [
        "class Head(nn.Module):\n",
        "    \"\"\" one head of self-attention \"\"\"\n",
        "\n",
        "    def __init__(self, head_size):\n",
        "        super().__init__()\n",
        "        self.key = nn.Linear(n_embd, head_size, bias=False)\n",
        "        self.query = nn.Linear(n_embd, head_size, bias=False)\n",
        "        self.value = nn.Linear(n_embd, head_size, bias=False)\n",
        "        # Following PyTorch convetions. It is not a parameter but it is assigned to the module.\n",
        "        self.register_buffer('tril', torch.tril(torch.ones(block_size, block_size)))\n",
        "\n",
        "    def forward(self, x):\n",
        "        B,T,C = x.shape # (B = Batch = Batch Size = Nº of sequences, T = Time = Block Size = Tokens per sequence, C = channels = Embedding Dimmensions = Dimmesion of the vector that represents the token)\n",
        "        # Generating keys and querys ...\n",
        "        k = self.key(x)   # (B,T,C)\n",
        "        q = self.query(x) # (B,T,C)\n",
        "        # Compute attention scores (\"affinities\") ...\n",
        "        wei = q @ k.transpose(-2,-1) * C**-0.5 # (B, T, C) @ (B, C, T) -> (B, T, T)\n",
        "        # No information can come from future tokens.\n",
        "        wei = wei.masked_fill(self.tril[:T, :T] == 0, float('-inf')) # (B, T, T)\n",
        "        wei = F.softmax(wei, dim=-1) # (B, T, T)\n",
        "        # Weighted aggregation of the values (not the raw embedded token) ...\n",
        "        v = self.value(x) # (B,T,C)\n",
        "        out = wei @ v # (B, T, T) @ (B, T, C) -> (B, T, C)\n",
        "        return out"
      ]
    },
    {
      "cell_type": "code",
      "execution_count": 33,
      "metadata": {
        "id": "81zxmbQvT0Bp"
      },
      "outputs": [],
      "source": [
        "class FirstAttentiveModel(nn.Module):\n",
        "\n",
        "    def __init__(self, vocab_size, n_embd):\n",
        "        super().__init__()\n",
        "        self.token_embedding_table = nn.Embedding(vocab_size, n_embd) # (V = vocab_size) possible tokens\n",
        "        self.position_embedding_table = nn.Embedding(block_size, n_embd) # (T = block_size) posible positions\n",
        "        # Self-Attention Head\n",
        "        self.sa_head = Head(n_embd)\n",
        "        self.lm_head = nn.Linear(n_embd, vocab_size)\n",
        "\n",
        "    def forward(self, idx, targets=None):\n",
        "        # INPUT: idx(= batch input) and targets(=batch output) are both (B = batch_size, T = block_size) tensor of integers.\n",
        "        # OUTPUT: For every token of the input, returns vocab_size values. So, vocab_size values for (batch_size, block_size) makes the dimension of the output: (B,T,V) -> (B=batch_size, T=block_size, V=vocab_size).\n",
        "\n",
        "        #                 IDX\n",
        "        #        _____________________\n",
        "        #       /\t\t                 /\n",
        "        #      /\t\t                /\n",
        "        #   \t/\t\t                 /   B = Batch Size\n",
        "        #    /\t\t                /\n",
        "        #   /____________________/\n",
        "        #\n",
        "        #        T = Block Size\n",
        "\n",
        "        # Embeding the tokens and its position\n",
        "        B, T = idx.shape\n",
        "        token_emb = self.token_embedding_table(idx) # (B = batch_size, T = block_size, C = n_embd)\n",
        "        postion_emb = self.position_embedding_table(torch.arange(T)) # (T = block_size, C = n_embd)\n",
        "        x = token_emb + postion_emb # (B,T,C) + (T,C) = (B,T,C) + \"B*(1,T,C)\" = (B,T,C) --> Broadcasting\n",
        "\n",
        "        #                 X\n",
        "        #                         ____\n",
        "        #                        /___/\n",
        "        #                        |   |\n",
        "        #                        |   |  C = range(n_embd)\n",
        "        #        _______________ |___|\n",
        "        #       /\t\t            /___ /\n",
        "        #      /\t\t                /\n",
        "        #   \t/\t\t                 /   B = Batch Size\n",
        "        #    /\t\t                /\n",
        "        #   /____________________/\n",
        "        #\n",
        "        #        T = Block Size\n",
        "\n",
        "        # Self-Attention Block\n",
        "        x = self.sa_head(x) # (B,T,C)\n",
        "\n",
        "        # Calculating logits\n",
        "        logits = self.lm_head(x) # (B,T,C) --> (B,T,v)\n",
        "\n",
        "        #             LOGITS\n",
        "        #                         ____\n",
        "        #                        /___/\n",
        "        #                        |   |\n",
        "        #                        |   |  V = Vocab Size\n",
        "        #        _______________ |___|\n",
        "        #       /\t\t            /___ /\n",
        "        #      /\t\t                /\n",
        "        #   \t/\t\t                 /   B = Batch Size\n",
        "        #    /\t\t                /\n",
        "        #   /____________________/\n",
        "        #\n",
        "        #        T = Block Size\n",
        "\n",
        "        # When just evaluating\n",
        "        if targets is None:\n",
        "            loss = None\n",
        "        # When training\n",
        "        else:\n",
        "            # Transformations \"needed\" for F.cross_entropy((batch_size, vocab_size), ...)\n",
        "            B, T, C = logits.shape\n",
        "            logits = logits.view(B*T, C)\n",
        "            targets = targets.view(B*T)\n",
        "            # Cross Entropy Loss\n",
        "            loss = F.cross_entropy(logits, targets)\n",
        "        return logits, loss\n",
        "\n",
        "    def generate(self, idx, max_new_tokens):\n",
        "      # idx is the input batch tensor (B, T) of tokens.\n",
        "      for _ in range(max_new_tokens):\n",
        "          # Crop idx to the last block_size\n",
        "          idx_crop = idx[:,-block_size:]\n",
        "          # Get the predictions for idx --> (B, T, V)\n",
        "          logits, _ = self(idx_crop)\n",
        "          # We are only interested in the predictions (V) for the last token (-1) of every input of the batch (B).\n",
        "          logits = logits[:, -1, :] # --> (B, V)\n",
        "          # Apply softmax to get probabilities\n",
        "          probs = F.softmax(logits, dim=-1) # --> (B, V)\n",
        "          # Sample the tokens using the distribution\n",
        "          idx_next = torch.multinomial(probs, num_samples=1) # (B, 1)\n",
        "          # Append sampled tokens to the running sequence\n",
        "          idx = torch.cat((idx, idx_next), dim=1) # (B, T + 1)\n",
        "      # idx is now (B, T + max_new_tokens).\n",
        "      return idx"
      ]
    },
    {
      "cell_type": "markdown",
      "metadata": {
        "id": "Z3L9vVlwSFM9"
      },
      "source": [
        "## Training"
      ]
    },
    {
      "cell_type": "code",
      "execution_count": 34,
      "metadata": {
        "id": "GDWWsNHgSID1"
      },
      "outputs": [],
      "source": [
        "# Hyperparameters recap.\n",
        "\n",
        "# Model\n",
        "vocab_size = vocab_size # number of different tokens\n",
        "block_size = 8 # tokens per sequence feeded to the model\n",
        "batch_size = 32 # number of sequences feeded to the model at the same time\n",
        "n_embd = 32 # Dimension of a encoded token\n",
        "\n",
        "# Trainig\n",
        "lr=1e-3 # Learning rate\n",
        "eval_interval = 300 # frequency of estimation of the loss (over trainig and validation)\n",
        "eval_batches = 200 # number of batches used to estimate the loss (over trainig and validation)\n",
        "max_iters = 10000 # number of processed batches during training\n",
        "device = 'cuda' if torch.cuda.is_available() else 'cpu'"
      ]
    },
    {
      "cell_type": "code",
      "execution_count": 35,
      "metadata": {
        "colab": {
          "base_uri": "https://localhost:8080/",
          "height": 1000,
          "referenced_widgets": [
            "c91b6a7184074c4a9dbaadff7b526da3",
            "2d29a67c9036418e873eac82ce682c32",
            "d3051d893d6d44e4b59ccf190eb7f714",
            "408ab45599834b7082c87e2ef8e3cac2",
            "3d21680624c646c582534d11c95aa9be",
            "bafcce615d5f49b3abe89a10445b7bf3",
            "0b2f0191474b40c2b6095fd3f34fd7ad",
            "3dc7e18f761c4cbeb40fecdbc52bb14d",
            "cd69763284084206b0f393e6d744a18c",
            "617a9d0609954e6485f0b97aa926a81b",
            "f8982fd0caa04ae6b73ff9ef606f6df3"
          ]
        },
        "id": "wxMBo1690ssd",
        "outputId": "06aaf09a-7884-49fd-9f03-e812b8486bfc"
      },
      "outputs": [
        {
          "data": {
            "application/vnd.jupyter.widget-view+json": {
              "model_id": "c91b6a7184074c4a9dbaadff7b526da3",
              "version_major": 2,
              "version_minor": 0
            },
            "text/plain": [
              "  0%|          | 0/10000 [00:00<?, ?it/s]"
            ]
          },
          "metadata": {},
          "output_type": "display_data"
        },
        {
          "name": "stdout",
          "output_type": "stream",
          "text": [
            "300 iteration:\n",
            "train_loss = 2.648667097091675. valid_loss = 2.671004295349121\n",
            "600 iteration:\n",
            "train_loss = 2.3357391357421875. valid_loss = 2.378267526626587\n",
            "900 iteration:\n",
            "train_loss = 2.2470860481262207. valid_loss = 2.2980692386627197\n",
            "1200 iteration:\n",
            "train_loss = 2.205765962600708. valid_loss = 2.264240026473999\n",
            "1500 iteration:\n",
            "train_loss = 2.1840310096740723. valid_loss = 2.2421164512634277\n",
            "1800 iteration:\n",
            "train_loss = 2.17000412940979. valid_loss = 2.2133841514587402\n",
            "2100 iteration:\n",
            "train_loss = 2.1691489219665527. valid_loss = 2.2159318923950195\n",
            "2400 iteration:\n",
            "train_loss = 2.14726185798645. valid_loss = 2.207660436630249\n",
            "2700 iteration:\n",
            "train_loss = 2.136218786239624. valid_loss = 2.196347951889038\n",
            "3000 iteration:\n",
            "train_loss = 2.1367597579956055. valid_loss = 2.192293882369995\n",
            "3300 iteration:\n",
            "train_loss = 2.134841203689575. valid_loss = 2.1914074420928955\n",
            "3600 iteration:\n",
            "train_loss = 2.1362228393554688. valid_loss = 2.1933341026306152\n",
            "3900 iteration:\n",
            "train_loss = 2.1276488304138184. valid_loss = 2.176604747772217\n",
            "4200 iteration:\n",
            "train_loss = 2.13227915763855. valid_loss = 2.1896369457244873\n",
            "4500 iteration:\n",
            "train_loss = 2.127281665802002. valid_loss = 2.1803324222564697\n",
            "4800 iteration:\n",
            "train_loss = 2.1230669021606445. valid_loss = 2.180131196975708\n",
            "5100 iteration:\n",
            "train_loss = 2.118614912033081. valid_loss = 2.1819043159484863\n",
            "5400 iteration:\n",
            "train_loss = 2.118617534637451. valid_loss = 2.1777737140655518\n",
            "5700 iteration:\n",
            "train_loss = 2.1261563301086426. valid_loss = 2.156890392303467\n",
            "6000 iteration:\n",
            "train_loss = 2.1226894855499268. valid_loss = 2.174358367919922\n",
            "6300 iteration:\n",
            "train_loss = 2.115729808807373. valid_loss = 2.1789300441741943\n",
            "6600 iteration:\n",
            "train_loss = 2.120568037033081. valid_loss = 2.1666066646575928\n",
            "6900 iteration:\n",
            "train_loss = 2.117967367172241. valid_loss = 2.1660315990448\n",
            "7200 iteration:\n",
            "train_loss = 2.1154708862304688. valid_loss = 2.1618545055389404\n",
            "7500 iteration:\n",
            "train_loss = 2.109222173690796. valid_loss = 2.164658308029175\n",
            "7800 iteration:\n",
            "train_loss = 2.106752634048462. valid_loss = 2.1664156913757324\n",
            "8100 iteration:\n",
            "train_loss = 2.116269826889038. valid_loss = 2.1664559841156006\n",
            "8400 iteration:\n",
            "train_loss = 2.1124706268310547. valid_loss = 2.1682252883911133\n",
            "8700 iteration:\n",
            "train_loss = 2.109131336212158. valid_loss = 2.1638948917388916\n",
            "9000 iteration:\n",
            "train_loss = 2.1116130352020264. valid_loss = 2.1670475006103516\n",
            "9300 iteration:\n",
            "train_loss = 2.104296922683716. valid_loss = 2.153566598892212\n",
            "9600 iteration:\n",
            "train_loss = 2.104379653930664. valid_loss = 2.159018039703369\n",
            "9900 iteration:\n",
            "train_loss = 2.100595235824585. valid_loss = 2.1542563438415527\n"
          ]
        },
        {
          "data": {
            "image/png": "[encoded data removed]",
            "text/plain": [
              "<Figure size 640x480 with 1 Axes>"
            ]
          },
          "metadata": {},
          "output_type": "display_data"
        }
      ],
      "source": [
        "# Re-creating model to get random intial values for the parameters\n",
        "torch.manual_seed(1234)\n",
        "m = FirstAttentiveModel(vocab_size = vocab_size, n_embd = 32)\n",
        "\n",
        "# PyTorch optimizer.\n",
        "optimizer = torch.optim.AdamW(m.parameters(), lr=lr)\n",
        "\n",
        "\n",
        "# Training loop\n",
        "train_loss = [] # i-th item = estimated loss over training set after eval_interval processed batches\n",
        "val_loss = [] # i-th item = estimated loss over validation set after eval_interval processed batches\n",
        "for i in tqdm(range(max_iters)):\n",
        "\n",
        "    # Fitting phase\n",
        "    # Sample a batch of data\n",
        "    X, Y = get_batch('train', batch_size=batch_size)\n",
        "    # Evaluate the loss\n",
        "    batch_logits, batch_loss = m(X, Y)\n",
        "    # Backpropagate the gradient\n",
        "    optimizer.zero_grad(set_to_none=True) # they add-up if kept\n",
        "    batch_loss.backward()\n",
        "    # Optimize the parameters\n",
        "    optimizer.step()\n",
        "\n",
        "    # Evaluating phase\n",
        "    if i >= eval_interval and i % eval_interval == 0:\n",
        "      print(f'{i} iteration:')\n",
        "      losses = estimate_loss(model=m, eval_iters=eval_interval, batch_size=batch_size)\n",
        "      train_loss.append(losses['train'])\n",
        "      val_loss.append(losses['val'])\n",
        "\n",
        "# Show results\n",
        "plt.plot(torch.tensor(train_loss).log()) # .log() Makes the visualization easier\n",
        "plt.plot(torch.tensor(val_loss).log())\n",
        "plt.show()"
      ]
    },
    {
      "cell_type": "markdown",
      "metadata": {
        "id": "stcKvr0gVZut"
      },
      "source": [
        "### Results"
      ]
    },
    {
      "cell_type": "code",
      "execution_count": 36,
      "metadata": {
        "colab": {
          "base_uri": "https://localhost:8080/"
        },
        "id": "yOynG6-MVOVV",
        "outputId": "e3bc1f48-f819-4933-d341-57a60fc03aa8"
      },
      "outputs": [
        {
          "name": "stdout",
          "output_type": "stream",
          "text": [
            "Train Loss = 2.100595235824585 \n",
            "Validation Loss = 2.1542563438415527\n"
          ]
        }
      ],
      "source": [
        "print(f'Train Loss = {train_loss[-1].item()} \\nValidation Loss = {val_loss[-1].item()}')"
      ]
    },
    {
      "cell_type": "markdown",
      "metadata": {
        "id": "78zz8mwxSn36"
      },
      "source": [
        "> Slightly better model, long way to go."
      ]
    },
    {
      "cell_type": "markdown",
      "metadata": {
        "id": "ORZC1qP4SuvV"
      },
      "source": [
        "## Generating after training"
      ]
    },
    {
      "cell_type": "code",
      "execution_count": 37,
      "metadata": {
        "colab": {
          "base_uri": "https://localhost:8080/"
        },
        "id": "g2mLJ2UhSuvV",
        "outputId": "12cd932d-7caa-4643-e3b5-1a0a345d324e"
      },
      "outputs": [
        {
          "name": "stdout",
          "output_type": "stream",
          "text": [
            "---- Generating sequence from ['\\n']:\n",
            "Encoded: tensor([[ 0, 48, 52,  1, 72, 56, 69, 70, 65, 62, 60, 61, 65, 68,  1, 54, 65, 69,\n",
            "         66, 65, 69, 71, 60, 81,  1, 63, 65,  8,  7,  1, 55, 60, 56,  7,  1, 55,\n",
            "         56, 58, 71, 64, 52,  1, 67, 71, 56,  1, 69, 71,  1, 74, 65,  7,  1, 56,\n",
            "         68, 63, 60, 81, 52,  7,  1, 42, 68, 60, 61, 65, 70, 68, 65,  1, 52, 55,\n",
            "         65, 64,  1, 55, 56, 68, 52, 63, 65, 69,  1, 69, 66, 60, 52, 74, 52,  1,\n",
            "         58, 71, 56, 62,  1, 54, 60, 56, 64, 54, 71]])\n",
            "Decoded: \n",
            "Ya vestolijor cosposuí mo-, die, deguna que su yo, ermía, Srijotro adon deramos spiaya guel ciencu\n"
          ]
        }
      ],
      "source": [
        "# Generating from 0 token (which is the '\\n' character)\n",
        "starting_token = torch.zeros((1, 1), dtype=torch.long)\n",
        "print(\"---- Generating sequence from [\\'\\\\n\\']:\")\n",
        "torch.manual_seed(98)\n",
        "generated_tokens = m.generate(idx=starting_token, max_new_tokens=100)\n",
        "print(f\"Encoded: {generated_tokens}\")\n",
        "print(f\"Decoded: {decode(generated_tokens[0].tolist())}\")"
      ]
    },
    {
      "cell_type": "markdown",
      "metadata": {
        "id": "Oou_nldLUgfN"
      },
      "source": [
        "### Context Length"
      ]
    },
    {
      "cell_type": "code",
      "execution_count": 38,
      "metadata": {
        "colab": {
          "base_uri": "https://localhost:8080/"
        },
        "id": "fT8mRwzhTa-x",
        "outputId": "65be4f94-ab55-4ab3-b5a6-3caf19bc729b"
      },
      "outputs": [
        {
          "name": "stdout",
          "output_type": "stream",
          "text": [
            "Input: \n",
            "tensor([[64, 65,  1, 52, 62,  1, 68, 71],\n",
            "        [ 1, 74,  1, 67, 71, 56, 81,  1],\n",
            "        [63, 71, 54, 59, 65,  1, 54, 65],\n",
            "        [64, 60, 56, 68, 56, 21,  1, 66]])\n",
            "Output: \n",
            "tensor([[64, 65,  1, 52, 62,  1, 68, 71, 52, 62, 71],\n",
            "        [ 1, 74,  1, 67, 71, 56, 81,  1, 70, 52,  7],\n",
            "        [63, 71, 54, 59, 65,  1, 54, 65, 68,  7,  1],\n",
            "        [64, 60, 56, 68, 56, 21,  1, 66, 65, 55, 56]])\n",
            "Input: \n",
            "tensor([[71],\n",
            "        [ 1],\n",
            "        [65],\n",
            "        [66]])\n",
            "Output: \n",
            "tensor([[71, 69, 65, 64],\n",
            "        [ 1, 70, 52,  7],\n",
            "        [65, 68, 52,  1],\n",
            "        [66, 65, 69, 56]])\n"
          ]
        }
      ],
      "source": [
        "# This cell tries to show that the context length of the Biagram model is now bigger than 1.\n",
        "# The generated tokens for every sequence of the batch is NOT the same as the generated tokens for the last token of evey sequence.\n",
        "torch.manual_seed(1234)\n",
        "xb, _ = get_batch('train', batch_size=4)\n",
        "torch.manual_seed(1234)\n",
        "print(f'Input: \\n{xb}')\n",
        "print(f'Output: \\n{m.generate(idx = xb, max_new_tokens=3)}')\n",
        "torch.manual_seed(1234)\n",
        "print(f'Input: \\n{xb[:,-1:]}')\n",
        "print(f'Output: \\n{m.generate(idx = xb[:,-1:], max_new_tokens=3)}')"
      ]
    },
    {
      "cell_type": "markdown",
      "metadata": {
        "id": "FLyxeTwJkfUO"
      },
      "source": [
        "# Third Model: More Attention. MultiHead Attention."
      ]
    },
    {
      "cell_type": "markdown",
      "metadata": {
        "id": "ipmi-iiIkfUT"
      },
      "source": [
        "## Attentive Model II - MultiHead Attention"
      ]
    },
    {
      "cell_type": "code",
      "execution_count": 39,
      "metadata": {
        "id": "ezFKGddikfUT"
      },
      "outputs": [],
      "source": [
        "# Now we add weveral channels of communication, several heads in parallel.\n",
        "# Each channel/head allows for a different type of information.\n",
        "# --> One for vowels from the 2nd position. One for specific consonants.\n",
        "class MultiHeadAttention(nn.Module):\n",
        "    \"\"\" multiple heads of self-attention in parallel \"\"\"\n",
        "\n",
        "    def __init__(self, num_heads, head_size):\n",
        "        super().__init__()\n",
        "        self.heads = nn.ModuleList([Head(head_size) for _ in range(num_heads)])\n",
        "\n",
        "    def forward(self, x):\n",
        "        # x --> (B,T,C)\n",
        "        # h(x) --> (B,T,head_size)\n",
        "        # out --> (B,T,head_size*num_heads) = (B,T,n_embd)\n",
        "        out = torch.cat([h(x) for h in self.heads], dim=-1)\n",
        "        return out"
      ]
    },
    {
      "cell_type": "code",
      "execution_count": 40,
      "metadata": {
        "id": "H7lNl4LdkfUU"
      },
      "outputs": [],
      "source": [
        "class SecondAttentiveModel(nn.Module):\n",
        "\n",
        "    def __init__(self, vocab_size, n_embd):\n",
        "        super().__init__()\n",
        "        # Embedding Table\n",
        "        self.token_embedding_table = nn.Embedding(vocab_size, n_embd) # (V = vocab_size) possible tokens\n",
        "        self.position_embedding_table = nn.Embedding(block_size, n_embd) # (T = block_size) posible positions\n",
        "        # Self-Attention Head\n",
        "        self.ma_head = MultiHeadAttention(num_heads=4, head_size=n_embd//4)\n",
        "        # Back to vocab_size\n",
        "        self.lm_head = nn.Linear(n_embd, vocab_size)\n",
        "\n",
        "    def forward(self, idx, targets=None):\n",
        "        # INPUT: idx(= batch input) and targets(=batch output) are both (B = batch_size, T = block_size) tensor of integers.\n",
        "        # OUTPUT: For every token of the input, returns vocab_size values. So, vocab_size values for (batch_size, block_size) makes the dimension of the output: (B,T,V) -> (B=batch_size, T=block_size, V=vocab_size).\n",
        "\n",
        "        #                 IDX\n",
        "        #        _____________________\n",
        "        #       /\t\t                 /\n",
        "        #      /\t\t                /\n",
        "        #   \t/\t\t                 /   B = Batch Size\n",
        "        #    /\t\t                /\n",
        "        #   /____________________/\n",
        "        #\n",
        "        #        T = Block Size\n",
        "\n",
        "        # Embeding the tokens and its position\n",
        "        B, T = idx.shape\n",
        "        token_emb = self.token_embedding_table(idx) # (B = batch_size, T = block_size, C = n_embd)\n",
        "        postion_emb = self.position_embedding_table(torch.arange(T)) # (T = block_size, C = n_embd)\n",
        "        x = token_emb + postion_emb # (B,T,C) + (T,C) = (B,T,C) + \"B*(1,T,C)\" = (B,T,C) --> Broadcasting\n",
        "\n",
        "        #                 X\n",
        "        #                         ____\n",
        "        #                        /___/\n",
        "        #                        |   |\n",
        "        #                        |   |  C = range(n_embd)\n",
        "        #        _______________ |___|\n",
        "        #       /\t\t            /___ /\n",
        "        #      /\t\t                /\n",
        "        #   \t/\t\t                 /   B = Batch Size\n",
        "        #    /\t\t                /\n",
        "        #   /____________________/\n",
        "        #\n",
        "        #        T = Block Size\n",
        "\n",
        "        # Self-Attention Block\n",
        "        x = self.ma_head(x) # (B,T,C)\n",
        "\n",
        "        # Calculating logits\n",
        "        logits = self.lm_head(x) # (B,T,C) --> (B,T,v)\n",
        "\n",
        "        #             LOGITS\n",
        "        #                         ____\n",
        "        #                        /___/\n",
        "        #                        |   |\n",
        "        #                        |   |  V = Vocab Size\n",
        "        #        _______________ |___|\n",
        "        #       /\t\t            /___ /\n",
        "        #      /\t\t                /\n",
        "        #   \t/\t\t                 /   B = Batch Size\n",
        "        #    /\t\t                /\n",
        "        #   /____________________/\n",
        "        #\n",
        "        #        T = Block Size\n",
        "\n",
        "        # When just evaluating\n",
        "        if targets is None:\n",
        "            loss = None\n",
        "        # When training\n",
        "        else:\n",
        "            # Transformations \"needed\" for F.cross_entropy((batch_size, vocab_size), ...)\n",
        "            B, T, C = logits.shape\n",
        "            logits = logits.view(B*T, C)\n",
        "            targets = targets.view(B*T)\n",
        "            # Cross Entropy Loss\n",
        "            loss = F.cross_entropy(logits, targets)\n",
        "        return logits, loss\n",
        "\n",
        "    def generate(self, idx, max_new_tokens):\n",
        "      # idx is the input batch tensor (B, T) of tokens.\n",
        "      for _ in range(max_new_tokens):\n",
        "          # Crop idx to the last block_size\n",
        "          idx_crop = idx[:,-block_size:]\n",
        "          # Get the predictions for idx --> (B, T, V)\n",
        "          logits, _ = self(idx_crop)\n",
        "          # We are only interested in the predictions (V) for the last token (-1) of every input of the batch (B).\n",
        "          logits = logits[:, -1, :] # --> (B, V)\n",
        "          # Apply softmax to get probabilities\n",
        "          probs = F.softmax(logits, dim=-1) # --> (B, V)\n",
        "          # Sample the tokens using the distribution\n",
        "          idx_next = torch.multinomial(probs, num_samples=1) # (B, 1)\n",
        "          # Append sampled tokens to the running sequence\n",
        "          idx = torch.cat((idx, idx_next), dim=1) # (B, T + 1)\n",
        "      # idx is now (B, T + max_new_tokens).\n",
        "      return idx"
      ]
    },
    {
      "cell_type": "markdown",
      "metadata": {
        "id": "nMlK_rmXkfUU"
      },
      "source": [
        "## Training"
      ]
    },
    {
      "cell_type": "code",
      "execution_count": 41,
      "metadata": {
        "id": "J5fHC3shkfUU"
      },
      "outputs": [],
      "source": [
        "# Hyperparameters recap.\n",
        "\n",
        "# Model\n",
        "vocab_size = vocab_size # number of different tokens\n",
        "block_size = 8 # tokens per sequence feeded to the model\n",
        "batch_size = 32 # number of sequences feeded to the model at the same time\n",
        "n_embd = 32 # Dimension of a encoded token\n",
        "\n",
        "# Trainig\n",
        "lr=1e-3 # Learning rate\n",
        "eval_interval = 300 # frequency of estimation of the loss (over trainig and validation)\n",
        "eval_batches = 200 # number of batches used to estimate the loss (over trainig and validation)\n",
        "max_iters = 10000 # number of processed batches during training\n",
        "device = 'cuda' if torch.cuda.is_available() else 'cpu'"
      ]
    },
    {
      "cell_type": "code",
      "execution_count": 42,
      "metadata": {
        "colab": {
          "base_uri": "https://localhost:8080/",
          "height": 1000,
          "referenced_widgets": [
            "6a7cc8cd1cba4edf86b6cc68ffe747ce",
            "ccf71bc2bd9c4bae88d09da6cdbaa070",
            "2cccc6002c664460b057689ddebb6f8d",
            "18cfce4dc2034a40ab32a6896191407e",
            "866f760adc17407bb53b01030869c2df",
            "fe1f445b875341f5aa0c800b07f6b16b",
            "c66a16a5f22c49f59e13920687756890",
            "c71c0bd2bcae48cea0b7ba9b1fe332de",
            "297605e3bc734826bd06acaf5b29aee2",
            "e741815db98f406eabfb7b937ac9cd41",
            "37d6cc1593b84e24bd8dff4b6ff5e190"
          ]
        },
        "id": "TodzQdJ2kfUU",
        "outputId": "3819a13c-9331-4da8-b5a9-35f5b8b56ab2"
      },
      "outputs": [
        {
          "data": {
            "application/vnd.jupyter.widget-view+json": {
              "model_id": "6a7cc8cd1cba4edf86b6cc68ffe747ce",
              "version_major": 2,
              "version_minor": 0
            },
            "text/plain": [
              "  0%|          | 0/10000 [00:00<?, ?it/s]"
            ]
          },
          "metadata": {},
          "output_type": "display_data"
        },
        {
          "name": "stdout",
          "output_type": "stream",
          "text": [
            "300 iteration:\n",
            "train_loss = 2.472409963607788. valid_loss = 2.501406669616699\n",
            "600 iteration:\n",
            "train_loss = 2.281641721725464. valid_loss = 2.3293416500091553\n",
            "900 iteration:\n",
            "train_loss = 2.2013843059539795. valid_loss = 2.256693124771118\n",
            "1200 iteration:\n",
            "train_loss = 2.1554036140441895. valid_loss = 2.2180402278900146\n",
            "1500 iteration:\n",
            "train_loss = 2.1301305294036865. valid_loss = 2.1901285648345947\n",
            "1800 iteration:\n",
            "train_loss = 2.1096994876861572. valid_loss = 2.152508497238159\n",
            "2100 iteration:\n",
            "train_loss = 2.099005699157715. valid_loss = 2.1487410068511963\n",
            "2400 iteration:\n",
            "train_loss = 2.0747368335723877. valid_loss = 2.1348063945770264\n",
            "2700 iteration:\n",
            "train_loss = 2.0605742931365967. valid_loss = 2.124903678894043\n",
            "3000 iteration:\n",
            "train_loss = 2.0542540550231934. valid_loss = 2.1100971698760986\n",
            "3300 iteration:\n",
            "train_loss = 2.0457513332366943. valid_loss = 2.102700710296631\n",
            "3600 iteration:\n",
            "train_loss = 2.0438807010650635. valid_loss = 2.1013011932373047\n",
            "3900 iteration:\n",
            "train_loss = 2.0339365005493164. valid_loss = 2.0792577266693115\n",
            "4200 iteration:\n",
            "train_loss = 2.03421688079834. valid_loss = 2.08919358253479\n",
            "4500 iteration:\n",
            "train_loss = 2.0253708362579346. valid_loss = 2.0782618522644043\n",
            "4800 iteration:\n",
            "train_loss = 2.018069267272949. valid_loss = 2.072567939758301\n",
            "5100 iteration:\n",
            "train_loss = 2.009766101837158. valid_loss = 2.0703482627868652\n",
            "5400 iteration:\n",
            "train_loss = 2.0048787593841553. valid_loss = 2.0674326419830322\n",
            "5700 iteration:\n",
            "train_loss = 2.0123817920684814. valid_loss = 2.043208122253418\n",
            "6000 iteration:\n",
            "train_loss = 2.0042967796325684. valid_loss = 2.0570359230041504\n",
            "6300 iteration:\n",
            "train_loss = 1.9953131675720215. valid_loss = 2.063764810562134\n",
            "6600 iteration:\n",
            "train_loss = 1.9993830919265747. valid_loss = 2.0456104278564453\n",
            "6900 iteration:\n",
            "train_loss = 1.9960538148880005. valid_loss = 2.045161485671997\n",
            "7200 iteration:\n",
            "train_loss = 1.993113398551941. valid_loss = 2.0393247604370117\n",
            "7500 iteration:\n",
            "train_loss = 1.982364535331726. valid_loss = 2.04525089263916\n",
            "7800 iteration:\n",
            "train_loss = 1.9795528650283813. valid_loss = 2.0420889854431152\n",
            "8100 iteration:\n",
            "train_loss = 1.989863634109497. valid_loss = 2.038027763366699\n",
            "8400 iteration:\n",
            "train_loss = 1.9829320907592773. valid_loss = 2.0386714935302734\n",
            "8700 iteration:\n",
            "train_loss = 1.9770292043685913. valid_loss = 2.035109519958496\n",
            "9000 iteration:\n",
            "train_loss = 1.9803074598312378. valid_loss = 2.0402519702911377\n",
            "9300 iteration:\n",
            "train_loss = 1.971917986869812. valid_loss = 2.0257325172424316\n",
            "9600 iteration:\n",
            "train_loss = 1.9697853326797485. valid_loss = 2.0304720401763916\n",
            "9900 iteration:\n",
            "train_loss = 1.9701080322265625. valid_loss = 2.0246500968933105\n"
          ]
        },
        {
          "data": {
            "image/png": "[encoded data removed]",
            "text/plain": [
              "<Figure size 640x480 with 1 Axes>"
            ]
          },
          "metadata": {},
          "output_type": "display_data"
        }
      ],
      "source": [
        "# Re-creating model to get random intial values for the parameters\n",
        "torch.manual_seed(1234)\n",
        "m = SecondAttentiveModel(vocab_size = vocab_size, n_embd = 32)\n",
        "\n",
        "# PyTorch optimizer.\n",
        "optimizer = torch.optim.AdamW(m.parameters(), lr=lr)\n",
        "\n",
        "\n",
        "# Training loop\n",
        "train_loss = [] # i-th item = estimated loss over training set after eval_interval processed batches\n",
        "val_loss = [] # i-th item = estimated loss over validation set after eval_interval processed batches\n",
        "for i in tqdm(range(max_iters)):\n",
        "\n",
        "    # Fitting phase\n",
        "    # Sample a batch of data\n",
        "    X, Y = get_batch('train', batch_size=batch_size)\n",
        "    # Evaluate the loss\n",
        "    batch_logits, batch_loss = m(X, Y)\n",
        "    # Backpropagate the gradient\n",
        "    optimizer.zero_grad(set_to_none=True) # they add-up if kept\n",
        "    batch_loss.backward()\n",
        "    # Optimize the parameters\n",
        "    optimizer.step()\n",
        "\n",
        "    # Evaluating phase\n",
        "    if i >= eval_interval and i % eval_interval == 0:\n",
        "      print(f'{i} iteration:')\n",
        "      losses = estimate_loss(model=m, eval_iters=eval_interval, batch_size=batch_size)\n",
        "      train_loss.append(losses['train'])\n",
        "      val_loss.append(losses['val'])\n",
        "\n",
        "# Show results\n",
        "plt.plot(torch.tensor(train_loss).log()) # .log() Makes the visualization easier\n",
        "plt.plot(torch.tensor(val_loss).log())\n",
        "plt.show()"
      ]
    },
    {
      "cell_type": "markdown",
      "metadata": {
        "id": "Abqycr4vkfUU"
      },
      "source": [
        "### Results"
      ]
    },
    {
      "cell_type": "code",
      "execution_count": 43,
      "metadata": {
        "colab": {
          "base_uri": "https://localhost:8080/"
        },
        "id": "dZhnwoOTkfUU",
        "outputId": "b135ac5c-4888-4c7d-fd4e-1556d091c045"
      },
      "outputs": [
        {
          "name": "stdout",
          "output_type": "stream",
          "text": [
            "Train Loss = 1.9701080322265625 \n",
            "Validation Loss = 2.0246500968933105\n"
          ]
        }
      ],
      "source": [
        "print(f'Train Loss = {train_loss[-1].item()} \\nValidation Loss = {val_loss[-1].item()}')"
      ]
    },
    {
      "cell_type": "markdown",
      "metadata": {
        "id": "6MLyvGW3kfUU"
      },
      "source": [
        "> Slightly better model, long way to go."
      ]
    },
    {
      "cell_type": "markdown",
      "metadata": {
        "id": "6-ETv1X5kfUU"
      },
      "source": [
        "## Generating after training"
      ]
    },
    {
      "cell_type": "code",
      "execution_count": 44,
      "metadata": {
        "colab": {
          "base_uri": "https://localhost:8080/"
        },
        "id": "BeoX4nSRkfUU",
        "outputId": "c96e96eb-2cfe-4f9f-8df2-4fef89dbed71"
      },
      "outputs": [
        {
          "name": "stdout",
          "output_type": "stream",
          "text": [
            "---- Generating sequence from ['\\n']:\n",
            "Encoded: tensor([[ 0, 48, 71, 69,  1, 54, 71, 55, 65,  1, 66, 65, 68, 56, 81, 62, 65, 69,\n",
            "          1, 55, 56,  1, 60, 81, 64,  1, 56, 69,  7,  1, 55, 60, 56, 68, 52, 68,\n",
            "          1, 58, 71, 64, 52,  1, 67, 71, 56,  1, 69, 71,  1, 74, 65,  7,  1, 74,\n",
            "          1, 40, 71, 60, 61, 65, 70, 68, 65,  1, 69, 56,  1, 52,  1, 53, 52, 55,\n",
            "         65, 21,  1, 55, 56,  1, 74, 65,  1, 66, 52, 69, 60, 60, 53, 68, 52,  1,\n",
            "         58, 71, 81, 62,  1, 54, 60, 56, 64, 70, 71]])\n",
            "Decoded: \n",
            "Yus cudo porélos de ín es, dierar guna que su yo, y Quijotro se a bado; de yo pasiibra gúl cientu\n"
          ]
        }
      ],
      "source": [
        "# Generating from 0 token (which is the '\\n' character)\n",
        "starting_token = torch.zeros((1, 1), dtype=torch.long)\n",
        "print(\"---- Generating sequence from [\\'\\\\n\\']:\")\n",
        "torch.manual_seed(98)\n",
        "generated_tokens = m.generate(idx=starting_token, max_new_tokens=100)\n",
        "print(f\"Encoded: {generated_tokens}\")\n",
        "print(f\"Decoded: {decode(generated_tokens[0].tolist())}\")"
      ]
    },
    {
      "cell_type": "markdown",
      "metadata": {
        "id": "SvfjuCNPV0E7"
      },
      "source": [
        "# Fourth Model: More Thinking. More computation."
      ]
    },
    {
      "cell_type": "markdown",
      "metadata": {
        "id": "9sbqVRIkV0E9"
      },
      "source": [
        "## Attentive Model III"
      ]
    },
    {
      "cell_type": "code",
      "execution_count": 45,
      "metadata": {
        "id": "LuXiccvmif7B"
      },
      "outputs": [],
      "source": [
        "# Now we a computation phase where every node \"thinks\" about the gathered data. Independently.\n",
        "class FeedForward(nn.Module):\n",
        "    \"\"\" a simple linear layer followed by a non-linearity \"\"\"\n",
        "\n",
        "    def __init__(self, n_embd):\n",
        "        super().__init__()\n",
        "        self.net = nn.Sequential(\n",
        "            nn.Linear(n_embd, n_embd),\n",
        "            nn.ReLU(),\n",
        "        )\n",
        "\n",
        "    def forward(self, x):\n",
        "        # INPUT = x --> (B,T,C)\n",
        "        # OUTPUT --> (B,T,C)\n",
        "        return self.net(x)"
      ]
    },
    {
      "cell_type": "code",
      "execution_count": 46,
      "metadata": {
        "id": "rubXAr-6V0E9"
      },
      "outputs": [],
      "source": [
        "class ThirdAttentiveModel(nn.Module):\n",
        "\n",
        "    def __init__(self, vocab_size, n_embd):\n",
        "        super().__init__()\n",
        "        # Embedding Table\n",
        "        self.token_embedding_table = nn.Embedding(vocab_size, n_embd) # (V = vocab_size) possible tokens\n",
        "        self.position_embedding_table = nn.Embedding(block_size, n_embd) # (T = block_size) posible positions\n",
        "        # Self-Attention Head\n",
        "        self.ma_head = MultiHeadAttention(num_heads=4, head_size=n_embd//4)\n",
        "        # Thinking\n",
        "        self.ffwd = FeedForward(n_embd)\n",
        "        # Back to vocab_size\n",
        "        self.lm_head = nn.Linear(n_embd, vocab_size)\n",
        "\n",
        "    def forward(self, idx, targets=None):\n",
        "        # INPUT: idx(= batch input) and targets(=batch output) are both (B = batch_size, T = block_size) tensor of integers.\n",
        "        # OUTPUT: For every token of the input, returns vocab_size values. So, vocab_size values for (batch_size, block_size) makes the dimension of the output: (B,T,V) -> (B=batch_size, T=block_size, V=vocab_size).\n",
        "\n",
        "        #                 IDX\n",
        "        #        _____________________\n",
        "        #       /\t\t                 /\n",
        "        #      /\t\t                /\n",
        "        #   \t/\t\t                 /   B = Batch Size\n",
        "        #    /\t\t                /\n",
        "        #   /____________________/\n",
        "        #\n",
        "        #        T = Block Size\n",
        "\n",
        "        # Embeding the tokens and its position\n",
        "        B, T = idx.shape\n",
        "        token_emb = self.token_embedding_table(idx) # (B = batch_size, T = block_size, C = n_embd)\n",
        "        postion_emb = self.position_embedding_table(torch.arange(T)) # (T = block_size, C = n_embd)\n",
        "        x = token_emb + postion_emb # (B,T,C) + (T,C) = (B,T,C) + \"B*(1,T,C)\" = (B,T,C) --> Broadcasting\n",
        "\n",
        "        #                 X\n",
        "        #                         ____\n",
        "        #                        /___/\n",
        "        #                        |   |\n",
        "        #                        |   |  C = range(n_embd)\n",
        "        #        _______________ |___|\n",
        "        #       /\t\t            /___ /\n",
        "        #      /\t\t                /\n",
        "        #   \t/\t\t                 /   B = Batch Size\n",
        "        #    /\t\t                /\n",
        "        #   /____________________/\n",
        "        #\n",
        "        #        T = Block Size\n",
        "\n",
        "        # Self-Attention\n",
        "        x = self.ma_head(x) # (B,T,C)\n",
        "\n",
        "        # Thinking\n",
        "        x = self.ffwd(x) # (B,T,C)\n",
        "\n",
        "        # Calculating logits\n",
        "        logits = self.lm_head(x) # (B,T,C) --> (B,T,v)\n",
        "\n",
        "        #             LOGITS\n",
        "        #                         ____\n",
        "        #                        /___/\n",
        "        #                        |   |\n",
        "        #                        |   |  V = Vocab Size\n",
        "        #        _______________ |___|\n",
        "        #       /\t\t            /___ /\n",
        "        #      /\t\t                /\n",
        "        #   \t/\t\t                 /   B = Batch Size\n",
        "        #    /\t\t                /\n",
        "        #   /____________________/\n",
        "        #\n",
        "        #        T = Block Size\n",
        "\n",
        "        # When just evaluating\n",
        "        if targets is None:\n",
        "            loss = None\n",
        "        # When training\n",
        "        else:\n",
        "            # Transformations \"needed\" for F.cross_entropy((batch_size, vocab_size), ...)\n",
        "            B, T, C = logits.shape\n",
        "            logits = logits.view(B*T, C)\n",
        "            targets = targets.view(B*T)\n",
        "            # Cross Entropy Loss\n",
        "            loss = F.cross_entropy(logits, targets)\n",
        "        return logits, loss\n",
        "\n",
        "    def generate(self, idx, max_new_tokens):\n",
        "      # idx is the input batch tensor (B, T) of tokens.\n",
        "      for _ in range(max_new_tokens):\n",
        "          # Crop idx to the last block_size\n",
        "          idx_crop = idx[:,-block_size:]\n",
        "          # Get the predictions for idx --> (B, T, V)\n",
        "          logits, _ = self(idx_crop)\n",
        "          # We are only interested in the predictions (V) for the last token (-1) of every input of the batch (B).\n",
        "          logits = logits[:, -1, :] # --> (B, V)\n",
        "          # Apply softmax to get probabilities\n",
        "          probs = F.softmax(logits, dim=-1) # --> (B, V)\n",
        "          # Sample the tokens using the distribution\n",
        "          idx_next = torch.multinomial(probs, num_samples=1) # (B, 1)\n",
        "          # Append sampled tokens to the running sequence\n",
        "          idx = torch.cat((idx, idx_next), dim=1) # (B, T + 1)\n",
        "      # idx is now (B, T + max_new_tokens).\n",
        "      return idx"
      ]
    },
    {
      "cell_type": "markdown",
      "metadata": {
        "id": "pUKxtQ57V0E9"
      },
      "source": [
        "## Training"
      ]
    },
    {
      "cell_type": "code",
      "execution_count": 47,
      "metadata": {
        "id": "Hx4TzfrAV0E9"
      },
      "outputs": [],
      "source": [
        "# Hyperparameters recap.\n",
        "\n",
        "# Model\n",
        "vocab_size = vocab_size # number of different tokens\n",
        "block_size = 8 # tokens per sequence feeded to the model\n",
        "batch_size = 32 # number of sequences feeded to the model at the same time\n",
        "n_embd = 32 # Dimension of a encoded token\n",
        "\n",
        "# Trainig\n",
        "lr=1e-3 # Learning rate\n",
        "eval_interval = 300 # frequency of estimation of the loss (over trainig and validation)\n",
        "eval_batches = 200 # number of batches used to estimate the loss (over trainig and validation)\n",
        "max_iters = 10000 # number of processed batches during training\n",
        "device = 'cuda' if torch.cuda.is_available() else 'cpu'"
      ]
    },
    {
      "cell_type": "code",
      "execution_count": 48,
      "metadata": {
        "colab": {
          "base_uri": "https://localhost:8080/",
          "height": 1000,
          "referenced_widgets": [
            "1a731c65e90249359960d612a707d370",
            "611d3924bbb04499b3400361f8808237",
            "23087c83cb7043aea8dc9fdf3c3c9f18",
            "dee2441ce2434c4a83df3044a92f083b",
            "ce8835f40edc482fba87cdd37096343c",
            "91d40c89fe574bd5a75a7aab6ebc57ae",
            "42b53eb5095e434b9b0ffa7122115357",
            "ae2a44370ebd42b5a9b488bb6821429b",
            "7e179b2d157e4283a4054be7eb58ea31",
            "ed3cad435490420681f8cec713bc4735",
            "99fad94e99484272abb6a7f40ecaa07c"
          ]
        },
        "id": "E9kl85EmV0E9",
        "outputId": "baa1f059-8a6b-4a6d-c9c6-387f790fe80e"
      },
      "outputs": [
        {
          "data": {
            "application/vnd.jupyter.widget-view+json": {
              "model_id": "1a731c65e90249359960d612a707d370",
              "version_major": 2,
              "version_minor": 0
            },
            "text/plain": [
              "  0%|          | 0/10000 [00:00<?, ?it/s]"
            ]
          },
          "metadata": {},
          "output_type": "display_data"
        },
        {
          "name": "stdout",
          "output_type": "stream",
          "text": [
            "300 iteration:\n",
            "train_loss = 2.4116125106811523. valid_loss = 2.443128824234009\n",
            "600 iteration:\n",
            "train_loss = 2.259600877761841. valid_loss = 2.3076581954956055\n",
            "900 iteration:\n",
            "train_loss = 2.1834731101989746. valid_loss = 2.2434046268463135\n",
            "1200 iteration:\n",
            "train_loss = 2.134544610977173. valid_loss = 2.19830322265625\n",
            "1500 iteration:\n",
            "train_loss = 2.1128768920898438. valid_loss = 2.1742236614227295\n",
            "1800 iteration:\n",
            "train_loss = 2.098580837249756. valid_loss = 2.140843391418457\n",
            "2100 iteration:\n",
            "train_loss = 2.081547498703003. valid_loss = 2.133807420730591\n",
            "2400 iteration:\n",
            "train_loss = 2.0553581714630127. valid_loss = 2.1184403896331787\n",
            "2700 iteration:\n",
            "train_loss = 2.0412168502807617. valid_loss = 2.113168954849243\n",
            "3000 iteration:\n",
            "train_loss = 2.0341434478759766. valid_loss = 2.089397430419922\n",
            "3300 iteration:\n",
            "train_loss = 2.0199108123779297. valid_loss = 2.0791869163513184\n",
            "3600 iteration:\n",
            "train_loss = 2.0204954147338867. valid_loss = 2.0741801261901855\n",
            "3900 iteration:\n",
            "train_loss = 2.005819320678711. valid_loss = 2.057255506515503\n",
            "4200 iteration:\n",
            "train_loss = 2.002779483795166. valid_loss = 2.0506460666656494\n",
            "4500 iteration:\n",
            "train_loss = 1.9926289319992065. valid_loss = 2.0609471797943115\n",
            "4800 iteration:\n",
            "train_loss = 1.982208490371704. valid_loss = 2.0387768745422363\n",
            "5100 iteration:\n",
            "train_loss = 1.9786102771759033. valid_loss = 2.0430221557617188\n",
            "5400 iteration:\n",
            "train_loss = 1.9732106924057007. valid_loss = 2.038843870162964\n",
            "5700 iteration:\n",
            "train_loss = 1.9853792190551758. valid_loss = 2.021993398666382\n",
            "6000 iteration:\n",
            "train_loss = 1.9719215631484985. valid_loss = 2.0273513793945312\n",
            "6300 iteration:\n",
            "train_loss = 1.9588940143585205. valid_loss = 2.0306906700134277\n",
            "6600 iteration:\n",
            "train_loss = 1.9674714803695679. valid_loss = 2.014812707901001\n",
            "6900 iteration:\n",
            "train_loss = 1.9578845500946045. valid_loss = 2.014296054840088\n",
            "7200 iteration:\n",
            "train_loss = 1.9561479091644287. valid_loss = 2.0144851207733154\n",
            "7500 iteration:\n",
            "train_loss = 1.9439762830734253. valid_loss = 2.022770643234253\n",
            "7800 iteration:\n",
            "train_loss = 1.9453752040863037. valid_loss = 2.0088438987731934\n",
            "8100 iteration:\n",
            "train_loss = 1.9539597034454346. valid_loss = 2.0125322341918945\n",
            "8400 iteration:\n",
            "train_loss = 1.9409911632537842. valid_loss = 2.008490800857544\n",
            "8700 iteration:\n",
            "train_loss = 1.9350675344467163. valid_loss = 1.999491810798645\n",
            "9000 iteration:\n",
            "train_loss = 1.9416604042053223. valid_loss = 2.003347873687744\n",
            "9300 iteration:\n",
            "train_loss = 1.934593677520752. valid_loss = 1.9917391538619995\n",
            "9600 iteration:\n",
            "train_loss = 1.9294508695602417. valid_loss = 1.9938476085662842\n",
            "9900 iteration:\n",
            "train_loss = 1.9373465776443481. valid_loss = 1.9906009435653687\n"
          ]
        },
        {
          "data": {
            "image/png": "[encoded data removed]",
            "text/plain": [
              "<Figure size 640x480 with 1 Axes>"
            ]
          },
          "metadata": {},
          "output_type": "display_data"
        }
      ],
      "source": [
        "# Re-creating model to get random intial values for the parameters\n",
        "torch.manual_seed(1234)\n",
        "m = ThirdAttentiveModel(vocab_size = vocab_size, n_embd = 32)\n",
        "\n",
        "# PyTorch optimizer.\n",
        "optimizer = torch.optim.AdamW(m.parameters(), lr=lr)\n",
        "\n",
        "\n",
        "# Training loop\n",
        "train_loss = [] # i-th item = estimated loss over training set after eval_interval processed batches\n",
        "val_loss = [] # i-th item = estimated loss over validation set after eval_interval processed batches\n",
        "for i in tqdm(range(max_iters)):\n",
        "\n",
        "    # Fitting phase\n",
        "    # Sample a batch of data\n",
        "    X, Y = get_batch('train', batch_size=batch_size)\n",
        "    # Evaluate the loss\n",
        "    batch_logits, batch_loss = m(X, Y)\n",
        "    # Backpropagate the gradient\n",
        "    optimizer.zero_grad(set_to_none=True) # they add-up if kept\n",
        "    batch_loss.backward()\n",
        "    # Optimize the parameters\n",
        "    optimizer.step()\n",
        "\n",
        "    # Evaluating phase\n",
        "    if i >= eval_interval and i % eval_interval == 0:\n",
        "      print(f'{i} iteration:')\n",
        "      losses = estimate_loss(model=m, eval_iters=eval_interval, batch_size=batch_size)\n",
        "      train_loss.append(losses['train'])\n",
        "      val_loss.append(losses['val'])\n",
        "\n",
        "# Show results\n",
        "plt.plot(torch.tensor(train_loss).log()) # .log() Makes the visualization easier\n",
        "plt.plot(torch.tensor(val_loss).log())\n",
        "plt.show()"
      ]
    },
    {
      "cell_type": "markdown",
      "metadata": {
        "id": "bnovoZaYV0E-"
      },
      "source": [
        "### Results"
      ]
    },
    {
      "cell_type": "code",
      "execution_count": 49,
      "metadata": {
        "colab": {
          "base_uri": "https://localhost:8080/"
        },
        "id": "fWtvhfR1V0E-",
        "outputId": "8b71721d-3496-45a8-f696-ce2623421b8c"
      },
      "outputs": [
        {
          "name": "stdout",
          "output_type": "stream",
          "text": [
            "Train Loss = 1.9373465776443481 \n",
            "Validation Loss = 1.9906009435653687\n"
          ]
        }
      ],
      "source": [
        "print(f'Train Loss = {train_loss[-1].item()} \\nValidation Loss = {val_loss[-1].item()}')"
      ]
    },
    {
      "cell_type": "markdown",
      "metadata": {
        "id": "Cx9K6TK-V0E-"
      },
      "source": [
        "> Slightly better model, long way to go."
      ]
    },
    {
      "cell_type": "markdown",
      "metadata": {
        "id": "zXy3LPNOV0E-"
      },
      "source": [
        "## Generating after training"
      ]
    },
    {
      "cell_type": "code",
      "execution_count": 50,
      "metadata": {
        "colab": {
          "base_uri": "https://localhost:8080/"
        },
        "id": "6B1HodOSV0E-",
        "outputId": "50b8f6b5-e089-458f-8701-c68153e584ae"
      },
      "outputs": [
        {
          "name": "stdout",
          "output_type": "stream",
          "text": [
            "---- Generating sequence from ['\\n']:\n",
            "Encoded: tensor([[ 0, 48, 52, 64,  1, 54, 71, 55, 65, 62, 60, 61, 65, 69,  1, 54, 65, 69,\n",
            "         65, 69,  1, 55, 60, 65,  1, 63, 56,  1, 62, 65, 69,  1, 55, 56,  1, 52,\n",
            "         62, 58, 71, 64, 52,  1, 67, 71, 56,  1, 69, 71,  1, 66, 65, 68, 67, 71,\n",
            "         56,  1, 69, 60, 63, 60,  1, 70, 68, 60, 61, 65, 70, 68, 65,  1, 52, 55,\n",
            "         65, 64, 65, 55, 65,  7,  1, 67, 71, 56,  1, 69, 71, 74, 52,  1, 52,  1,\n",
            "         58, 71, 56, 81,  1, 62, 52,  1, 55, 56,  1]])\n",
            "Decoded: \n",
            "Yan cudolijos cosos dio me los de alguna que su porque simi trijotro adonodo, que suya a gué la de \n"
          ]
        }
      ],
      "source": [
        "# Generating from 0 token (which is the '\\n' character)\n",
        "starting_token = torch.zeros((1, 1), dtype=torch.long)\n",
        "print(\"---- Generating sequence from [\\'\\\\n\\']:\")\n",
        "torch.manual_seed(98)\n",
        "generated_tokens = m.generate(idx=starting_token, max_new_tokens=100)\n",
        "print(f\"Encoded: {generated_tokens}\")\n",
        "print(f\"Decoded: {decode(generated_tokens[0].tolist())}\")"
      ]
    },
    {
      "cell_type": "markdown",
      "metadata": {
        "id": "m2iNqHatmAGL"
      },
      "source": [
        "# Fifth Model: Deeper Model."
      ]
    },
    {
      "cell_type": "markdown",
      "metadata": {
        "id": "7XdaBCY6mAGR"
      },
      "source": [
        "## Attentive Model IV"
      ]
    },
    {
      "cell_type": "code",
      "execution_count": 51,
      "metadata": {
        "id": "iQL-ZWRSmv8K"
      },
      "outputs": [],
      "source": [
        "# Now we replicate the comunication + computation/thinking block (multihead and feedforward modules) several times to give more power to the model.\n",
        "class Block(nn.Module):\n",
        "    \"\"\" Transformer block: communication followed by computation \"\"\"\n",
        "\n",
        "    def __init__(self, n_embd, n_head):\n",
        "        super().__init__()\n",
        "        head_size = n_embd // n_head\n",
        "        self.sa = MultiHeadAttention(n_head, head_size)\n",
        "        self.ffwd = FeedForward(n_embd)\n",
        "\n",
        "    def forward(self, x):\n",
        "        x = self.sa(x)\n",
        "        x = self.ffwd(x)\n",
        "        return x"
      ]
    },
    {
      "cell_type": "code",
      "execution_count": 52,
      "metadata": {
        "id": "foBWpzmVmAGR"
      },
      "outputs": [],
      "source": [
        "class FourthAttentiveModel(nn.Module):\n",
        "\n",
        "    def __init__(self, vocab_size, n_embd):\n",
        "        super().__init__()\n",
        "        # Embedding Table\n",
        "        self.token_embedding_table = nn.Embedding(vocab_size, n_embd) # (V = vocab_size) possible tokens\n",
        "        self.position_embedding_table = nn.Embedding(block_size, n_embd) # (T = block_size) posible positions\n",
        "        # Self-Attention Head\n",
        "        self.blocks = nn.Sequential(\n",
        "            Block(n_embd, n_head=4),\n",
        "            Block(n_embd, n_head=4),\n",
        "            Block(n_embd, n_head=4),\n",
        "        )\n",
        "        # Back to vocab_size\n",
        "        self.lm_head = nn.Linear(n_embd, vocab_size)\n",
        "\n",
        "    def forward(self, idx, targets=None):\n",
        "        # INPUT: idx(= batch input) and targets(=batch output) are both (B = batch_size, T = block_size) tensor of integers.\n",
        "        # OUTPUT: For every token of the input, returns vocab_size values. So, vocab_size values for (batch_size, block_size) makes the dimension of the output: (B,T,V) -> (B=batch_size, T=block_size, V=vocab_size).\n",
        "\n",
        "        #                 IDX\n",
        "        #        _____________________\n",
        "        #       /\t\t                 /\n",
        "        #      /\t\t                /\n",
        "        #   \t/\t\t                 /   B = Batch Size\n",
        "        #    /\t\t                /\n",
        "        #   /____________________/\n",
        "        #\n",
        "        #        T = Block Size\n",
        "\n",
        "        # Embeding the tokens and its position\n",
        "        B, T = idx.shape\n",
        "        token_emb = self.token_embedding_table(idx) # (B = batch_size, T = block_size, C = n_embd)\n",
        "        postion_emb = self.position_embedding_table(torch.arange(T)) # (T = block_size, C = n_embd)\n",
        "        x = token_emb + postion_emb # (B,T,C) + (T,C) = (B,T,C) + \"B*(1,T,C)\" = (B,T,C) --> Broadcasting\n",
        "\n",
        "        #                 X\n",
        "        #                         ____\n",
        "        #                        /___/\n",
        "        #                        |   |\n",
        "        #                        |   |  C = range(n_embd)\n",
        "        #        _______________ |___|\n",
        "        #       /\t\t            /___ /\n",
        "        #      /\t\t                /\n",
        "        #   \t/\t\t                 /   B = Batch Size\n",
        "        #    /\t\t                /\n",
        "        #   /____________________/\n",
        "        #\n",
        "        #        T = Block Size\n",
        "\n",
        "        # Self-Attention + Computation\n",
        "        x = self.blocks(x) # (B,T,C)\n",
        "\n",
        "        # Calculating logits\n",
        "        logits = self.lm_head(x) # (B,T,C) --> (B,T,v)\n",
        "\n",
        "        #             LOGITS\n",
        "        #                         ____\n",
        "        #                        /___/\n",
        "        #                        |   |\n",
        "        #                        |   |  V = Vocab Size\n",
        "        #        _______________ |___|\n",
        "        #       /\t\t            /___ /\n",
        "        #      /\t\t                /\n",
        "        #   \t/\t\t                 /   B = Batch Size\n",
        "        #    /\t\t                /\n",
        "        #   /____________________/\n",
        "        #\n",
        "        #        T = Block Size\n",
        "\n",
        "        # When just evaluating\n",
        "        if targets is None:\n",
        "            loss = None\n",
        "        # When training\n",
        "        else:\n",
        "            # Transformations \"needed\" for F.cross_entropy((batch_size, vocab_size), ...)\n",
        "            B, T, C = logits.shape\n",
        "            logits = logits.view(B*T, C)\n",
        "            targets = targets.view(B*T)\n",
        "            # Cross Entropy Loss\n",
        "            loss = F.cross_entropy(logits, targets)\n",
        "        return logits, loss\n",
        "\n",
        "    def generate(self, idx, max_new_tokens):\n",
        "      # idx is the input batch tensor (B, T) of tokens.\n",
        "      for _ in range(max_new_tokens):\n",
        "          # Crop idx to the last block_size\n",
        "          idx_crop = idx[:,-block_size:]\n",
        "          # Get the predictions for idx --> (B, T, V)\n",
        "          logits, _ = self(idx_crop)\n",
        "          # We are only interested in the predictions (V) for the last token (-1) of every input of the batch (B).\n",
        "          logits = logits[:, -1, :] # --> (B, V)\n",
        "          # Apply softmax to get probabilities\n",
        "          probs = F.softmax(logits, dim=-1) # --> (B, V)\n",
        "          # Sample the tokens using the distribution\n",
        "          idx_next = torch.multinomial(probs, num_samples=1) # (B, 1)\n",
        "          # Append sampled tokens to the running sequence\n",
        "          idx = torch.cat((idx, idx_next), dim=1) # (B, T + 1)\n",
        "      # idx is now (B, T + max_new_tokens).\n",
        "      return idx"
      ]
    },
    {
      "cell_type": "markdown",
      "metadata": {
        "id": "cwTjRVirmAGR"
      },
      "source": [
        "## Training"
      ]
    },
    {
      "cell_type": "code",
      "execution_count": 53,
      "metadata": {
        "id": "LO1MSAWMmAGS"
      },
      "outputs": [],
      "source": [
        "# Hyperparameters recap.\n",
        "\n",
        "# Model\n",
        "vocab_size = vocab_size # number of different tokens\n",
        "block_size = 8 # tokens per sequence feeded to the model\n",
        "batch_size = 32 # number of sequences feeded to the model at the same time\n",
        "n_embd = 32 # Dimension of a encoded token\n",
        "\n",
        "# Trainig\n",
        "lr=1e-3 # Learning rate\n",
        "eval_interval = 300 # frequency of estimation of the loss (over trainig and validation)\n",
        "eval_batches = 200 # number of batches used to estimate the loss (over trainig and validation)\n",
        "max_iters = 10000 # number of processed batches during training\n",
        "device = 'cuda' if torch.cuda.is_available() else 'cpu'"
      ]
    },
    {
      "cell_type": "code",
      "execution_count": 54,
      "metadata": {
        "colab": {
          "base_uri": "https://localhost:8080/",
          "height": 1000,
          "referenced_widgets": [
            "84f61a3e1d234325a777216e15c411cc",
            "513e586e24174a808a47071b969d2dda",
            "5ecefcb14fb24e229b439540ff66a967",
            "289af7fc576d418684c05f5c78e3fb33",
            "2f2503dc8d324635984b5c75e8666208",
            "8118d6f0f5da4c128afc8b2e63d0ec40",
            "22718ffa11f54a7da3ba29f54923b927",
            "ad6e1364ef3641fd98df9a7ecd29091b",
            "2615692ffcdc4496afaec153d6dfb34c",
            "f1163bf08cfa4cdf9efa6f6222cfbfa0",
            "6ad6ae92d3654bbd8ba9a2b21df602ba"
          ]
        },
        "id": "s2aiO14PmAGS",
        "outputId": "a34c04b8-301f-46f0-fe85-7bfcb25f7b23"
      },
      "outputs": [
        {
          "data": {
            "application/vnd.jupyter.widget-view+json": {
              "model_id": "84f61a3e1d234325a777216e15c411cc",
              "version_major": 2,
              "version_minor": 0
            },
            "text/plain": [
              "  0%|          | 0/10000 [00:00<?, ?it/s]"
            ]
          },
          "metadata": {},
          "output_type": "display_data"
        },
        {
          "name": "stdout",
          "output_type": "stream",
          "text": [
            "300 iteration:\n",
            "train_loss = 2.9391791820526123. valid_loss = 2.9703681468963623\n",
            "600 iteration:\n",
            "train_loss = 2.7495901584625244. valid_loss = 2.785081148147583\n",
            "900 iteration:\n",
            "train_loss = 2.454596757888794. valid_loss = 2.48980975151062\n",
            "1200 iteration:\n",
            "train_loss = 2.357818126678467. valid_loss = 2.400665760040283\n",
            "1500 iteration:\n",
            "train_loss = 2.2982265949249268. valid_loss = 2.3375041484832764\n",
            "1800 iteration:\n",
            "train_loss = 2.2394447326660156. valid_loss = 2.285999059677124\n",
            "2100 iteration:\n",
            "train_loss = 2.1925277709960938. valid_loss = 2.2309021949768066\n",
            "2400 iteration:\n",
            "train_loss = 2.1587259769439697. valid_loss = 2.207059383392334\n",
            "2700 iteration:\n",
            "train_loss = 2.120483160018921. valid_loss = 2.1821393966674805\n",
            "3000 iteration:\n",
            "train_loss = 2.103654623031616. valid_loss = 2.167989492416382\n",
            "3300 iteration:\n",
            "train_loss = 2.078101873397827. valid_loss = 2.1330323219299316\n",
            "3600 iteration:\n",
            "train_loss = 2.072167158126831. valid_loss = 2.1160290241241455\n",
            "3900 iteration:\n",
            "train_loss = 2.0607120990753174. valid_loss = 2.111773729324341\n",
            "4200 iteration:\n",
            "train_loss = 2.052675485610962. valid_loss = 2.0940091609954834\n",
            "4500 iteration:\n",
            "train_loss = 2.0490360260009766. valid_loss = 2.096228837966919\n",
            "4800 iteration:\n",
            "train_loss = 2.0294156074523926. valid_loss = 2.0805792808532715\n",
            "5100 iteration:\n",
            "train_loss = 2.0259509086608887. valid_loss = 2.071920394897461\n",
            "5400 iteration:\n",
            "train_loss = 2.0244133472442627. valid_loss = 2.086364269256592\n",
            "5700 iteration:\n",
            "train_loss = 2.017446756362915. valid_loss = 2.0681569576263428\n",
            "6000 iteration:\n",
            "train_loss = 1.9968756437301636. valid_loss = 2.05560040473938\n",
            "6300 iteration:\n",
            "train_loss = 1.9944144487380981. valid_loss = 2.0572128295898438\n",
            "6600 iteration:\n",
            "train_loss = 1.9952539205551147. valid_loss = 2.0394914150238037\n",
            "6900 iteration:\n",
            "train_loss = 1.990378975868225. valid_loss = 2.051731824874878\n",
            "7200 iteration:\n",
            "train_loss = 1.9855183362960815. valid_loss = 2.0358781814575195\n",
            "7500 iteration:\n",
            "train_loss = 1.9761029481887817. valid_loss = 2.022825002670288\n",
            "7800 iteration:\n",
            "train_loss = 1.9708231687545776. valid_loss = 2.0228848457336426\n",
            "8100 iteration:\n",
            "train_loss = 1.9532383680343628. valid_loss = 2.0087366104125977\n",
            "8400 iteration:\n",
            "train_loss = 1.9530245065689087. valid_loss = 2.0169873237609863\n",
            "8700 iteration:\n",
            "train_loss = 1.9469685554504395. valid_loss = 2.0060760974884033\n",
            "9000 iteration:\n",
            "train_loss = 1.9631946086883545. valid_loss = 2.0057380199432373\n",
            "9300 iteration:\n",
            "train_loss = 1.9440138339996338. valid_loss = 1.9971466064453125\n",
            "9600 iteration:\n",
            "train_loss = 1.950026273727417. valid_loss = 2.0059003829956055\n",
            "9900 iteration:\n",
            "train_loss = 1.9341790676116943. valid_loss = 1.9899556636810303\n"
          ]
        },
        {
          "data": {
            "image/png": "[encoded data removed]",
            "text/plain": [
              "<Figure size 640x480 with 1 Axes>"
            ]
          },
          "metadata": {},
          "output_type": "display_data"
        }
      ],
      "source": [
        "# Re-creating model to get random intial values for the parameters\n",
        "torch.manual_seed(1234)\n",
        "m = FourthAttentiveModel(vocab_size = vocab_size, n_embd = 32)\n",
        "\n",
        "# PyTorch optimizer.\n",
        "optimizer = torch.optim.AdamW(m.parameters(), lr=lr)\n",
        "\n",
        "\n",
        "# Training loop\n",
        "train_loss = [] # i-th item = estimated loss over training set after eval_interval processed batches\n",
        "val_loss = [] # i-th item = estimated loss over validation set after eval_interval processed batches\n",
        "for i in tqdm(range(max_iters)):\n",
        "\n",
        "    # Fitting phase\n",
        "    # Sample a batch of data\n",
        "    X, Y = get_batch('train', batch_size=batch_size)\n",
        "    # Evaluate the loss\n",
        "    batch_logits, batch_loss = m(X, Y)\n",
        "    # Backpropagate the gradient\n",
        "    optimizer.zero_grad(set_to_none=True) # they add-up if kept\n",
        "    batch_loss.backward()\n",
        "    # Optimize the parameters\n",
        "    optimizer.step()\n",
        "\n",
        "    # Evaluating phase\n",
        "    if i >= eval_interval and i % eval_interval == 0:\n",
        "      print(f'{i} iteration:')\n",
        "      losses = estimate_loss(model=m, eval_iters=eval_interval, batch_size=batch_size)\n",
        "      train_loss.append(losses['train'])\n",
        "      val_loss.append(losses['val'])\n",
        "\n",
        "# Show results\n",
        "plt.plot(torch.tensor(train_loss).log()) # .log() Makes the visualization easier\n",
        "plt.plot(torch.tensor(val_loss).log())\n",
        "plt.show()"
      ]
    },
    {
      "cell_type": "markdown",
      "metadata": {
        "id": "HUVZvorImAGS"
      },
      "source": [
        "### Results"
      ]
    },
    {
      "cell_type": "code",
      "execution_count": 55,
      "metadata": {
        "colab": {
          "base_uri": "https://localhost:8080/"
        },
        "id": "Sz-0JOBAmAGS",
        "outputId": "6ceab85c-54b6-4931-83b6-80d75a8b0580"
      },
      "outputs": [
        {
          "name": "stdout",
          "output_type": "stream",
          "text": [
            "Train Loss = 1.9341790676116943 \n",
            "Validation Loss = 1.9899556636810303\n"
          ]
        }
      ],
      "source": [
        "print(f'Train Loss = {train_loss[-1].item()} \\nValidation Loss = {val_loss[-1].item()}')"
      ]
    },
    {
      "cell_type": "markdown",
      "metadata": {
        "id": "WgKpF49QmAGS"
      },
      "source": [
        "> Minimun imporvent. We maybe be facing optimization problems because of a deeper model. Coming up next a couple of tricks to deal with it: residual connections and normalization."
      ]
    },
    {
      "cell_type": "markdown",
      "metadata": {
        "id": "ujod2yjwmAGS"
      },
      "source": [
        "## Generating after training"
      ]
    },
    {
      "cell_type": "code",
      "execution_count": 56,
      "metadata": {
        "colab": {
          "base_uri": "https://localhost:8080/"
        },
        "id": "J_ows4zGmAGS",
        "outputId": "6664ee98-09b1-4257-ee25-e7387cfa9e56"
      },
      "outputs": [
        {
          "name": "stdout",
          "output_type": "stream",
          "text": [
            "---- Generating sequence from ['\\n']:\n",
            "Encoded: tensor([[ 0, 48, 71, 64,  1, 54, 71, 56, 64, 70, 60, 52, 55, 65,  1, 54, 65, 64,\n",
            "         58, 65, 69,  7,  1, 66, 65, 68,  1,  8, 62, 65, 55, 60, 55, 65, 69,  7,\n",
            "          1, 74,  1, 65,  1, 62, 56, 58, 60, 68, 69, 60, 65, 81,  1, 68, 60, 81,\n",
            "         52, 55, 60, 81, 52,  7,  1, 42, 52, 64, 55, 65,  1, 52,  1, 53, 52, 55,\n",
            "         65, 21,  1, 55, 56,  1, 74, 65,  1, 69, 71, 69,  1, 59, 60, 61, 52, 64,\n",
            "         58, 56, 68, 65,  1, 54, 60, 56, 64, 70, 71]])\n",
            "Decoded: \n",
            "Yun cuentiado congos, por -lodidos, y o legirsió ríadía, Sando a bado; de yo sus hijangero cientu\n"
          ]
        }
      ],
      "source": [
        "# Generating from 0 token (which is the '\\n' character)\n",
        "starting_token = torch.zeros((1, 1), dtype=torch.long)\n",
        "print(\"---- Generating sequence from [\\'\\\\n\\']:\")\n",
        "torch.manual_seed(98)\n",
        "generated_tokens = m.generate(idx=starting_token, max_new_tokens=100)\n",
        "print(f\"Encoded: {generated_tokens}\")\n",
        "print(f\"Decoded: {decode(generated_tokens[0].tolist())}\")"
      ]
    },
    {
      "cell_type": "markdown",
      "metadata": {
        "id": "FdXksazEpA0R"
      },
      "source": [
        "# Sixth Model: Residual Connections."
      ]
    },
    {
      "cell_type": "markdown",
      "metadata": {
        "id": "lYxaWWf3pA0W"
      },
      "source": [
        "## Attentive Model V"
      ]
    },
    {
      "cell_type": "code",
      "execution_count": 57,
      "metadata": {
        "id": "NA7c9a1DpA0W"
      },
      "outputs": [],
      "source": [
        "# First trick to improve the optimization of the new deeper model: adding residual connections.\n",
        "# Residual/Skip connections are gradient highways that avoid the problem of vanishing gradients.\n",
        "# They allow the gradient to reach the deeper parts of the net.\n",
        "# It results in a faster and more optimal optimization/training.\n",
        "class Block(nn.Module):\n",
        "    \"\"\" Transformer block: communication followed by computation \"\"\"\n",
        "\n",
        "    def __init__(self, n_embd, n_head):\n",
        "        super().__init__()\n",
        "        head_size = n_embd // n_head\n",
        "        self.sa = MultiHeadAttention(n_head, head_size)\n",
        "        self.ffwd = FeedForward(n_embd)\n",
        "\n",
        "    def forward(self, x):\n",
        "        # NEW. During backprop, addition distributes the gradient signal equally\n",
        "        x = x + self.sa(x)\n",
        "        x = x + self.ffwd(x)\n",
        "        return x\n",
        "\n",
        "class MultiHeadAttention(nn.Module):\n",
        "    \"\"\" multiple heads of self-attention in parallel \"\"\"\n",
        "\n",
        "    def __init__(self, num_heads, head_size):\n",
        "        super().__init__()\n",
        "        self.heads = nn.ModuleList([Head(head_size) for _ in range(num_heads)])\n",
        "        # NEW. Project back into the residual highway\n",
        "        self.proj = nn.Linear(n_embd, n_embd)\n",
        "\n",
        "    def forward(self, x):\n",
        "        # x --> (B,T,C)\n",
        "        # h(x) --> (B,T,head_size)\n",
        "        # out --> (B,T,head_size*num_heads) = (B,T,n_embd)\n",
        "        out = torch.cat([h(x) for h in self.heads], dim=-1)\n",
        "        # NEW. Project back into the residual highway\n",
        "        out = self.proj(out)\n",
        "        return out\n",
        "\n",
        "class FeedForward(nn.Module):\n",
        "    \"\"\" a simple linear layer followed by a non-linearity \"\"\"\n",
        "\n",
        "    def __init__(self, n_embd):\n",
        "        super().__init__()\n",
        "        self.net = nn.Sequential(\n",
        "            nn.Linear(n_embd, 4*n_embd), # NEW. 4* (consult paper)\n",
        "            nn.ReLU(),\n",
        "            # NEW. Project back into the residual highway\n",
        "            nn.Linear(4*n_embd, n_embd)\n",
        "        )\n",
        "\n",
        "    def forward(self, x):\n",
        "        # INPUT = x --> (B,T,C)\n",
        "        # OUTPUT --> (B,T,C)\n",
        "        return self.net(x)"
      ]
    },
    {
      "cell_type": "code",
      "execution_count": 58,
      "metadata": {
        "id": "hmxUuNmipA0X"
      },
      "outputs": [],
      "source": [
        "class FifthAttentiveModel(nn.Module):\n",
        "\n",
        "    def __init__(self, vocab_size, n_embd):\n",
        "        super().__init__()\n",
        "        # Embedding Table\n",
        "        self.token_embedding_table = nn.Embedding(vocab_size, n_embd) # (V = vocab_size) possible tokens\n",
        "        self.position_embedding_table = nn.Embedding(block_size, n_embd) # (T = block_size) posible positions\n",
        "        # Self-Attention Head\n",
        "        self.blocks = nn.Sequential(\n",
        "            Block(n_embd, n_head=4),\n",
        "            Block(n_embd, n_head=4),\n",
        "            Block(n_embd, n_head=4),\n",
        "        )\n",
        "        # Back to vocab_size\n",
        "        self.lm_head = nn.Linear(n_embd, vocab_size)\n",
        "\n",
        "    def forward(self, idx, targets=None):\n",
        "        # INPUT: idx(= batch input) and targets(=batch output) are both (B = batch_size, T = block_size) tensor of integers.\n",
        "        # OUTPUT: For every token of the input, returns vocab_size values. So, vocab_size values for (batch_size, block_size) makes the dimension of the output: (B,T,V) -> (B=batch_size, T=block_size, V=vocab_size).\n",
        "\n",
        "        #                 IDX\n",
        "        #        _____________________\n",
        "        #       /\t\t                 /\n",
        "        #      /\t\t                /\n",
        "        #   \t/\t\t                 /   B = Batch Size\n",
        "        #    /\t\t                /\n",
        "        #   /____________________/\n",
        "        #\n",
        "        #        T = Block Size\n",
        "\n",
        "        # Embeding the tokens and its position\n",
        "        B, T = idx.shape\n",
        "        token_emb = self.token_embedding_table(idx) # (B = batch_size, T = block_size, C = n_embd)\n",
        "        postion_emb = self.position_embedding_table(torch.arange(T)) # (T = block_size, C = n_embd)\n",
        "        x = token_emb + postion_emb # (B,T,C) + (T,C) = (B,T,C) + \"B*(1,T,C)\" = (B,T,C) --> Broadcasting\n",
        "\n",
        "        #                 X\n",
        "        #                         ____\n",
        "        #                        /___/\n",
        "        #                        |   |\n",
        "        #                        |   |  C = range(n_embd)\n",
        "        #        _______________ |___|\n",
        "        #       /\t\t            /___ /\n",
        "        #      /\t\t                /\n",
        "        #   \t/\t\t                 /   B = Batch Size\n",
        "        #    /\t\t                /\n",
        "        #   /____________________/\n",
        "        #\n",
        "        #        T = Block Size\n",
        "\n",
        "        # Self-Attention + Computation\n",
        "        x = self.blocks(x) # (B,T,C)\n",
        "\n",
        "        # Calculating logits\n",
        "        logits = self.lm_head(x) # (B,T,C) --> (B,T,v)\n",
        "\n",
        "        #             LOGITS\n",
        "        #                         ____\n",
        "        #                        /___/\n",
        "        #                        |   |\n",
        "        #                        |   |  V = Vocab Size\n",
        "        #        _______________ |___|\n",
        "        #       /\t\t            /___ /\n",
        "        #      /\t\t                /\n",
        "        #   \t/\t\t                 /   B = Batch Size\n",
        "        #    /\t\t                /\n",
        "        #   /____________________/\n",
        "        #\n",
        "        #        T = Block Size\n",
        "\n",
        "        # When just evaluating\n",
        "        if targets is None:\n",
        "            loss = None\n",
        "        # When training\n",
        "        else:\n",
        "            # Transformations \"needed\" for F.cross_entropy((batch_size, vocab_size), ...)\n",
        "            B, T, C = logits.shape\n",
        "            logits = logits.view(B*T, C)\n",
        "            targets = targets.view(B*T)\n",
        "            # Cross Entropy Loss\n",
        "            loss = F.cross_entropy(logits, targets)\n",
        "        return logits, loss\n",
        "\n",
        "    def generate(self, idx, max_new_tokens):\n",
        "      # idx is the input batch tensor (B, T) of tokens.\n",
        "      for _ in range(max_new_tokens):\n",
        "          # Crop idx to the last block_size\n",
        "          idx_crop = idx[:,-block_size:]\n",
        "          # Get the predictions for idx --> (B, T, V)\n",
        "          logits, _ = self(idx_crop)\n",
        "          # We are only interested in the predictions (V) for the last token (-1) of every input of the batch (B).\n",
        "          logits = logits[:, -1, :] # --> (B, V)\n",
        "          # Apply softmax to get probabilities\n",
        "          probs = F.softmax(logits, dim=-1) # --> (B, V)\n",
        "          # Sample the tokens using the distribution\n",
        "          idx_next = torch.multinomial(probs, num_samples=1) # (B, 1)\n",
        "          # Append sampled tokens to the running sequence\n",
        "          idx = torch.cat((idx, idx_next), dim=1) # (B, T + 1)\n",
        "      # idx is now (B, T + max_new_tokens).\n",
        "      return idx"
      ]
    },
    {
      "cell_type": "markdown",
      "metadata": {
        "id": "w-RQ5d58pA0X"
      },
      "source": [
        "## Training"
      ]
    },
    {
      "cell_type": "code",
      "execution_count": 59,
      "metadata": {
        "id": "yqFw68k1pA0X"
      },
      "outputs": [],
      "source": [
        "# Hyperparameters recap.\n",
        "\n",
        "# Model\n",
        "vocab_size = vocab_size # number of different tokens\n",
        "block_size = 8 # tokens per sequence feeded to the model\n",
        "batch_size = 32 # number of sequences feeded to the model at the same time\n",
        "n_embd = 32 # Dimension of a encoded token\n",
        "\n",
        "# Trainig\n",
        "lr=1e-3 # Learning rate\n",
        "eval_interval = 300 # frequency of estimation of the loss (over trainig and validation)\n",
        "eval_batches = 200 # number of batches used to estimate the loss (over trainig and validation)\n",
        "max_iters = 10000 # number of processed batches during training\n",
        "device = 'cuda' if torch.cuda.is_available() else 'cpu'"
      ]
    },
    {
      "cell_type": "code",
      "execution_count": 60,
      "metadata": {
        "colab": {
          "base_uri": "https://localhost:8080/",
          "height": 1000,
          "referenced_widgets": [
            "bb8a18ff9a884872a9ccb13adbdec566",
            "492366ceb5294611920ba86ccc974659",
            "372439ef48884732a90379579813f44e",
            "044f488186f34b6f96a415344a8560fe",
            "22f93a2e64ba45db83134cae54810500",
            "abb0f0b4e45d4377981f1381bf350c16",
            "fb09e117d17540028a1ae4ac37f689b9",
            "0098fbb63cfb431a9ceb50499f12ff78",
            "e2a5f9a345024c67979224ee1f3a726d",
            "ddb3cc2e20cb4bcb92f0c66fd953dd01",
            "bace4a62a36f40aeb90d0d15021106ed"
          ]
        },
        "id": "XnkYTjIqpA0X",
        "outputId": "7ba76a09-0bb2-4190-c932-fe5b3e196ac1"
      },
      "outputs": [
        {
          "data": {
            "application/vnd.jupyter.widget-view+json": {
              "model_id": "bb8a18ff9a884872a9ccb13adbdec566",
              "version_major": 2,
              "version_minor": 0
            },
            "text/plain": [
              "  0%|          | 0/10000 [00:00<?, ?it/s]"
            ]
          },
          "metadata": {},
          "output_type": "display_data"
        },
        {
          "name": "stdout",
          "output_type": "stream",
          "text": [
            "300 iteration:\n",
            "train_loss = 2.213416814804077. valid_loss = 2.2552249431610107\n",
            "600 iteration:\n",
            "train_loss = 2.1181640625. valid_loss = 2.161328077316284\n",
            "900 iteration:\n",
            "train_loss = 2.0478453636169434. valid_loss = 2.1039681434631348\n",
            "1200 iteration:\n",
            "train_loss = 1.9943677186965942. valid_loss = 2.0485832691192627\n",
            "1500 iteration:\n",
            "train_loss = 1.9717764854431152. valid_loss = 2.0198287963867188\n",
            "1800 iteration:\n",
            "train_loss = 1.9505473375320435. valid_loss = 2.007448434829712\n",
            "2100 iteration:\n",
            "train_loss = 1.9290653467178345. valid_loss = 1.980472207069397\n",
            "2400 iteration:\n",
            "train_loss = 1.9039030075073242. valid_loss = 1.983391284942627\n",
            "2700 iteration:\n",
            "train_loss = 1.8924508094787598. valid_loss = 1.9477614164352417\n",
            "3000 iteration:\n",
            "train_loss = 1.8783117532730103. valid_loss = 1.9281964302062988\n",
            "3300 iteration:\n",
            "train_loss = 1.8652030229568481. valid_loss = 1.9184993505477905\n",
            "3600 iteration:\n",
            "train_loss = 1.8495992422103882. valid_loss = 1.899160385131836\n",
            "3900 iteration:\n",
            "train_loss = 1.850152850151062. valid_loss = 1.8998750448226929\n",
            "4200 iteration:\n",
            "train_loss = 1.829287052154541. valid_loss = 1.8921759128570557\n",
            "4500 iteration:\n",
            "train_loss = 1.8222860097885132. valid_loss = 1.887925624847412\n",
            "4800 iteration:\n",
            "train_loss = 1.8252428770065308. valid_loss = 1.8824782371520996\n",
            "5100 iteration:\n",
            "train_loss = 1.8091776371002197. valid_loss = 1.889897108078003\n",
            "5400 iteration:\n",
            "train_loss = 1.8093050718307495. valid_loss = 1.8720752000808716\n",
            "5700 iteration:\n",
            "train_loss = 1.8016080856323242. valid_loss = 1.874025821685791\n",
            "6000 iteration:\n",
            "train_loss = 1.7850197553634644. valid_loss = 1.8718534708023071\n",
            "6300 iteration:\n",
            "train_loss = 1.7841212749481201. valid_loss = 1.8449474573135376\n",
            "6600 iteration:\n",
            "train_loss = 1.781103253364563. valid_loss = 1.8670727014541626\n",
            "6900 iteration:\n",
            "train_loss = 1.782185435295105. valid_loss = 1.8411637544631958\n",
            "7200 iteration:\n",
            "train_loss = 1.781132459640503. valid_loss = 1.8615264892578125\n",
            "7500 iteration:\n",
            "train_loss = 1.765994668006897. valid_loss = 1.8402972221374512\n",
            "7800 iteration:\n",
            "train_loss = 1.7646695375442505. valid_loss = 1.842265009880066\n",
            "8100 iteration:\n",
            "train_loss = 1.7676829099655151. valid_loss = 1.8445558547973633\n",
            "8400 iteration:\n",
            "train_loss = 1.7499263286590576. valid_loss = 1.8268916606903076\n",
            "8700 iteration:\n",
            "train_loss = 1.754761815071106. valid_loss = 1.8262141942977905\n",
            "9000 iteration:\n",
            "train_loss = 1.7537412643432617. valid_loss = 1.8364698886871338\n",
            "9300 iteration:\n",
            "train_loss = 1.7570998668670654. valid_loss = 1.8268623352050781\n",
            "9600 iteration:\n",
            "train_loss = 1.7518951892852783. valid_loss = 1.8279268741607666\n",
            "9900 iteration:\n",
            "train_loss = 1.7355139255523682. valid_loss = 1.819661021232605\n"
          ]
        },
        {
          "data": {
            "image/png": "[encoded data removed]",
            "text/plain": [
              "<Figure size 640x480 with 1 Axes>"
            ]
          },
          "metadata": {},
          "output_type": "display_data"
        }
      ],
      "source": [
        "# Re-creating model to get random intial values for the parameters\n",
        "torch.manual_seed(1234)\n",
        "m = FifthAttentiveModel(vocab_size = vocab_size, n_embd = 32)\n",
        "\n",
        "# PyTorch optimizer.\n",
        "optimizer = torch.optim.AdamW(m.parameters(), lr=lr)\n",
        "\n",
        "\n",
        "# Training loop\n",
        "train_loss = [] # i-th item = estimated loss over training set after eval_interval processed batches\n",
        "val_loss = [] # i-th item = estimated loss over validation set after eval_interval processed batches\n",
        "for i in tqdm(range(max_iters)):\n",
        "\n",
        "    # Fitting phase\n",
        "    # Sample a batch of data\n",
        "    X, Y = get_batch('train', batch_size=batch_size)\n",
        "    # Evaluate the loss\n",
        "    batch_logits, batch_loss = m(X, Y)\n",
        "    # Backpropagate the gradient\n",
        "    optimizer.zero_grad(set_to_none=True) # they add-up if kept\n",
        "    batch_loss.backward()\n",
        "    # Optimize the parameters\n",
        "    optimizer.step()\n",
        "\n",
        "    # Evaluating phase\n",
        "    if i >= eval_interval and i % eval_interval == 0:\n",
        "      print(f'{i} iteration:')\n",
        "      losses = estimate_loss(model=m, eval_iters=eval_interval, batch_size=batch_size)\n",
        "      train_loss.append(losses['train'])\n",
        "      val_loss.append(losses['val'])\n",
        "\n",
        "# Show results\n",
        "plt.plot(torch.tensor(train_loss).log()) # .log() Makes the visualization easier\n",
        "plt.plot(torch.tensor(val_loss).log())\n",
        "plt.show()"
      ]
    },
    {
      "cell_type": "markdown",
      "metadata": {
        "id": "yHyruPrDpA0X"
      },
      "source": [
        "### Results"
      ]
    },
    {
      "cell_type": "code",
      "execution_count": 61,
      "metadata": {
        "colab": {
          "base_uri": "https://localhost:8080/"
        },
        "id": "eFuBMsE0pA0X",
        "outputId": "9032af07-befd-454d-faa9-03b689d44656"
      },
      "outputs": [
        {
          "name": "stdout",
          "output_type": "stream",
          "text": [
            "Train Loss = 1.7355139255523682 \n",
            "Validation Loss = 1.819661021232605\n"
          ]
        }
      ],
      "source": [
        "print(f'Train Loss = {train_loss[-1].item()} \\nValidation Loss = {val_loss[-1].item()}')"
      ]
    },
    {
      "cell_type": "markdown",
      "metadata": {
        "id": "QA4KOuUwpA0X"
      },
      "source": [
        "> Notable improvemnt. We were right."
      ]
    },
    {
      "cell_type": "markdown",
      "metadata": {
        "id": "iqkuvBGbpA0X"
      },
      "source": [
        "## Generating after training"
      ]
    },
    {
      "cell_type": "code",
      "execution_count": 62,
      "metadata": {
        "colab": {
          "base_uri": "https://localhost:8080/"
        },
        "id": "5twliC3hpA0X",
        "outputId": "2247a683-cd4f-407e-c7fb-f19d72e93180"
      },
      "outputs": [
        {
          "name": "stdout",
          "output_type": "stream",
          "text": [
            "---- Generating sequence from ['\\n']:\n",
            "Encoded: tensor([[ 0,  8, 26, 65, 63, 53, 71, 56, 64, 70, 56,  1, 55, 56,  1, 62, 65, 69,\n",
            "          1, 55, 56, 61, 52, 68,  1, 55, 56, 69,  7,  1, 55, 60, 72, 56, 69,  7,\n",
            "          1, 74,  1, 53, 52, 61, 52, 55, 65,  7,  1, 67, 71, 56,  1, 68, 60, 81,\n",
            "         52, 63, 53, 60, 56, 64,  1, 70, 68, 60, 69, 57, 60, 68,  1, 55, 52, 55,\n",
            "         65, 21,  1, 55, 56, 62,  1, 63, 65, 69, 70, 68, 65, 69, 60, 74, 52,  1,\n",
            "         58, 71, 56, 68, 68, 52,  1, 56, 62,  1, 59]])\n",
            "Decoded: \n",
            "-Combuente de los dejar des, dives, y bajado, que ríambien trisfir dado; del mostrosiya guerra el h\n"
          ]
        }
      ],
      "source": [
        "# Generating from 0 token (which is the '\\n' character)\n",
        "starting_token = torch.zeros((1, 1), dtype=torch.long)\n",
        "print(\"---- Generating sequence from [\\'\\\\n\\']:\")\n",
        "torch.manual_seed(98)\n",
        "generated_tokens = m.generate(idx=starting_token, max_new_tokens=100)\n",
        "print(f\"Encoded: {generated_tokens}\")\n",
        "print(f\"Decoded: {decode(generated_tokens[0].tolist())}\")"
      ]
    },
    {
      "cell_type": "markdown",
      "metadata": {
        "id": "QsP_dLBQwVsK"
      },
      "source": [
        "# Seventh Model: Normalization."
      ]
    },
    {
      "cell_type": "markdown",
      "metadata": {
        "id": "bWO3kfnvwVsK"
      },
      "source": [
        "## Attentive Model VI"
      ]
    },
    {
      "cell_type": "code",
      "execution_count": 63,
      "metadata": {
        "id": "HZj9fm1MwVsK"
      },
      "outputs": [],
      "source": [
        "# Second optimization Trick: Add normalization layers. We normalize per token features (dim = C = 32).\n",
        "# Slight deviation from original paper: layer norm before transformation (pre-nomr formulation).\n",
        "class Block(nn.Module):\n",
        "    \"\"\" Transformer block: communication followed by computation \"\"\"\n",
        "\n",
        "    def __init__(self, n_embd, n_head):\n",
        "        super().__init__()\n",
        "        head_size = n_embd // n_head\n",
        "        self.sa = MultiHeadAttention(n_head, head_size)\n",
        "        self.ffwd = FeedForward(n_embd)\n",
        "        # NEW\n",
        "        self.ln1 = nn.LayerNorm(n_embd)\n",
        "        self.ln2 = nn.LayerNorm(n_embd)\n",
        "\n",
        "    def forward(self, x):\n",
        "        x = self.ln1(x) # NEW\n",
        "        x = x + self.sa(x)\n",
        "        x = self.ln2(x) # NEW\n",
        "        x = x + self.ffwd(x)\n",
        "        return x"
      ]
    },
    {
      "cell_type": "code",
      "execution_count": 64,
      "metadata": {
        "id": "uiBdKEeQwVsL"
      },
      "outputs": [],
      "source": [
        "class SixthAttentiveModel(nn.Module):\n",
        "\n",
        "    def __init__(self, vocab_size, n_embd):\n",
        "        super().__init__()\n",
        "        # Embedding Table\n",
        "        self.token_embedding_table = nn.Embedding(vocab_size, n_embd) # (V = vocab_size) possible tokens\n",
        "        self.position_embedding_table = nn.Embedding(block_size, n_embd) # (T = block_size) posible positions\n",
        "        # Self-Attention Head\n",
        "        self.blocks = nn.Sequential(\n",
        "            Block(n_embd, n_head=4),\n",
        "            Block(n_embd, n_head=4),\n",
        "            Block(n_embd, n_head=4),\n",
        "        )\n",
        "        # Back to vocab_size\n",
        "        self.ln_f = nn.LayerNorm(n_embd) # NEW. Normalizing before last transformation.\n",
        "        self.lm_head = nn.Linear(n_embd, vocab_size)\n",
        "\n",
        "    def forward(self, idx, targets=None):\n",
        "        # INPUT: idx(= batch input) and targets(=batch output) are both (B = batch_size, T = block_size) tensor of integers.\n",
        "        # OUTPUT: For every token of the input, returns vocab_size values. So, vocab_size values for (batch_size, block_size) makes the dimension of the output: (B,T,V) -> (B=batch_size, T=block_size, V=vocab_size).\n",
        "\n",
        "        #                 IDX\n",
        "        #        _____________________\n",
        "        #       /\t\t                 /\n",
        "        #      /\t\t                /\n",
        "        #   \t/\t\t                 /   B = Batch Size\n",
        "        #    /\t\t                /\n",
        "        #   /____________________/\n",
        "        #\n",
        "        #        T = Block Size\n",
        "\n",
        "        # Embeding the tokens and its position\n",
        "        B, T = idx.shape\n",
        "        token_emb = self.token_embedding_table(idx) # (B = batch_size, T = block_size, C = n_embd)\n",
        "        postion_emb = self.position_embedding_table(torch.arange(T)) # (T = block_size, C = n_embd)\n",
        "        x = token_emb + postion_emb # (B,T,C) + (T,C) = (B,T,C) + \"B*(1,T,C)\" = (B,T,C) --> Broadcasting\n",
        "\n",
        "        #                 X\n",
        "        #                         ____\n",
        "        #                        /___/\n",
        "        #                        |   |\n",
        "        #                        |   |  C = range(n_embd)\n",
        "        #        _______________ |___|\n",
        "        #       /\t\t            /___ /\n",
        "        #      /\t\t                /\n",
        "        #   \t/\t\t                 /   B = Batch Size\n",
        "        #    /\t\t                /\n",
        "        #   /____________________/\n",
        "        #\n",
        "        #        T = Block Size\n",
        "\n",
        "        # Self-Attention + Computation\n",
        "        x = self.blocks(x) # (B,T,C)\n",
        "\n",
        "        # Normalizing before last transformation\n",
        "        x = self.ln_f(x) # (B,T,C)\n",
        "\n",
        "        # Calculating logits\n",
        "        logits = self.lm_head(x) # (B,T,C) --> (B,T,v)\n",
        "\n",
        "        #             LOGITS\n",
        "        #                         ____\n",
        "        #                        /___/\n",
        "        #                        |   |\n",
        "        #                        |   |  V = Vocab Size\n",
        "        #        _______________ |___|\n",
        "        #       /\t\t            /___ /\n",
        "        #      /\t\t                /\n",
        "        #   \t/\t\t                 /   B = Batch Size\n",
        "        #    /\t\t                /\n",
        "        #   /____________________/\n",
        "        #\n",
        "        #        T = Block Size\n",
        "\n",
        "        # When just evaluating\n",
        "        if targets is None:\n",
        "            loss = None\n",
        "        # When training\n",
        "        else:\n",
        "            # Transformations \"needed\" for F.cross_entropy((batch_size, vocab_size), ...)\n",
        "            B, T, C = logits.shape\n",
        "            logits = logits.view(B*T, C)\n",
        "            targets = targets.view(B*T)\n",
        "            # Cross Entropy Loss\n",
        "            loss = F.cross_entropy(logits, targets)\n",
        "        return logits, loss\n",
        "\n",
        "    def generate(self, idx, max_new_tokens):\n",
        "      # idx is the input batch tensor (B, T) of tokens.\n",
        "      for _ in range(max_new_tokens):\n",
        "          # Crop idx to the last block_size\n",
        "          idx_crop = idx[:,-block_size:]\n",
        "          # Get the predictions for idx --> (B, T, V)\n",
        "          logits, _ = self(idx_crop)\n",
        "          # We are only interested in the predictions (V) for the last token (-1) of every input of the batch (B).\n",
        "          logits = logits[:, -1, :] # --> (B, V)\n",
        "          # Apply softmax to get probabilities\n",
        "          probs = F.softmax(logits, dim=-1) # --> (B, V)\n",
        "          # Sample the tokens using the distribution\n",
        "          idx_next = torch.multinomial(probs, num_samples=1) # (B, 1)\n",
        "          # Append sampled tokens to the running sequence\n",
        "          idx = torch.cat((idx, idx_next), dim=1) # (B, T + 1)\n",
        "      # idx is now (B, T + max_new_tokens).\n",
        "      return idx"
      ]
    },
    {
      "cell_type": "markdown",
      "metadata": {
        "id": "UCEEpc4CwVsL"
      },
      "source": [
        "## Training"
      ]
    },
    {
      "cell_type": "code",
      "execution_count": 65,
      "metadata": {
        "id": "aJytCshHwVsL"
      },
      "outputs": [],
      "source": [
        "# Hyperparameters recap.\n",
        "\n",
        "# Model\n",
        "vocab_size = vocab_size # number of different tokens\n",
        "block_size = 8 # tokens per sequence feeded to the model\n",
        "batch_size = 32 # number of sequences feeded to the model at the same time\n",
        "n_embd = 32 # Dimension of a encoded token\n",
        "\n",
        "# Trainig\n",
        "lr=1e-3 # Learning rate\n",
        "eval_interval = 300 # frequency of estimation of the loss (over trainig and validation)\n",
        "eval_batches = 200 # number of batches used to estimate the loss (over trainig and validation)\n",
        "max_iters = 10000 # number of processed batches during training\n",
        "device = 'cuda' if torch.cuda.is_available() else 'cpu'"
      ]
    },
    {
      "cell_type": "code",
      "execution_count": 66,
      "metadata": {
        "colab": {
          "base_uri": "https://localhost:8080/",
          "height": 1000,
          "referenced_widgets": [
            "e1b965cc0f6242e9afc4cc75e838f42f",
            "819d0c0c9e0f422a9b417fe0634e70c7",
            "49da84bc8f6145e7b9708cee8e2e66f9",
            "bf49d9ab6b2b41b98fac7ce72eff5a53",
            "c43dd1710b7247d7a15f0ab4f2ee8cc3",
            "19b3e5e9f1734167844c7d86d9a38a94",
            "b294739b3c6744bdbe707fb736d76554",
            "ac41b0f47f8b4098aea33102676fec44",
            "a735367f98814c04b04b337c727c5097",
            "1a6e5c10cb914a138ee77836f472e1ff",
            "fba49378617044d18c6a7587378d52b2"
          ]
        },
        "id": "4NUbssKHwVsL",
        "outputId": "10a00601-bb1f-400e-fea7-076e903560a9"
      },
      "outputs": [
        {
          "data": {
            "application/vnd.jupyter.widget-view+json": {
              "model_id": "e1b965cc0f6242e9afc4cc75e838f42f",
              "version_major": 2,
              "version_minor": 0
            },
            "text/plain": [
              "  0%|          | 0/10000 [00:00<?, ?it/s]"
            ]
          },
          "metadata": {},
          "output_type": "display_data"
        },
        {
          "name": "stdout",
          "output_type": "stream",
          "text": [
            "300 iteration:\n",
            "train_loss = 2.258632183074951. valid_loss = 2.2911572456359863\n",
            "600 iteration:\n",
            "train_loss = 2.132819890975952. valid_loss = 2.178600311279297\n",
            "900 iteration:\n",
            "train_loss = 2.064619302749634. valid_loss = 2.1221275329589844\n",
            "1200 iteration:\n",
            "train_loss = 2.005725860595703. valid_loss = 2.0579049587249756\n",
            "1500 iteration:\n",
            "train_loss = 1.9832478761672974. valid_loss = 2.027946710586548\n",
            "1800 iteration:\n",
            "train_loss = 1.9584664106369019. valid_loss = 2.017725944519043\n",
            "2100 iteration:\n",
            "train_loss = 1.931430459022522. valid_loss = 1.9888029098510742\n",
            "2400 iteration:\n",
            "train_loss = 1.9055463075637817. valid_loss = 1.992719292640686\n",
            "2700 iteration:\n",
            "train_loss = 1.8966588973999023. valid_loss = 1.9561611413955688\n",
            "3000 iteration:\n",
            "train_loss = 1.876423716545105. valid_loss = 1.9403084516525269\n",
            "3300 iteration:\n",
            "train_loss = 1.871732234954834. valid_loss = 1.928626298904419\n",
            "3600 iteration:\n",
            "train_loss = 1.8539119958877563. valid_loss = 1.9079502820968628\n",
            "3900 iteration:\n",
            "train_loss = 1.8606280088424683. valid_loss = 1.917335033416748\n",
            "4200 iteration:\n",
            "train_loss = 1.839728832244873. valid_loss = 1.9126298427581787\n",
            "4500 iteration:\n",
            "train_loss = 1.8280187845230103. valid_loss = 1.8972254991531372\n",
            "4800 iteration:\n",
            "train_loss = 1.8305765390396118. valid_loss = 1.8959423303604126\n",
            "5100 iteration:\n",
            "train_loss = 1.8089377880096436. valid_loss = 1.89360511302948\n",
            "5400 iteration:\n",
            "train_loss = 1.8186918497085571. valid_loss = 1.886500597000122\n",
            "5700 iteration:\n",
            "train_loss = 1.8040515184402466. valid_loss = 1.8787373304367065\n",
            "6000 iteration:\n",
            "train_loss = 1.7856816053390503. valid_loss = 1.8774837255477905\n",
            "6300 iteration:\n",
            "train_loss = 1.7902089357376099. valid_loss = 1.8571449518203735\n",
            "6600 iteration:\n",
            "train_loss = 1.7873684167861938. valid_loss = 1.8797943592071533\n",
            "6900 iteration:\n",
            "train_loss = 1.7925549745559692. valid_loss = 1.8543188571929932\n",
            "7200 iteration:\n",
            "train_loss = 1.786342740058899. valid_loss = 1.8708910942077637\n",
            "7500 iteration:\n",
            "train_loss = 1.7722257375717163. valid_loss = 1.8453446626663208\n",
            "7800 iteration:\n",
            "train_loss = 1.7664886713027954. valid_loss = 1.8465386629104614\n",
            "8100 iteration:\n",
            "train_loss = 1.7728228569030762. valid_loss = 1.8541380167007446\n",
            "8400 iteration:\n",
            "train_loss = 1.7555745840072632. valid_loss = 1.8381823301315308\n",
            "8700 iteration:\n",
            "train_loss = 1.7674263715744019. valid_loss = 1.8412423133850098\n",
            "9000 iteration:\n",
            "train_loss = 1.7591463327407837. valid_loss = 1.8465311527252197\n",
            "9300 iteration:\n",
            "train_loss = 1.7592332363128662. valid_loss = 1.831827163696289\n",
            "9600 iteration:\n",
            "train_loss = 1.7539983987808228. valid_loss = 1.8282989263534546\n",
            "9900 iteration:\n",
            "train_loss = 1.7394086122512817. valid_loss = 1.8313838243484497\n"
          ]
        },
        {
          "data": {
            "image/png": "[encoded data removed]",
            "text/plain": [
              "<Figure size 640x480 with 1 Axes>"
            ]
          },
          "metadata": {},
          "output_type": "display_data"
        }
      ],
      "source": [
        "# Re-creating model to get random intial values for the parameters\n",
        "torch.manual_seed(1234)\n",
        "m = SixthAttentiveModel(vocab_size = vocab_size, n_embd = 32)\n",
        "\n",
        "# PyTorch optimizer.\n",
        "optimizer = torch.optim.AdamW(m.parameters(), lr=lr)\n",
        "\n",
        "\n",
        "# Training loop\n",
        "train_loss = [] # i-th item = estimated loss over training set after eval_interval processed batches\n",
        "val_loss = [] # i-th item = estimated loss over validation set after eval_interval processed batches\n",
        "for i in tqdm(range(max_iters)):\n",
        "\n",
        "    # Fitting phase\n",
        "    # Sample a batch of data\n",
        "    X, Y = get_batch('train', batch_size=batch_size)\n",
        "    # Evaluate the loss\n",
        "    batch_logits, batch_loss = m(X, Y)\n",
        "    # Backpropagate the gradient\n",
        "    optimizer.zero_grad(set_to_none=True) # they add-up if kept\n",
        "    batch_loss.backward()\n",
        "    # Optimize the parameters\n",
        "    optimizer.step()\n",
        "\n",
        "    # Evaluating phase\n",
        "    if i >= eval_interval and i % eval_interval == 0:\n",
        "      print(f'{i} iteration:')\n",
        "      losses = estimate_loss(model=m, eval_iters=eval_interval, batch_size=batch_size)\n",
        "      train_loss.append(losses['train'])\n",
        "      val_loss.append(losses['val'])\n",
        "\n",
        "# Show results\n",
        "plt.plot(torch.tensor(train_loss).log()) # .log() Makes the visualization easier\n",
        "plt.plot(torch.tensor(val_loss).log())\n",
        "plt.show()"
      ]
    },
    {
      "cell_type": "markdown",
      "metadata": {
        "id": "5Mdc8Lf4wVsL"
      },
      "source": [
        "### Results"
      ]
    },
    {
      "cell_type": "code",
      "execution_count": 67,
      "metadata": {
        "colab": {
          "base_uri": "https://localhost:8080/"
        },
        "id": "IIThMYoWwVsL",
        "outputId": "36103f4b-8255-4c62-adc7-e07f760d966c"
      },
      "outputs": [
        {
          "name": "stdout",
          "output_type": "stream",
          "text": [
            "Train Loss = 1.7394086122512817 \n",
            "Validation Loss = 1.8313838243484497\n"
          ]
        }
      ],
      "source": [
        "print(f'Train Loss = {train_loss[-1].item()} \\nValidation Loss = {val_loss[-1].item()}')"
      ]
    },
    {
      "cell_type": "markdown",
      "metadata": {
        "id": "LCoCW6mIwVsL"
      },
      "source": [
        "> No improvement."
      ]
    },
    {
      "cell_type": "markdown",
      "metadata": {
        "id": "9yCn6vw6wVsM"
      },
      "source": [
        "## Generating after training"
      ]
    },
    {
      "cell_type": "code",
      "execution_count": 68,
      "metadata": {
        "colab": {
          "base_uri": "https://localhost:8080/"
        },
        "id": "RjpXFZKhwVsM",
        "outputId": "cda39545-98b2-4687-e9cc-9a4919e9fcc2"
      },
      "outputs": [
        {
          "name": "stdout",
          "output_type": "stream",
          "text": [
            "---- Generating sequence from ['\\n']:\n",
            "Encoded: tensor([[ 0,  8, 26, 65, 63, 53, 68, 56,  1, 62, 56,  1, 55, 56,  1, 62, 65, 69,\n",
            "          1, 55, 56, 61, 52, 68,  1, 63, 56, 69, 62, 65, 69,  1, 55, 56, 69, 55,\n",
            "         60, 58, 56, 69, 52,  1, 67, 71, 56,  1, 69, 60,  1, 66, 65, 68, 67, 71,\n",
            "         56,  1, 53, 60, 56, 64,  1, 70, 68, 60, 69, 57, 65, 68, 65,  1, 52, 55,\n",
            "         56, 64,  1, 55, 56, 69, 56, 63, 65, 69,  1, 69, 60,  1, 60, 64, 54, 71,\n",
            "         58, 52, 68, 65, 64,  1, 67, 71, 56,  1, 59]])\n",
            "Decoded: \n",
            "-Combre le de los dejar meslos desdigesa que si porque bien trisforo aden desemos si incugaron que h\n"
          ]
        }
      ],
      "source": [
        "# Generating from 0 token (which is the '\\n' character)\n",
        "starting_token = torch.zeros((1, 1), dtype=torch.long)\n",
        "print(\"---- Generating sequence from [\\'\\\\n\\']:\")\n",
        "torch.manual_seed(98)\n",
        "generated_tokens = m.generate(idx=starting_token, max_new_tokens=100)\n",
        "print(f\"Encoded: {generated_tokens}\")\n",
        "print(f\"Decoded: {decode(generated_tokens[0].tolist())}\")"
      ]
    },
    {
      "cell_type": "markdown",
      "metadata": {
        "id": "WIPnV8AA0mF9"
      },
      "source": [
        "# Eighth Model: Dropout."
      ]
    },
    {
      "cell_type": "markdown",
      "metadata": {
        "id": "hAFYbcHb0mGC"
      },
      "source": [
        "## Attentive Model VII"
      ]
    },
    {
      "cell_type": "code",
      "execution_count": 69,
      "metadata": {
        "id": "HjKXKxMJ11Eu"
      },
      "outputs": [],
      "source": [
        "dropout = 0.2"
      ]
    },
    {
      "cell_type": "code",
      "execution_count": 14,
      "metadata": {},
      "outputs": [],
      "source": [
        "import torch\n",
        "import torch.nn as nn\n",
        "from torch.nn import functional as F"
      ]
    },
    {
      "cell_type": "code",
      "execution_count": 15,
      "metadata": {
        "id": "hf-8bhAy0mGC"
      },
      "outputs": [],
      "source": [
        "# Now we are going to try and scale the model, overfitting maybe a problem. We add dropout as a regularization technique. The model already overfitted the data so it is not a bad a idea to do it.\n",
        "# Dropout: During training, every forward-backward pass, set the neuron to 0 and train without it. It can be interpreted as training an enssemble of subnetworks.\n",
        "class Head(nn.Module):\n",
        "    \"\"\" one head of self-attention \"\"\"\n",
        "\n",
        "    def __init__(self, head_size):\n",
        "        super().__init__()\n",
        "        self.key = nn.Linear(n_embd, head_size, bias=False)\n",
        "        self.query = nn.Linear(n_embd, head_size, bias=False)\n",
        "        self.value = nn.Linear(n_embd, head_size, bias=False)\n",
        "        # Following PyTorch convetions. It is not a parameter but it is assigned to the module.\n",
        "        self.register_buffer('tril', torch.tril(torch.ones(block_size, block_size)))\n",
        "        # NEW. Randomly avoid the communication between some tokens.\n",
        "        self.dropout = nn.Dropout(dropout)\n",
        "\n",
        "    def forward(self, x):\n",
        "        B,T,C = x.shape # (B = Batch = Batch Size = Nº of sequences, T = Time = Block Size = Tokens per sequence, C = channels = Embedding Dimmensions = Dimmesion of the vector that represents the token)\n",
        "        # Generating keys and querys ...\n",
        "        k = self.key(x)   # (B,T,C)\n",
        "        q = self.query(x) # (B,T,C)\n",
        "        # Compute attention scores (\"affinities\") ...\n",
        "        wei = q @ k.transpose(-2,-1) * C**-0.5 # (B, T, C) @ (B, C, T) -> (B, T, T)\n",
        "        # No information can come from future tokens.\n",
        "        wei = wei.masked_fill(self.tril[:T, :T] == 0, float('-inf')) # (B, T, T)\n",
        "        wei = F.softmax(wei, dim=-1) # (B, T, T)\n",
        "        # NEW. Randomly avoid the communication between some tokens.\n",
        "        wei = self.dropout(wei)\n",
        "        # Weighted aggregation of the values (not the raw embedded token) ...\n",
        "        v = self.value(x) # (B,T,C)\n",
        "        out = wei @ v # (B, T, T) @ (B, T, C) -> (B, T, C)\n",
        "        return out\n",
        "\n",
        "class MultiHeadAttention(nn.Module):\n",
        "    \"\"\" multiple heads of self-attention in parallel \"\"\"\n",
        "\n",
        "    def __init__(self, num_heads, head_size):\n",
        "        super().__init__()\n",
        "        self.heads = nn.ModuleList([Head(head_size) for _ in range(num_heads)])\n",
        "        # Project back into the residual highway\n",
        "        self.proj = nn.Linear(n_embd, n_embd)\n",
        "        # NEW\n",
        "        self.dropout = nn.Dropout(dropout)\n",
        "\n",
        "    def forward(self, x):\n",
        "        # x --> (B,T,C)\n",
        "        # h(x) --> (B,T,head_size)\n",
        "        # out --> (B,T,head_size*num_heads) = (B,T,n_embd)\n",
        "        out = torch.cat([h(x) for h in self.heads], dim=-1)\n",
        "        # Project back into the residual highway\n",
        "        out = self.proj(out)\n",
        "        # NEW\n",
        "        out = self.dropout(out)\n",
        "        return out\n",
        "\n",
        "class FeedForward(nn.Module):\n",
        "    \"\"\" a simple linear layer followed by a non-linearity \"\"\"\n",
        "\n",
        "    def __init__(self, n_embd):\n",
        "        super().__init__()\n",
        "        self.net = nn.Sequential(\n",
        "            nn.Linear(n_embd, 4*n_embd), # 4* (consult paper)\n",
        "            nn.ReLU(),\n",
        "            # Project back into the residual highway\n",
        "            nn.Linear(4*n_embd, n_embd),\n",
        "            nn.Dropout(dropout), # NEW\n",
        "        )\n",
        "\n",
        "    def forward(self, x):\n",
        "        # INPUT = x --> (B,T,C)\n",
        "        # OUTPUT --> (B,T,C)\n",
        "        return self.net(x)\n",
        "\n",
        "class Block(nn.Module):\n",
        "    \"\"\" Transformer block: communication followed by computation \"\"\"\n",
        "\n",
        "    def __init__(self, n_embd, n_head):\n",
        "        super().__init__()\n",
        "        head_size = n_embd // n_head\n",
        "        self.sa = MultiHeadAttention(n_head, head_size)\n",
        "        self.ffwd = FeedForward(n_embd)\n",
        "        # NEW\n",
        "        self.ln1 = nn.LayerNorm(n_embd)\n",
        "        self.ln2 = nn.LayerNorm(n_embd)\n",
        "\n",
        "    def forward(self, x):\n",
        "        x = self.ln1(x) # NEW\n",
        "        x = x + self.sa(x)\n",
        "        x = self.ln2(x) # NEW\n",
        "        x = x + self.ffwd(x)\n",
        "        return x"
      ]
    },
    {
      "cell_type": "code",
      "execution_count": 71,
      "metadata": {
        "id": "iXKtJM370mGC"
      },
      "outputs": [],
      "source": [
        "class SeventhAttentiveModel(nn.Module):\n",
        "\n",
        "    def __init__(self, vocab_size, n_embd):\n",
        "        super().__init__()\n",
        "        # Embedding Table\n",
        "        self.token_embedding_table = nn.Embedding(vocab_size, n_embd) # (V = vocab_size) possible tokens\n",
        "        self.position_embedding_table = nn.Embedding(block_size, n_embd) # (T = block_size) posible positions\n",
        "        # Self-Attention Head\n",
        "        self.blocks = nn.Sequential(\n",
        "            Block(n_embd, n_head=4),\n",
        "            Block(n_embd, n_head=4),\n",
        "            Block(n_embd, n_head=4),\n",
        "        )\n",
        "        # Back to vocab_size\n",
        "        self.ln_f = nn.LayerNorm(n_embd) # NEW. Normalizing before last transformation.\n",
        "        self.lm_head = nn.Linear(n_embd, vocab_size)\n",
        "\n",
        "    def forward(self, idx, targets=None):\n",
        "        # INPUT: idx(= batch input) and targets(=batch output) are both (B = batch_size, T = block_size) tensor of integers.\n",
        "        # OUTPUT: For every token of the input, returns vocab_size values. So, vocab_size values for (batch_size, block_size) makes the dimension of the output: (B,T,V) -> (B=batch_size, T=block_size, V=vocab_size).\n",
        "\n",
        "        #                 IDX\n",
        "        #        _____________________\n",
        "        #       /\t\t                 /\n",
        "        #      /\t\t                /\n",
        "        #   \t/\t\t                 /   B = Batch Size\n",
        "        #    /\t\t                /\n",
        "        #   /____________________/\n",
        "        #\n",
        "        #        T = Block Size\n",
        "\n",
        "        # Embeding the tokens and its position\n",
        "        B, T = idx.shape\n",
        "        token_emb = self.token_embedding_table(idx) # (B = batch_size, T = block_size, C = n_embd)\n",
        "        postion_emb = self.position_embedding_table(torch.arange(T)) # (T = block_size, C = n_embd)\n",
        "        x = token_emb + postion_emb # (B,T,C) + (T,C) = (B,T,C) + \"B*(1,T,C)\" = (B,T,C) --> Broadcasting\n",
        "\n",
        "        #                 X\n",
        "        #                         ____\n",
        "        #                        /___/\n",
        "        #                        |   |\n",
        "        #                        |   |  C = range(n_embd)\n",
        "        #        _______________ |___|\n",
        "        #       /\t\t            /___ /\n",
        "        #      /\t\t                /\n",
        "        #   \t/\t\t                 /   B = Batch Size\n",
        "        #    /\t\t                /\n",
        "        #   /____________________/\n",
        "        #\n",
        "        #        T = Block Size\n",
        "\n",
        "        # Self-Attention + Computation\n",
        "        x = self.blocks(x) # (B,T,C)\n",
        "\n",
        "        # Normalizing before last transformation\n",
        "        x = self.ln_f(x) # (B,T,C)\n",
        "\n",
        "        # Calculating logits\n",
        "        logits = self.lm_head(x) # (B,T,C) --> (B,T,v)\n",
        "\n",
        "        #             LOGITS\n",
        "        #                         ____\n",
        "        #                        /___/\n",
        "        #                        |   |\n",
        "        #                        |   |  V = Vocab Size\n",
        "        #        _______________ |___|\n",
        "        #       /\t\t            /___ /\n",
        "        #      /\t\t                /\n",
        "        #   \t/\t\t                 /   B = Batch Size\n",
        "        #    /\t\t                /\n",
        "        #   /____________________/\n",
        "        #\n",
        "        #        T = Block Size\n",
        "\n",
        "        # When just evaluating\n",
        "        if targets is None:\n",
        "            loss = None\n",
        "        # When training\n",
        "        else:\n",
        "            # Transformations \"needed\" for F.cross_entropy((batch_size, vocab_size), ...)\n",
        "            B, T, C = logits.shape\n",
        "            logits = logits.view(B*T, C)\n",
        "            targets = targets.view(B*T)\n",
        "            # Cross Entropy Loss\n",
        "            loss = F.cross_entropy(logits, targets)\n",
        "        return logits, loss\n",
        "\n",
        "    def generate(self, idx, max_new_tokens):\n",
        "      # idx is the input batch tensor (B, T) of tokens.\n",
        "      for _ in range(max_new_tokens):\n",
        "          # Crop idx to the last block_size\n",
        "          idx_crop = idx[:,-block_size:]\n",
        "          # Get the predictions for idx --> (B, T, V)\n",
        "          logits, _ = self(idx_crop)\n",
        "          # We are only interested in the predictions (V) for the last token (-1) of every input of the batch (B).\n",
        "          logits = logits[:, -1, :] # --> (B, V)\n",
        "          # Apply softmax to get probabilities\n",
        "          probs = F.softmax(logits, dim=-1) # --> (B, V)\n",
        "          # Sample the tokens using the distribution\n",
        "          idx_next = torch.multinomial(probs, num_samples=1) # (B, 1)\n",
        "          # Append sampled tokens to the running sequence\n",
        "          idx = torch.cat((idx, idx_next), dim=1) # (B, T + 1)\n",
        "      # idx is now (B, T + max_new_tokens).\n",
        "      return idx"
      ]
    },
    {
      "cell_type": "markdown",
      "metadata": {
        "id": "f9fkcUdn0mGD"
      },
      "source": [
        "## Training"
      ]
    },
    {
      "cell_type": "code",
      "execution_count": 72,
      "metadata": {
        "id": "i85bajxV0mGD"
      },
      "outputs": [],
      "source": [
        "# Hyperparameters recap.\n",
        "\n",
        "# Model\n",
        "vocab_size = vocab_size # number of different tokens\n",
        "block_size = 8 # tokens per sequence feeded to the model\n",
        "batch_size = 32 # number of sequences feeded to the model at the same time\n",
        "n_embd = 32 # Dimension of a encoded token\n",
        "\n",
        "# Trainig\n",
        "lr=1e-3 # Learning rate\n",
        "dropout = 0.2 # percentaje of neurons shutdown during training\n",
        "eval_interval = 300 # frequency of estimation of the loss (over trainig and validation)\n",
        "eval_batches = 200 # number of batches used to estimate the loss (over trainig and validation)\n",
        "max_iters = 10000 # number of processed batches during training\n",
        "device = 'cuda' if torch.cuda.is_available() else 'cpu'"
      ]
    },
    {
      "cell_type": "code",
      "execution_count": 73,
      "metadata": {
        "colab": {
          "base_uri": "https://localhost:8080/",
          "height": 1000,
          "referenced_widgets": [
            "142477952a2f45f496e23f54a4c00fc0",
            "464e6187f305497f8078d865609bc990",
            "044bcc78744642c5a56d681950d05c9b",
            "8259e708b4b54b29aebf03004f11a264",
            "a6f6c9cb9c47438c8f6e663686f280b2",
            "6aaa9959adef495097a29b50233b58cb",
            "05559ce30f794a62a8c385c31f2f5495",
            "64a12c79e23f4a9dab49df665d839908",
            "626641c630ae40dabd19c708ccbc06db",
            "34bbe2626d8748468914a5842b9a0825",
            "f45108c1410c4b4cbf3c13c153b7c315"
          ]
        },
        "id": "-_VGA1EQ0mGD",
        "outputId": "d530c963-7952-46b0-b39f-87691f323bd1"
      },
      "outputs": [
        {
          "data": {
            "application/vnd.jupyter.widget-view+json": {
              "model_id": "142477952a2f45f496e23f54a4c00fc0",
              "version_major": 2,
              "version_minor": 0
            },
            "text/plain": [
              "  0%|          | 0/10000 [00:00<?, ?it/s]"
            ]
          },
          "metadata": {},
          "output_type": "display_data"
        },
        {
          "name": "stdout",
          "output_type": "stream",
          "text": [
            "300 iteration:\n",
            "train_loss = 2.2953927516937256. valid_loss = 2.341125249862671\n",
            "600 iteration:\n",
            "train_loss = 2.1745119094848633. valid_loss = 2.2269694805145264\n",
            "900 iteration:\n",
            "train_loss = 2.1096370220184326. valid_loss = 2.1609277725219727\n",
            "1200 iteration:\n",
            "train_loss = 2.0733840465545654. valid_loss = 2.118849277496338\n",
            "1500 iteration:\n",
            "train_loss = 2.045950412750244. valid_loss = 2.0969483852386475\n",
            "1800 iteration:\n",
            "train_loss = 2.0175209045410156. valid_loss = 2.068509340286255\n",
            "2100 iteration:\n",
            "train_loss = 1.9904390573501587. valid_loss = 2.0480692386627197\n",
            "2400 iteration:\n",
            "train_loss = 1.9825825691223145. valid_loss = 2.044844150543213\n",
            "2700 iteration:\n",
            "train_loss = 1.9675050973892212. valid_loss = 2.032000780105591\n",
            "3000 iteration:\n",
            "train_loss = 1.9565997123718262. valid_loss = 2.0043509006500244\n",
            "3300 iteration:\n",
            "train_loss = 1.952291488647461. valid_loss = 1.9975756406784058\n",
            "3600 iteration:\n",
            "train_loss = 1.935186743736267. valid_loss = 1.9833368062973022\n",
            "3900 iteration:\n",
            "train_loss = 1.9283270835876465. valid_loss = 1.9817092418670654\n",
            "4200 iteration:\n",
            "train_loss = 1.9231587648391724. valid_loss = 1.990404486656189\n",
            "4500 iteration:\n",
            "train_loss = 1.9236793518066406. valid_loss = 1.9575663805007935\n",
            "4800 iteration:\n",
            "train_loss = 1.9112465381622314. valid_loss = 1.9694397449493408\n",
            "5100 iteration:\n",
            "train_loss = 1.8989217281341553. valid_loss = 1.9662901163101196\n",
            "5400 iteration:\n",
            "train_loss = 1.9079697132110596. valid_loss = 1.9570430517196655\n",
            "5700 iteration:\n",
            "train_loss = 1.895107626914978. valid_loss = 1.9384013414382935\n",
            "6000 iteration:\n",
            "train_loss = 1.8857238292694092. valid_loss = 1.950730562210083\n",
            "6300 iteration:\n",
            "train_loss = 1.877258062362671. valid_loss = 1.9337210655212402\n",
            "6600 iteration:\n",
            "train_loss = 1.870079755783081. valid_loss = 1.930975317955017\n",
            "6900 iteration:\n",
            "train_loss = 1.8674514293670654. valid_loss = 1.9295662641525269\n",
            "7200 iteration:\n",
            "train_loss = 1.868097186088562. valid_loss = 1.927323579788208\n",
            "7500 iteration:\n",
            "train_loss = 1.8637686967849731. valid_loss = 1.9197295904159546\n",
            "7800 iteration:\n",
            "train_loss = 1.855685830116272. valid_loss = 1.9239550828933716\n",
            "8100 iteration:\n",
            "train_loss = 1.86517333984375. valid_loss = 1.913120985031128\n",
            "8400 iteration:\n",
            "train_loss = 1.856156826019287. valid_loss = 1.922257900238037\n",
            "8700 iteration:\n",
            "train_loss = 1.841908574104309. valid_loss = 1.9126065969467163\n",
            "9000 iteration:\n",
            "train_loss = 1.8484930992126465. valid_loss = 1.9149357080459595\n",
            "9300 iteration:\n",
            "train_loss = 1.8460400104522705. valid_loss = 1.9148921966552734\n",
            "9600 iteration:\n",
            "train_loss = 1.8368178606033325. valid_loss = 1.9026342630386353\n",
            "9900 iteration:\n",
            "train_loss = 1.8353300094604492. valid_loss = 1.9032020568847656\n"
          ]
        },
        {
          "data": {
            "image/png": "[encoded data removed]",
            "text/plain": [
              "<Figure size 640x480 with 1 Axes>"
            ]
          },
          "metadata": {},
          "output_type": "display_data"
        }
      ],
      "source": [
        "# Re-creating model to get random intial values for the parameters\n",
        "torch.manual_seed(1234)\n",
        "m = SeventhAttentiveModel(vocab_size = vocab_size, n_embd = 32)\n",
        "\n",
        "# PyTorch optimizer.\n",
        "optimizer = torch.optim.AdamW(m.parameters(), lr=lr)\n",
        "\n",
        "\n",
        "# Training loop\n",
        "train_loss = [] # i-th item = estimated loss over training set after eval_interval processed batches\n",
        "val_loss = [] # i-th item = estimated loss over validation set after eval_interval processed batches\n",
        "for i in tqdm(range(max_iters)):\n",
        "\n",
        "    # Fitting phase\n",
        "    # Sample a batch of data\n",
        "    X, Y = get_batch('train', batch_size=batch_size)\n",
        "    # Evaluate the loss\n",
        "    batch_logits, batch_loss = m(X, Y)\n",
        "    # Backpropagate the gradient\n",
        "    optimizer.zero_grad(set_to_none=True) # they add-up if kept\n",
        "    batch_loss.backward()\n",
        "    # Optimize the parameters\n",
        "    optimizer.step()\n",
        "\n",
        "    # Evaluating phase\n",
        "    if i >= eval_interval and i % eval_interval == 0:\n",
        "      print(f'{i} iteration:')\n",
        "      losses = estimate_loss(model=m, eval_iters=eval_interval, batch_size=batch_size)\n",
        "      train_loss.append(losses['train'])\n",
        "      val_loss.append(losses['val'])\n",
        "\n",
        "# Show results\n",
        "plt.plot(torch.tensor(train_loss).log()) # .log() Makes the visualization easier\n",
        "plt.plot(torch.tensor(val_loss).log())\n",
        "plt.show()"
      ]
    },
    {
      "cell_type": "markdown",
      "metadata": {
        "id": "U0-thbXa0mGD"
      },
      "source": [
        "### Results"
      ]
    },
    {
      "cell_type": "code",
      "execution_count": 74,
      "metadata": {
        "colab": {
          "base_uri": "https://localhost:8080/"
        },
        "id": "ERZflzjN0mGD",
        "outputId": "bb3d1d39-105f-4077-8aa6-b48694bf2405"
      },
      "outputs": [
        {
          "name": "stdout",
          "output_type": "stream",
          "text": [
            "Train Loss = 1.8353300094604492 \n",
            "Validation Loss = 1.9032020568847656\n"
          ]
        }
      ],
      "source": [
        "print(f'Train Loss = {train_loss[-1].item()} \\nValidation Loss = {val_loss[-1].item()}')"
      ]
    },
    {
      "cell_type": "markdown",
      "metadata": {
        "id": "yUH7f39W0mGD"
      },
      "source": [
        "> No improvement. Less overfitting \"tho\"."
      ]
    },
    {
      "cell_type": "markdown",
      "metadata": {
        "id": "kyYmfE7-0mGE"
      },
      "source": [
        "## Generating after training"
      ]
    },
    {
      "cell_type": "code",
      "execution_count": 75,
      "metadata": {
        "colab": {
          "base_uri": "https://localhost:8080/"
        },
        "id": "h1aaFekU0mGE",
        "outputId": "06477e8f-faa1-4e23-e744-994ced86898e"
      },
      "outputs": [
        {
          "name": "stdout",
          "output_type": "stream",
          "text": [
            "---- Generating sequence from ['\\n']:\n",
            "Encoded: tensor([[ 0,  8, 28, 64,  1, 37, 60,  1, 56, 64,  1, 62, 56, 53, 60, 65, 64, 55,\n",
            "         65, 61, 71, 68, 65, 70, 56, 64,  1, 53, 56, 64, 56, 62,  1, 69, 65, 62,\n",
            "         62, 56, 64, 60, 65, 81,  1, 64, 65,  1, 52,  1, 63, 56,  1, 52, 71, 64,\n",
            "         70, 65,  1, 64, 56, 27, 56, 69, 54, 71, 64, 70, 68, 56,  1, 56, 64,  1,\n",
            "         70, 60, 56, 64, 55, 65, 69,  1, 56, 69, 70, 52, 55, 65, 69,  7,  1, 55,\n",
            "         56,  1, 74,  1, 56, 81, 62,  1, 55, 56,  1]])\n",
            "Decoded: \n",
            "-En Ni en lebiondojuroten benel sollenió no a me aunto neDescuntre en tiendos estados, de y él de \n"
          ]
        }
      ],
      "source": [
        "# Generating from 0 token (which is the '\\n' character)\n",
        "starting_token = torch.zeros((1, 1), dtype=torch.long)\n",
        "print(\"---- Generating sequence from [\\'\\\\n\\']:\")\n",
        "torch.manual_seed(98)\n",
        "generated_tokens = m.generate(idx=starting_token, max_new_tokens=100)\n",
        "print(f\"Encoded: {generated_tokens}\")\n",
        "print(f\"Decoded: {decode(generated_tokens[0].tolist())}\")"
      ]
    },
    {
      "cell_type": "markdown",
      "metadata": {
        "id": "VAQP10pU5CZp"
      },
      "source": [
        "# Final Model: Scale It Up!"
      ]
    },
    {
      "cell_type": "code",
      "execution_count": null,
      "metadata": {
        "id": "VVCYCEfmUp4E"
      },
      "outputs": [],
      "source": [
        "'''# Model\n",
        "vocab_size = vocab_size # number of different tokens\n",
        "block_size = 256 # tokens per sequence feeded to the model\n",
        "batch_size = 64 # number of sequences feeded to the model at the same time\n",
        "n_embd = 384 # Dimension of a encoded token\n",
        "n_head = 6 # Number of heads per multi-attention module\n",
        "n_layer = 6 # Number of attention+computation blocks\n",
        "\n",
        "# Trainig\n",
        "lr=3e-4 # Learning rate\n",
        "dropout = 0.2 # percentaje of neurons shutdown during training\n",
        "eval_interval = 500 # frequency of estimation of the loss (over trainig and validation)\n",
        "eval_batches = 200 # number of batches used to estimate the loss (over trainig and validation)\n",
        "max_iters = 5000 # number of processed batches during training\n",
        "device = 'cuda' if torch.cuda.is_available() else 'cpu''''"
      ]
    },
    {
      "cell_type": "code",
      "execution_count": 18,
      "metadata": {
        "id": "Edc3bjtp5owm"
      },
      "outputs": [],
      "source": [
        "# Hyperparameters recap.\n",
        "\n",
        "# Model\n",
        "vocab_size = vocab_size # number of different tokens\n",
        "block_size = 64 # tokens per sequence feeded to the model, context length\n",
        "batch_size = 32 # number of sequences feeded to the model at the same time\n",
        "n_embd = 128 # Dimension of a encoded token\n",
        "n_head = 4 # Number of heads per multi-attention module\n",
        "n_layer = 6 # Number of attention+computation blocks\n",
        "\n",
        "# Trainig\n",
        "lr=3e-4 # Learning rate\n",
        "dropout = 0.2 # percentaje of neurons shutdown during training\n",
        "eval_interval = 500 # frequency of estimation of the loss (over trainig and validation)\n",
        "eval_batches = 200 # number of batches used to estimate the loss (over trainig and validation)\n",
        "max_iters = 10000 # number of processed batches during training\n",
        "device = 'cuda' if torch.cuda.is_available() else 'cpu'"
      ]
    },
    {
      "cell_type": "code",
      "execution_count": 19,
      "metadata": {
        "id": "czfoN_A_5CZv"
      },
      "outputs": [],
      "source": [
        "class FinalModel(nn.Module):\n",
        "\n",
        "    def __init__(self, vocab_size, n_embd):\n",
        "        super().__init__()\n",
        "        # Embedding Table\n",
        "        self.token_embedding_table = nn.Embedding(vocab_size, n_embd) # (V = vocab_size) possible tokens\n",
        "        self.position_embedding_table = nn.Embedding(block_size, n_embd) # (T = block_size) posible positions\n",
        "        # Self-Attention Head\n",
        "        self.blocks = nn.Sequential(*[Block(n_embd, n_head=n_head) for _ in range(n_layer)])\n",
        "        # Back to vocab_size\n",
        "        self.ln_f = nn.LayerNorm(n_embd) # NEW. Normalizing before last transformation.\n",
        "        self.lm_head = nn.Linear(n_embd, vocab_size)\n",
        "\n",
        "    def forward(self, idx, targets=None):\n",
        "        # INPUT: idx(= batch input) and targets(=batch output) are both (B = batch_size, T = block_size) tensor of integers.\n",
        "        # OUTPUT: For every token of the input, returns vocab_size values. So, vocab_size values for (batch_size, block_size) makes the dimension of the output: (B,T,V) -> (B=batch_size, T=block_size, V=vocab_size).\n",
        "\n",
        "        #                 IDX\n",
        "        #        _____________________\n",
        "        #       /\t\t                 /\n",
        "        #      /\t\t                /\n",
        "        #   \t/\t\t                 /   B = Batch Size\n",
        "        #    /\t\t                /\n",
        "        #   /____________________/\n",
        "        #\n",
        "        #        T = Block Size\n",
        "\n",
        "        # Embeding the tokens and its position\n",
        "        B, T = idx.shape\n",
        "        token_emb = self.token_embedding_table(idx) # (B = batch_size, T = block_size, C = n_embd)\n",
        "        postion_emb = self.position_embedding_table(torch.arange(T)) # (T = block_size, C = n_embd)\n",
        "        x = token_emb + postion_emb # (B,T,C) + (T,C) = (B,T,C) + \"B*(1,T,C)\" = (B,T,C) --> Broadcasting\n",
        "\n",
        "        #                 X\n",
        "        #                         ____\n",
        "        #                        /___/\n",
        "        #                        |   |\n",
        "        #                        |   |  C = range(n_embd)\n",
        "        #        _______________ |___|\n",
        "        #       /\t\t            /___ /\n",
        "        #      /\t\t                /\n",
        "        #   \t/\t\t                 /   B = Batch Size\n",
        "        #    /\t\t                /\n",
        "        #   /____________________/\n",
        "        #\n",
        "        #        T = Block Size\n",
        "\n",
        "        # Self-Attention + Computation\n",
        "        x = self.blocks(x) # (B,T,C)\n",
        "\n",
        "        # Normalizing before last transformation\n",
        "        x = self.ln_f(x) # (B,T,C)\n",
        "\n",
        "        # Calculating logits\n",
        "        logits = self.lm_head(x) # (B,T,C) --> (B,T,v)\n",
        "\n",
        "        #             LOGITS\n",
        "        #                         ____\n",
        "        #                        /___/\n",
        "        #                        |   |\n",
        "        #                        |   |  V = Vocab Size\n",
        "        #        _______________ |___|\n",
        "        #       /\t\t            /___ /\n",
        "        #      /\t\t                /\n",
        "        #   \t/\t\t                 /   B = Batch Size\n",
        "        #    /\t\t                /\n",
        "        #   /____________________/\n",
        "        #\n",
        "        #        T = Block Size\n",
        "\n",
        "        # When just evaluating\n",
        "        if targets is None:\n",
        "            loss = None\n",
        "        # When training\n",
        "        else:\n",
        "            # Transformations \"needed\" for F.cross_entropy((batch_size, vocab_size), ...)\n",
        "            B, T, C = logits.shape\n",
        "            logits = logits.view(B*T, C)\n",
        "            targets = targets.view(B*T)\n",
        "            # Cross Entropy Loss\n",
        "            loss = F.cross_entropy(logits, targets)\n",
        "        return logits, loss\n",
        "\n",
        "    def generate(self, idx, max_new_tokens):\n",
        "      # idx is the input batch tensor (B, T) of tokens.\n",
        "      for _ in range(max_new_tokens):\n",
        "          # Crop idx to the last block_size\n",
        "          idx_crop = idx[:,-block_size:]\n",
        "          # Get the predictions for idx --> (B, T, V)\n",
        "          logits, _ = self(idx_crop)\n",
        "          # We are only interested in the predictions (V) for the last token (-1) of every input of the batch (B).\n",
        "          logits = logits[:, -1, :] # --> (B, V)\n",
        "          # Apply softmax to get probabilities\n",
        "          probs = F.softmax(logits, dim=-1) # --> (B, V)\n",
        "          # Sample the tokens using the distribution\n",
        "          idx_next = torch.multinomial(probs, num_samples=1) # (B, 1)\n",
        "          # Append sampled tokens to the running sequence\n",
        "          idx = torch.cat((idx, idx_next), dim=1) # (B, T + 1)\n",
        "      # idx is now (B, T + max_new_tokens).\n",
        "      return idx"
      ]
    },
    {
      "cell_type": "markdown",
      "metadata": {
        "id": "93Kbd9yQ5CZv"
      },
      "source": [
        "## Training"
      ]
    },
    {
      "cell_type": "code",
      "execution_count": 27,
      "metadata": {
        "colab": {
          "base_uri": "https://localhost:8080/",
          "height": 49,
          "referenced_widgets": [
            "e7eb45e7f33142f692a98897d0451c20",
            "9d828cfe619f408fb6914e05458bd0d8",
            "d4910a02b0d046d9b29681eec060ac38",
            "91fb6c30d13547bb9b94e596589cbe6e",
            "a2e680c28a134874aa8b09af14a4e6db",
            "8b2de68bfd954c9eb9749bf63f9189bb",
            "76ca4ba8144d4ad5959bf209aaee298d",
            "f0611657b6e74cac9a76220cf3216c00",
            "0e669af41acf48d2b5d0c4859d276131",
            "975f25f37dc6439baaf86070eb8802c0",
            "1ff3708012f5466c865a87d31fcce720"
          ]
        },
        "id": "VFinhudA5CZv",
        "outputId": "5eed9dc8-bda3-4814-d90f-e966731d3b01"
      },
      "outputs": [
        {
          "data": {
            "application/vnd.jupyter.widget-view+json": {
              "model_id": "8292cf0d53e04eaabb0b1f6852d1aca1",
              "version_major": 2,
              "version_minor": 0
            },
            "text/plain": [
              "  0%|          | 0/10000 [00:00<?, ?it/s]"
            ]
          },
          "metadata": {},
          "output_type": "display_data"
        },
        {
          "name": "stdout",
          "output_type": "stream",
          "text": [
            "500 iteration:\n",
            "train_loss = 2.143965721130371. valid_loss = 2.1845555305480957\n",
            "1000 iteration:\n",
            "train_loss = 1.9115012884140015. valid_loss = 1.9618273973464966\n",
            "1500 iteration:\n",
            "train_loss = 1.763418436050415. valid_loss = 1.8181935548782349\n",
            "2000 iteration:\n",
            "train_loss = 1.6634258031845093. valid_loss = 1.731775164604187\n",
            "2500 iteration:\n",
            "train_loss = 1.587068796157837. valid_loss = 1.6557328701019287\n",
            "3000 iteration:\n",
            "train_loss = 1.5314719676971436. valid_loss = 1.6239566802978516\n",
            "3500 iteration:\n",
            "train_loss = 1.493888020515442. valid_loss = 1.573530673980713\n",
            "4000 iteration:\n",
            "train_loss = 1.4537732601165771. valid_loss = 1.5380669832229614\n",
            "4500 iteration:\n",
            "train_loss = 1.4227970838546753. valid_loss = 1.5143980979919434\n",
            "5000 iteration:\n",
            "train_loss = 1.4015188217163086. valid_loss = 1.4911341667175293\n",
            "5500 iteration:\n",
            "train_loss = 1.3850395679473877. valid_loss = 1.4795992374420166\n",
            "6000 iteration:\n",
            "train_loss = 1.3615639209747314. valid_loss = 1.4639443159103394\n",
            "6500 iteration:\n",
            "train_loss = 1.3511689901351929. valid_loss = 1.4512485265731812\n",
            "7000 iteration:\n",
            "train_loss = 1.3389267921447754. valid_loss = 1.440372109413147\n",
            "7500 iteration:\n",
            "train_loss = 1.3227373361587524. valid_loss = 1.429226279258728\n",
            "8000 iteration:\n",
            "train_loss = 1.311407208442688. valid_loss = 1.4169498682022095\n",
            "8500 iteration:\n",
            "train_loss = 1.3032233715057373. valid_loss = 1.4146628379821777\n",
            "9000 iteration:\n",
            "train_loss = 1.2951457500457764. valid_loss = 1.4046204090118408\n",
            "9500 iteration:\n",
            "train_loss = 1.2844809293746948. valid_loss = 1.399659276008606\n"
          ]
        },
        {
          "data": {
            "image/png": "[encoded data removed]",
            "text/plain": [
              "<Figure size 640x480 with 1 Axes>"
            ]
          },
          "metadata": {},
          "output_type": "display_data"
        }
      ],
      "source": [
        "# Re-creating model to get random intial values for the parameters\n",
        "torch.manual_seed(1234)\n",
        "m = FinalModel(vocab_size = vocab_size, n_embd = n_embd)\n",
        "\n",
        "# PyTorch optimizer.\n",
        "optimizer = torch.optim.AdamW(m.parameters(), lr=lr)\n",
        "\n",
        "\n",
        "# Training loop\n",
        "train_loss = [] # i-th item = estimated loss over training set after eval_interval processed batches\n",
        "val_loss = [] # i-th item = estimated loss over validation set after eval_interval processed batches\n",
        "for i in tqdm(range(max_iters)):\n",
        "\n",
        "    # Fitting phase\n",
        "    # Sample a batch of data\n",
        "    X, Y = get_batch('train', batch_size=batch_size)\n",
        "    # Evaluate the loss\n",
        "    batch_logits, batch_loss = m(X, Y)\n",
        "    # Backpropagate the gradient\n",
        "    optimizer.zero_grad(set_to_none=True) # they add-up if kept\n",
        "    batch_loss.backward()\n",
        "    # Optimize the parameters\n",
        "    optimizer.step()\n",
        "\n",
        "    # Evaluating phase\n",
        "    if i >= eval_interval and i % eval_interval == 0:\n",
        "      print(f'{i} iteration:')\n",
        "      losses = estimate_loss(model=m, eval_iters=eval_interval, batch_size=batch_size)\n",
        "      train_loss.append(losses['train'])\n",
        "      val_loss.append(losses['val'])\n",
        "\n",
        "# Show results\n",
        "plt.plot(torch.tensor(train_loss).log()) # .log() Makes the visualization easier\n",
        "plt.plot(torch.tensor(val_loss).log())\n",
        "plt.show()"
      ]
    },
    {
      "cell_type": "code",
      "execution_count": 28,
      "metadata": {
        "id": "IXdGvo2fUJ37"
      },
      "outputs": [],
      "source": [
        "torch.save(m.state_dict(), 'best_model_quijote')"
      ]
    },
    {
      "cell_type": "code",
      "execution_count": null,
      "metadata": {},
      "outputs": [],
      "source": [
        "m.load_state_dict(torch.load('best_model_quijote'))"
      ]
    },
    {
      "cell_type": "markdown",
      "metadata": {
        "id": "Nj5FpXJN5CZv"
      },
      "source": [
        "### Results"
      ]
    },
    {
      "cell_type": "code",
      "execution_count": null,
      "metadata": {
        "colab": {
          "base_uri": "https://localhost:8080/"
        },
        "id": "oHQPXm_65CZv",
        "outputId": "03b07562-cbb0-4c2b-943c-a4d10e3611af"
      },
      "outputs": [],
      "source": [
        "print(f'Train Loss = {train_loss[-1].item()} \\nValidation Loss = {val_loss[-1].item()}')"
      ]
    },
    {
      "cell_type": "markdown",
      "metadata": {
        "id": "jvPMkS0C5CZv"
      },
      "source": [
        "> ..."
      ]
    },
    {
      "cell_type": "markdown",
      "metadata": {
        "id": "Q_eEGrf25CZw"
      },
      "source": [
        "## Generating after training"
      ]
    },
    {
      "cell_type": "code",
      "execution_count": 20,
      "metadata": {},
      "outputs": [
        {
          "data": {
            "text/plain": [
              "<All keys matched successfully>"
            ]
          },
          "execution_count": 20,
          "metadata": {},
          "output_type": "execute_result"
        }
      ],
      "source": [
        "m = FinalModel(vocab_size = vocab_size, n_embd = n_embd)\n",
        "m.load_state_dict(torch.load('best_model_quijote'))"
      ]
    },
    {
      "cell_type": "code",
      "execution_count": 62,
      "metadata": {
        "colab": {
          "base_uri": "https://localhost:8080/",
          "height": 452
        },
        "id": "WZ-LnZvR5CZw",
        "outputId": "a0d81ebf-fba7-4ada-b5cf-4112b0659953"
      },
      "outputs": [
        {
          "name": "stdout",
          "output_type": "stream",
          "text": [
            "---- Generating sequence from ['\\n']:\n",
            "gota hacer, le se dije está cara, por toda lo cual me hacía de con otra de mi durgor; por detantáncias dijo a la calanza, y que veo a vualego el deseño que los tomagas, males de los tocas prear estigender es cruel de la cueña de algún apórejas por don vuele de los armado de la Camila que los de don Femando le y de igualada? Alma diéndolos; costo nuestro camades. Si mal soldad dicele cualque yo no me sepas de lo que alguno había vuestra graciosa malquina que la obra, pues ayudar vos a sus sacorenta quitásemos, por la ley le bien llegar dijo:\n",
            "-Capula y lleval recogación; ¿quiéndolos; que vino restreche.\n",
            "-¿Qué más daga bastaltar un casto -dijo Doroteado-.\n",
            "-¿No pudiese polva, salía, sin pallabre, don Quijote, en otro por dí gusto corto arrogó y espejando finada, que ni acose piedra, y cuidada cómánda menos ha correnado y gración por padre; y emperdearamos dás el amor de escuderido; que sin valleros a lo venir y destallabarle esto cuando entre afrenezcar,\n",
            "senla una locuraden, luego, luegó a una preto, que un conjés y tantas tuvieren unas desmosaste subiese ni mie podir mayo, los que consejaba no de acompar del galardo, que a Dios de a vengana, que a su ventura lo parece; porque no, que si estillos más con propesar que paría como se debe de pader infarme inajende de Rocinante, cuán que se sale ahizán en su traista. Las en la cual liberta se habla afeca, y me pedíi en dulvísimo falmada; asío los tiempedemla a la calaraquí en aque mirar o a bastaba y sin palaba que hice por el estrado de mi venturo que duena el ahí, que te la cual es esparanzado que letuen y el horar andando de en todas bondad, vinos en los maríantes; y el aprepunto que bueno menor a él:\n",
            "darme yo dejar de las muesmos lo que saldaré un apatorfamiente en el un pensamion, con él procurarilles hobra, que ya oss condició la de mano, el hachasto de Aglma, dijos? Que el escucho dondisfapiesa, sin du alcanzarme a venir si no hubierán en otra ventad, mirando en al tu barbádosa como mozo que llamante a que él enambaste cosa que samigo las libró colones, detiarmel y a Rocinante les parmado en la horra pañol, la brardía se cumía; Cla, desaba en esta, siz que no Cardenio de nadie de Don Quijote.\n",
            "-Esta mejor parecidio y nombiendo nuevos algunos armán de aventuroso tán el libertaleza y bien la pensamina, como gustarde en oír que quieras rey que con el señor, y los cura de en esto en la gela la firméisund de la contante salta de otro liguelo. Lo sólo me te ores, por el cual pierse cosa los ricosos de sus laneras, y, cuando la camra, y hallama cuy a ser láquzos le rebajó lo cual daaba, y la partíten a que me hubiese saco mío adelante ibante él de tustoma su hizencia, tornón sot que si ha respondido: ciendo lle parece a mí, que al habré se semed.\n",
            "-No dijo, ¿confeto Zoraida – que es le le vidrimo quel es que Samldan el suceso; mas ni cargados del torrego secho, ni descargé el abriente señor, pero y en la doscinzlosa no porque el hación quisien a cosasión, rocuda saltó dul no desdermito la Males y de que en su bengo; y y caso ansimiese bien que más bueno ha pícipo, metro mi, o la vuez ira partias nacosas haciendo, respondió Garcelio el bastille, que él le respondió Don Quijote ún Elcurmado. Vime dijo Saspe Anselmo, digo con que él Anselmo quiso que mi nombre. Capilallé el cura que le harío era uno te haría hecho con ella hermosa, fin darla cuántos, aquí él bastán que la ven, ningunta a su amisto, que por día -dijo Sancho al más con las causadas.\n",
            "Adme la cuesta, pero Gaia Hermonese, tal las memorias concesaria eson todo concerte, que de su discreto en sese leale urlando e irviano adoravió a los muya remenzar padritos, aguar su honrado, y entrarme al cual no serán ando le había juito. Sino, a tan la barbera -respondió Sancho. Y, salió así, todo esto tan como y pued, no tomando a fue a la roma, que no ahora alcar comieron salió un verduntariono, pruesta le podría, que con pena pendrimente en la lleva asimisma cosa que de lo boja y pena camino en sus ampenos; y de o, y da lengua, compor esa brazón sino abseado a quien no os uno aún de pliguño, porque aun dos compados y traegos los que dijese todos los conoces es la fuerza Reinante, si los luego, sin andar ibió Y en cólo tu pude imagunosfujos nombre a endir ver andamos que apartaba, no la nacidad, digo donde pasación, he bire con muestaba. Canada y así huelo el lo duña a don Fe nuelos, aunto doy en que no parecio, y sin quietus espieses, más bien escudero, y se hace tu castía poco o entre volverar los y árrimargos virioso. Suy no lreroné Hilinado, que os la quitarnomos sandando entuda, nás dí asalí en repona, y son dar las cortesmosuras y meligrosiajo, fue Sancillenta cosia. Dige más fin de mano bien montando y jurame al trado. Lo humbré camaro tumpo canta paza a llas dos que su partes san los modoles que los de admire en de la vuelta bertala\" del día mi lugas, y en estos que tus disconuidos a lora unaco del la lengua na pasaadera de aquellos honestemajado, que os vuelvas vinan con cuentino su vida.\n",
            "Y con tu verda en el tiejo?\n",
            "–decía en el bueno –dijo don Quijote-. Pero, que a barrá)se en sé ponel sin dán que parezca un hacer esto casta en la tierra, que llería, a mi honrada, diciéndome, que los soledonos Don Quijote de un deso quito, y él caballero, fueron y podía lo don Quijote a la suyón con la ventura, y dijese mi valor de no serir al camar la rique debía; pura en ser una postada de su discajo de Arpinado, maladrimiento de la cabidad, que esta obra locura. Mirícamos defento, le anto, no mesmo que osa mayó con un golpeco de a una guetella, sin capear compando, y yo lesalte, y desdicía Don Quijote en vallero. De alcanzas a en tontómantes de más a mis caulado y del ofri"
          ]
        },
        {
          "ename": "KeyboardInterrupt",
          "evalue": "",
          "output_type": "error",
          "traceback": [
            "\u001b[1;31m---------------------------------------------------------------------------\u001b[0m",
            "\u001b[1;31mKeyboardInterrupt\u001b[0m                         Traceback (most recent call last)",
            "\u001b[1;32mc:\\Users\\Palenzuela\\Downloads\\Eternal_Quijote.ipynb Cell 151\u001b[0m line \u001b[0;36m6\n\u001b[0;32m      <a href='vscode-notebook-cell:/c%3A/Users/Palenzuela/Downloads/Eternal_Quijote.ipynb#Y302sZmlsZQ%3D%3D?line=3'>4</a>\u001b[0m torch\u001b[39m.\u001b[39mmanual_seed(\u001b[39m98\u001b[39m)\n\u001b[0;32m      <a href='vscode-notebook-cell:/c%3A/Users/Palenzuela/Downloads/Eternal_Quijote.ipynb#Y302sZmlsZQ%3D%3D?line=4'>5</a>\u001b[0m \u001b[39mwhile\u001b[39;00m \u001b[39mTrue\u001b[39;00m:\n\u001b[1;32m----> <a href='vscode-notebook-cell:/c%3A/Users/Palenzuela/Downloads/Eternal_Quijote.ipynb#Y302sZmlsZQ%3D%3D?line=5'>6</a>\u001b[0m   generated_tokens \u001b[39m=\u001b[39m m\u001b[39m.\u001b[39;49mgenerate(idx\u001b[39m=\u001b[39;49mstarting_token, max_new_tokens\u001b[39m=\u001b[39;49m\u001b[39m1\u001b[39;49m)\n\u001b[0;32m      <a href='vscode-notebook-cell:/c%3A/Users/Palenzuela/Downloads/Eternal_Quijote.ipynb#Y302sZmlsZQ%3D%3D?line=6'>7</a>\u001b[0m   starting_token \u001b[39m=\u001b[39m generated_tokens\n\u001b[0;32m      <a href='vscode-notebook-cell:/c%3A/Users/Palenzuela/Downloads/Eternal_Quijote.ipynb#Y302sZmlsZQ%3D%3D?line=7'>8</a>\u001b[0m   \u001b[39m# display.clear_output(wait=True)\u001b[39;00m\n\u001b[0;32m      <a href='vscode-notebook-cell:/c%3A/Users/Palenzuela/Downloads/Eternal_Quijote.ipynb#Y302sZmlsZQ%3D%3D?line=8'>9</a>\u001b[0m   \u001b[39m# display.display(decode(generated_tokens[0].tolist()))\u001b[39;00m\n",
            "\u001b[1;32mc:\\Users\\Palenzuela\\Downloads\\Eternal_Quijote.ipynb Cell 151\u001b[0m line \u001b[0;36m9\n\u001b[0;32m     <a href='vscode-notebook-cell:/c%3A/Users/Palenzuela/Downloads/Eternal_Quijote.ipynb#Y302sZmlsZQ%3D%3D?line=87'>88</a>\u001b[0m idx_crop \u001b[39m=\u001b[39m idx[:,\u001b[39m-\u001b[39mblock_size:]\n\u001b[0;32m     <a href='vscode-notebook-cell:/c%3A/Users/Palenzuela/Downloads/Eternal_Quijote.ipynb#Y302sZmlsZQ%3D%3D?line=88'>89</a>\u001b[0m \u001b[39m# Get the predictions for idx --> (B, T, V)\u001b[39;00m\n\u001b[1;32m---> <a href='vscode-notebook-cell:/c%3A/Users/Palenzuela/Downloads/Eternal_Quijote.ipynb#Y302sZmlsZQ%3D%3D?line=89'>90</a>\u001b[0m logits, _ \u001b[39m=\u001b[39m \u001b[39mself\u001b[39;49m(idx_crop)\n\u001b[0;32m     <a href='vscode-notebook-cell:/c%3A/Users/Palenzuela/Downloads/Eternal_Quijote.ipynb#Y302sZmlsZQ%3D%3D?line=90'>91</a>\u001b[0m \u001b[39m# We are only interested in the predictions (V) for the last token (-1) of every input of the batch (B).\u001b[39;00m\n\u001b[0;32m     <a href='vscode-notebook-cell:/c%3A/Users/Palenzuela/Downloads/Eternal_Quijote.ipynb#Y302sZmlsZQ%3D%3D?line=91'>92</a>\u001b[0m logits \u001b[39m=\u001b[39m logits[:, \u001b[39m-\u001b[39m\u001b[39m1\u001b[39m, :] \u001b[39m# --> (B, V)\u001b[39;00m\n",
            "File \u001b[1;32mc:\\Users\\Palenzuela\\miniconda3\\envs\\tfg\\lib\\site-packages\\torch\\nn\\modules\\module.py:1501\u001b[0m, in \u001b[0;36mModule._call_impl\u001b[1;34m(self, *args, **kwargs)\u001b[0m\n\u001b[0;32m   1496\u001b[0m \u001b[39m# If we don't have any hooks, we want to skip the rest of the logic in\u001b[39;00m\n\u001b[0;32m   1497\u001b[0m \u001b[39m# this function, and just call forward.\u001b[39;00m\n\u001b[0;32m   1498\u001b[0m \u001b[39mif\u001b[39;00m \u001b[39mnot\u001b[39;00m (\u001b[39mself\u001b[39m\u001b[39m.\u001b[39m_backward_hooks \u001b[39mor\u001b[39;00m \u001b[39mself\u001b[39m\u001b[39m.\u001b[39m_backward_pre_hooks \u001b[39mor\u001b[39;00m \u001b[39mself\u001b[39m\u001b[39m.\u001b[39m_forward_hooks \u001b[39mor\u001b[39;00m \u001b[39mself\u001b[39m\u001b[39m.\u001b[39m_forward_pre_hooks\n\u001b[0;32m   1499\u001b[0m         \u001b[39mor\u001b[39;00m _global_backward_pre_hooks \u001b[39mor\u001b[39;00m _global_backward_hooks\n\u001b[0;32m   1500\u001b[0m         \u001b[39mor\u001b[39;00m _global_forward_hooks \u001b[39mor\u001b[39;00m _global_forward_pre_hooks):\n\u001b[1;32m-> 1501\u001b[0m     \u001b[39mreturn\u001b[39;00m forward_call(\u001b[39m*\u001b[39margs, \u001b[39m*\u001b[39m\u001b[39m*\u001b[39mkwargs)\n\u001b[0;32m   1502\u001b[0m \u001b[39m# Do not call functions when jit is used\u001b[39;00m\n\u001b[0;32m   1503\u001b[0m full_backward_hooks, non_full_backward_hooks \u001b[39m=\u001b[39m [], []\n",
            "\u001b[1;32mc:\\Users\\Palenzuela\\Downloads\\Eternal_Quijote.ipynb Cell 151\u001b[0m line \u001b[0;36m4\n\u001b[0;32m     <a href='vscode-notebook-cell:/c%3A/Users/Palenzuela/Downloads/Eternal_Quijote.ipynb#Y302sZmlsZQ%3D%3D?line=31'>32</a>\u001b[0m x \u001b[39m=\u001b[39m token_emb \u001b[39m+\u001b[39m postion_emb \u001b[39m# (B,T,C) + (T,C) = (B,T,C) + \"B*(1,T,C)\" = (B,T,C) --> Broadcasting\u001b[39;00m\n\u001b[0;32m     <a href='vscode-notebook-cell:/c%3A/Users/Palenzuela/Downloads/Eternal_Quijote.ipynb#Y302sZmlsZQ%3D%3D?line=33'>34</a>\u001b[0m \u001b[39m#                 X\u001b[39;00m\n\u001b[0;32m     <a href='vscode-notebook-cell:/c%3A/Users/Palenzuela/Downloads/Eternal_Quijote.ipynb#Y302sZmlsZQ%3D%3D?line=34'>35</a>\u001b[0m \u001b[39m#                         ____\u001b[39;00m\n\u001b[0;32m     <a href='vscode-notebook-cell:/c%3A/Users/Palenzuela/Downloads/Eternal_Quijote.ipynb#Y302sZmlsZQ%3D%3D?line=35'>36</a>\u001b[0m \u001b[39m#                        /___/\u001b[39;00m\n\u001b[1;32m   (...)\u001b[0m\n\u001b[0;32m     <a href='vscode-notebook-cell:/c%3A/Users/Palenzuela/Downloads/Eternal_Quijote.ipynb#Y302sZmlsZQ%3D%3D?line=46'>47</a>\u001b[0m \n\u001b[0;32m     <a href='vscode-notebook-cell:/c%3A/Users/Palenzuela/Downloads/Eternal_Quijote.ipynb#Y302sZmlsZQ%3D%3D?line=47'>48</a>\u001b[0m \u001b[39m# Self-Attention + Computation\u001b[39;00m\n\u001b[1;32m---> <a href='vscode-notebook-cell:/c%3A/Users/Palenzuela/Downloads/Eternal_Quijote.ipynb#Y302sZmlsZQ%3D%3D?line=48'>49</a>\u001b[0m x \u001b[39m=\u001b[39m \u001b[39mself\u001b[39;49m\u001b[39m.\u001b[39;49mblocks(x) \u001b[39m# (B,T,C)\u001b[39;00m\n\u001b[0;32m     <a href='vscode-notebook-cell:/c%3A/Users/Palenzuela/Downloads/Eternal_Quijote.ipynb#Y302sZmlsZQ%3D%3D?line=50'>51</a>\u001b[0m \u001b[39m# Normalizing before last transformation\u001b[39;00m\n\u001b[0;32m     <a href='vscode-notebook-cell:/c%3A/Users/Palenzuela/Downloads/Eternal_Quijote.ipynb#Y302sZmlsZQ%3D%3D?line=51'>52</a>\u001b[0m x \u001b[39m=\u001b[39m \u001b[39mself\u001b[39m\u001b[39m.\u001b[39mln_f(x) \u001b[39m# (B,T,C)\u001b[39;00m\n",
            "File \u001b[1;32mc:\\Users\\Palenzuela\\miniconda3\\envs\\tfg\\lib\\site-packages\\torch\\nn\\modules\\module.py:1501\u001b[0m, in \u001b[0;36mModule._call_impl\u001b[1;34m(self, *args, **kwargs)\u001b[0m\n\u001b[0;32m   1496\u001b[0m \u001b[39m# If we don't have any hooks, we want to skip the rest of the logic in\u001b[39;00m\n\u001b[0;32m   1497\u001b[0m \u001b[39m# this function, and just call forward.\u001b[39;00m\n\u001b[0;32m   1498\u001b[0m \u001b[39mif\u001b[39;00m \u001b[39mnot\u001b[39;00m (\u001b[39mself\u001b[39m\u001b[39m.\u001b[39m_backward_hooks \u001b[39mor\u001b[39;00m \u001b[39mself\u001b[39m\u001b[39m.\u001b[39m_backward_pre_hooks \u001b[39mor\u001b[39;00m \u001b[39mself\u001b[39m\u001b[39m.\u001b[39m_forward_hooks \u001b[39mor\u001b[39;00m \u001b[39mself\u001b[39m\u001b[39m.\u001b[39m_forward_pre_hooks\n\u001b[0;32m   1499\u001b[0m         \u001b[39mor\u001b[39;00m _global_backward_pre_hooks \u001b[39mor\u001b[39;00m _global_backward_hooks\n\u001b[0;32m   1500\u001b[0m         \u001b[39mor\u001b[39;00m _global_forward_hooks \u001b[39mor\u001b[39;00m _global_forward_pre_hooks):\n\u001b[1;32m-> 1501\u001b[0m     \u001b[39mreturn\u001b[39;00m forward_call(\u001b[39m*\u001b[39margs, \u001b[39m*\u001b[39m\u001b[39m*\u001b[39mkwargs)\n\u001b[0;32m   1502\u001b[0m \u001b[39m# Do not call functions when jit is used\u001b[39;00m\n\u001b[0;32m   1503\u001b[0m full_backward_hooks, non_full_backward_hooks \u001b[39m=\u001b[39m [], []\n",
            "File \u001b[1;32mc:\\Users\\Palenzuela\\miniconda3\\envs\\tfg\\lib\\site-packages\\torch\\nn\\modules\\container.py:217\u001b[0m, in \u001b[0;36mSequential.forward\u001b[1;34m(self, input)\u001b[0m\n\u001b[0;32m    215\u001b[0m \u001b[39mdef\u001b[39;00m \u001b[39mforward\u001b[39m(\u001b[39mself\u001b[39m, \u001b[39minput\u001b[39m):\n\u001b[0;32m    216\u001b[0m     \u001b[39mfor\u001b[39;00m module \u001b[39min\u001b[39;00m \u001b[39mself\u001b[39m:\n\u001b[1;32m--> 217\u001b[0m         \u001b[39minput\u001b[39m \u001b[39m=\u001b[39m module(\u001b[39minput\u001b[39;49m)\n\u001b[0;32m    218\u001b[0m     \u001b[39mreturn\u001b[39;00m \u001b[39minput\u001b[39m\n",
            "File \u001b[1;32mc:\\Users\\Palenzuela\\miniconda3\\envs\\tfg\\lib\\site-packages\\torch\\nn\\modules\\module.py:1501\u001b[0m, in \u001b[0;36mModule._call_impl\u001b[1;34m(self, *args, **kwargs)\u001b[0m\n\u001b[0;32m   1496\u001b[0m \u001b[39m# If we don't have any hooks, we want to skip the rest of the logic in\u001b[39;00m\n\u001b[0;32m   1497\u001b[0m \u001b[39m# this function, and just call forward.\u001b[39;00m\n\u001b[0;32m   1498\u001b[0m \u001b[39mif\u001b[39;00m \u001b[39mnot\u001b[39;00m (\u001b[39mself\u001b[39m\u001b[39m.\u001b[39m_backward_hooks \u001b[39mor\u001b[39;00m \u001b[39mself\u001b[39m\u001b[39m.\u001b[39m_backward_pre_hooks \u001b[39mor\u001b[39;00m \u001b[39mself\u001b[39m\u001b[39m.\u001b[39m_forward_hooks \u001b[39mor\u001b[39;00m \u001b[39mself\u001b[39m\u001b[39m.\u001b[39m_forward_pre_hooks\n\u001b[0;32m   1499\u001b[0m         \u001b[39mor\u001b[39;00m _global_backward_pre_hooks \u001b[39mor\u001b[39;00m _global_backward_hooks\n\u001b[0;32m   1500\u001b[0m         \u001b[39mor\u001b[39;00m _global_forward_hooks \u001b[39mor\u001b[39;00m _global_forward_pre_hooks):\n\u001b[1;32m-> 1501\u001b[0m     \u001b[39mreturn\u001b[39;00m forward_call(\u001b[39m*\u001b[39margs, \u001b[39m*\u001b[39m\u001b[39m*\u001b[39mkwargs)\n\u001b[0;32m   1502\u001b[0m \u001b[39m# Do not call functions when jit is used\u001b[39;00m\n\u001b[0;32m   1503\u001b[0m full_backward_hooks, non_full_backward_hooks \u001b[39m=\u001b[39m [], []\n",
            "\u001b[1;32mc:\\Users\\Palenzuela\\Downloads\\Eternal_Quijote.ipynb Cell 151\u001b[0m line \u001b[0;36m8\n\u001b[0;32m     <a href='vscode-notebook-cell:/c%3A/Users/Palenzuela/Downloads/Eternal_Quijote.ipynb#Y302sZmlsZQ%3D%3D?line=84'>85</a>\u001b[0m \u001b[39mdef\u001b[39;00m \u001b[39mforward\u001b[39m(\u001b[39mself\u001b[39m, x):\n\u001b[0;32m     <a href='vscode-notebook-cell:/c%3A/Users/Palenzuela/Downloads/Eternal_Quijote.ipynb#Y302sZmlsZQ%3D%3D?line=85'>86</a>\u001b[0m     x \u001b[39m=\u001b[39m \u001b[39mself\u001b[39m\u001b[39m.\u001b[39mln1(x) \u001b[39m# NEW\u001b[39;00m\n\u001b[1;32m---> <a href='vscode-notebook-cell:/c%3A/Users/Palenzuela/Downloads/Eternal_Quijote.ipynb#Y302sZmlsZQ%3D%3D?line=86'>87</a>\u001b[0m     x \u001b[39m=\u001b[39m x \u001b[39m+\u001b[39m \u001b[39mself\u001b[39;49m\u001b[39m.\u001b[39;49msa(x)\n\u001b[0;32m     <a href='vscode-notebook-cell:/c%3A/Users/Palenzuela/Downloads/Eternal_Quijote.ipynb#Y302sZmlsZQ%3D%3D?line=87'>88</a>\u001b[0m     x \u001b[39m=\u001b[39m \u001b[39mself\u001b[39m\u001b[39m.\u001b[39mln2(x) \u001b[39m# NEW\u001b[39;00m\n\u001b[0;32m     <a href='vscode-notebook-cell:/c%3A/Users/Palenzuela/Downloads/Eternal_Quijote.ipynb#Y302sZmlsZQ%3D%3D?line=88'>89</a>\u001b[0m     x \u001b[39m=\u001b[39m x \u001b[39m+\u001b[39m \u001b[39mself\u001b[39m\u001b[39m.\u001b[39mffwd(x)\n",
            "File \u001b[1;32mc:\\Users\\Palenzuela\\miniconda3\\envs\\tfg\\lib\\site-packages\\torch\\nn\\modules\\module.py:1501\u001b[0m, in \u001b[0;36mModule._call_impl\u001b[1;34m(self, *args, **kwargs)\u001b[0m\n\u001b[0;32m   1496\u001b[0m \u001b[39m# If we don't have any hooks, we want to skip the rest of the logic in\u001b[39;00m\n\u001b[0;32m   1497\u001b[0m \u001b[39m# this function, and just call forward.\u001b[39;00m\n\u001b[0;32m   1498\u001b[0m \u001b[39mif\u001b[39;00m \u001b[39mnot\u001b[39;00m (\u001b[39mself\u001b[39m\u001b[39m.\u001b[39m_backward_hooks \u001b[39mor\u001b[39;00m \u001b[39mself\u001b[39m\u001b[39m.\u001b[39m_backward_pre_hooks \u001b[39mor\u001b[39;00m \u001b[39mself\u001b[39m\u001b[39m.\u001b[39m_forward_hooks \u001b[39mor\u001b[39;00m \u001b[39mself\u001b[39m\u001b[39m.\u001b[39m_forward_pre_hooks\n\u001b[0;32m   1499\u001b[0m         \u001b[39mor\u001b[39;00m _global_backward_pre_hooks \u001b[39mor\u001b[39;00m _global_backward_hooks\n\u001b[0;32m   1500\u001b[0m         \u001b[39mor\u001b[39;00m _global_forward_hooks \u001b[39mor\u001b[39;00m _global_forward_pre_hooks):\n\u001b[1;32m-> 1501\u001b[0m     \u001b[39mreturn\u001b[39;00m forward_call(\u001b[39m*\u001b[39margs, \u001b[39m*\u001b[39m\u001b[39m*\u001b[39mkwargs)\n\u001b[0;32m   1502\u001b[0m \u001b[39m# Do not call functions when jit is used\u001b[39;00m\n\u001b[0;32m   1503\u001b[0m full_backward_hooks, non_full_backward_hooks \u001b[39m=\u001b[39m [], []\n",
            "\u001b[1;32mc:\\Users\\Palenzuela\\Downloads\\Eternal_Quijote.ipynb Cell 151\u001b[0m line \u001b[0;36m4\n\u001b[0;32m     <a href='vscode-notebook-cell:/c%3A/Users/Palenzuela/Downloads/Eternal_Quijote.ipynb#Y302sZmlsZQ%3D%3D?line=43'>44</a>\u001b[0m \u001b[39mdef\u001b[39;00m \u001b[39mforward\u001b[39m(\u001b[39mself\u001b[39m, x):\n\u001b[0;32m     <a href='vscode-notebook-cell:/c%3A/Users/Palenzuela/Downloads/Eternal_Quijote.ipynb#Y302sZmlsZQ%3D%3D?line=44'>45</a>\u001b[0m     \u001b[39m# x --> (B,T,C)\u001b[39;00m\n\u001b[0;32m     <a href='vscode-notebook-cell:/c%3A/Users/Palenzuela/Downloads/Eternal_Quijote.ipynb#Y302sZmlsZQ%3D%3D?line=45'>46</a>\u001b[0m     \u001b[39m# h(x) --> (B,T,head_size)\u001b[39;00m\n\u001b[0;32m     <a href='vscode-notebook-cell:/c%3A/Users/Palenzuela/Downloads/Eternal_Quijote.ipynb#Y302sZmlsZQ%3D%3D?line=46'>47</a>\u001b[0m     \u001b[39m# out --> (B,T,head_size*num_heads) = (B,T,n_embd)\u001b[39;00m\n\u001b[1;32m---> <a href='vscode-notebook-cell:/c%3A/Users/Palenzuela/Downloads/Eternal_Quijote.ipynb#Y302sZmlsZQ%3D%3D?line=47'>48</a>\u001b[0m     out \u001b[39m=\u001b[39m torch\u001b[39m.\u001b[39mcat([h(x) \u001b[39mfor\u001b[39;00m h \u001b[39min\u001b[39;00m \u001b[39mself\u001b[39m\u001b[39m.\u001b[39mheads], dim\u001b[39m=\u001b[39m\u001b[39m-\u001b[39m\u001b[39m1\u001b[39m)\n\u001b[0;32m     <a href='vscode-notebook-cell:/c%3A/Users/Palenzuela/Downloads/Eternal_Quijote.ipynb#Y302sZmlsZQ%3D%3D?line=48'>49</a>\u001b[0m     \u001b[39m# Project back into the residual highway\u001b[39;00m\n\u001b[0;32m     <a href='vscode-notebook-cell:/c%3A/Users/Palenzuela/Downloads/Eternal_Quijote.ipynb#Y302sZmlsZQ%3D%3D?line=49'>50</a>\u001b[0m     out \u001b[39m=\u001b[39m \u001b[39mself\u001b[39m\u001b[39m.\u001b[39mproj(out)\n",
            "\u001b[1;32mc:\\Users\\Palenzuela\\Downloads\\Eternal_Quijote.ipynb Cell 151\u001b[0m line \u001b[0;36m4\n\u001b[0;32m     <a href='vscode-notebook-cell:/c%3A/Users/Palenzuela/Downloads/Eternal_Quijote.ipynb#Y302sZmlsZQ%3D%3D?line=43'>44</a>\u001b[0m \u001b[39mdef\u001b[39;00m \u001b[39mforward\u001b[39m(\u001b[39mself\u001b[39m, x):\n\u001b[0;32m     <a href='vscode-notebook-cell:/c%3A/Users/Palenzuela/Downloads/Eternal_Quijote.ipynb#Y302sZmlsZQ%3D%3D?line=44'>45</a>\u001b[0m     \u001b[39m# x --> (B,T,C)\u001b[39;00m\n\u001b[0;32m     <a href='vscode-notebook-cell:/c%3A/Users/Palenzuela/Downloads/Eternal_Quijote.ipynb#Y302sZmlsZQ%3D%3D?line=45'>46</a>\u001b[0m     \u001b[39m# h(x) --> (B,T,head_size)\u001b[39;00m\n\u001b[0;32m     <a href='vscode-notebook-cell:/c%3A/Users/Palenzuela/Downloads/Eternal_Quijote.ipynb#Y302sZmlsZQ%3D%3D?line=46'>47</a>\u001b[0m     \u001b[39m# out --> (B,T,head_size*num_heads) = (B,T,n_embd)\u001b[39;00m\n\u001b[1;32m---> <a href='vscode-notebook-cell:/c%3A/Users/Palenzuela/Downloads/Eternal_Quijote.ipynb#Y302sZmlsZQ%3D%3D?line=47'>48</a>\u001b[0m     out \u001b[39m=\u001b[39m torch\u001b[39m.\u001b[39mcat([h(x) \u001b[39mfor\u001b[39;00m h \u001b[39min\u001b[39;00m \u001b[39mself\u001b[39m\u001b[39m.\u001b[39mheads], dim\u001b[39m=\u001b[39m\u001b[39m-\u001b[39m\u001b[39m1\u001b[39m)\n\u001b[0;32m     <a href='vscode-notebook-cell:/c%3A/Users/Palenzuela/Downloads/Eternal_Quijote.ipynb#Y302sZmlsZQ%3D%3D?line=48'>49</a>\u001b[0m     \u001b[39m# Project back into the residual highway\u001b[39;00m\n\u001b[0;32m     <a href='vscode-notebook-cell:/c%3A/Users/Palenzuela/Downloads/Eternal_Quijote.ipynb#Y302sZmlsZQ%3D%3D?line=49'>50</a>\u001b[0m     out \u001b[39m=\u001b[39m \u001b[39mself\u001b[39m\u001b[39m.\u001b[39mproj(out)\n",
            "File \u001b[1;32mc:\\Users\\Palenzuela\\miniconda3\\envs\\tfg\\lib\\site-packages\\torch\\nn\\modules\\module.py:1501\u001b[0m, in \u001b[0;36mModule._call_impl\u001b[1;34m(self, *args, **kwargs)\u001b[0m\n\u001b[0;32m   1496\u001b[0m \u001b[39m# If we don't have any hooks, we want to skip the rest of the logic in\u001b[39;00m\n\u001b[0;32m   1497\u001b[0m \u001b[39m# this function, and just call forward.\u001b[39;00m\n\u001b[0;32m   1498\u001b[0m \u001b[39mif\u001b[39;00m \u001b[39mnot\u001b[39;00m (\u001b[39mself\u001b[39m\u001b[39m.\u001b[39m_backward_hooks \u001b[39mor\u001b[39;00m \u001b[39mself\u001b[39m\u001b[39m.\u001b[39m_backward_pre_hooks \u001b[39mor\u001b[39;00m \u001b[39mself\u001b[39m\u001b[39m.\u001b[39m_forward_hooks \u001b[39mor\u001b[39;00m \u001b[39mself\u001b[39m\u001b[39m.\u001b[39m_forward_pre_hooks\n\u001b[0;32m   1499\u001b[0m         \u001b[39mor\u001b[39;00m _global_backward_pre_hooks \u001b[39mor\u001b[39;00m _global_backward_hooks\n\u001b[0;32m   1500\u001b[0m         \u001b[39mor\u001b[39;00m _global_forward_hooks \u001b[39mor\u001b[39;00m _global_forward_pre_hooks):\n\u001b[1;32m-> 1501\u001b[0m     \u001b[39mreturn\u001b[39;00m forward_call(\u001b[39m*\u001b[39margs, \u001b[39m*\u001b[39m\u001b[39m*\u001b[39mkwargs)\n\u001b[0;32m   1502\u001b[0m \u001b[39m# Do not call functions when jit is used\u001b[39;00m\n\u001b[0;32m   1503\u001b[0m full_backward_hooks, non_full_backward_hooks \u001b[39m=\u001b[39m [], []\n",
            "\u001b[1;32mc:\\Users\\Palenzuela\\Downloads\\Eternal_Quijote.ipynb Cell 151\u001b[0m line \u001b[0;36m2\n\u001b[0;32m     <a href='vscode-notebook-cell:/c%3A/Users/Palenzuela/Downloads/Eternal_Quijote.ipynb#Y302sZmlsZQ%3D%3D?line=24'>25</a>\u001b[0m wei \u001b[39m=\u001b[39m F\u001b[39m.\u001b[39msoftmax(wei, dim\u001b[39m=\u001b[39m\u001b[39m-\u001b[39m\u001b[39m1\u001b[39m) \u001b[39m# (B, T, T)\u001b[39;00m\n\u001b[0;32m     <a href='vscode-notebook-cell:/c%3A/Users/Palenzuela/Downloads/Eternal_Quijote.ipynb#Y302sZmlsZQ%3D%3D?line=25'>26</a>\u001b[0m \u001b[39m# NEW. Randomly avoid the communication between some tokens.\u001b[39;00m\n\u001b[1;32m---> <a href='vscode-notebook-cell:/c%3A/Users/Palenzuela/Downloads/Eternal_Quijote.ipynb#Y302sZmlsZQ%3D%3D?line=26'>27</a>\u001b[0m wei \u001b[39m=\u001b[39m \u001b[39mself\u001b[39;49m\u001b[39m.\u001b[39;49mdropout(wei)\n\u001b[0;32m     <a href='vscode-notebook-cell:/c%3A/Users/Palenzuela/Downloads/Eternal_Quijote.ipynb#Y302sZmlsZQ%3D%3D?line=27'>28</a>\u001b[0m \u001b[39m# Weighted aggregation of the values (not the raw embedded token) ...\u001b[39;00m\n\u001b[0;32m     <a href='vscode-notebook-cell:/c%3A/Users/Palenzuela/Downloads/Eternal_Quijote.ipynb#Y302sZmlsZQ%3D%3D?line=28'>29</a>\u001b[0m v \u001b[39m=\u001b[39m \u001b[39mself\u001b[39m\u001b[39m.\u001b[39mvalue(x) \u001b[39m# (B,T,C)\u001b[39;00m\n",
            "File \u001b[1;32mc:\\Users\\Palenzuela\\miniconda3\\envs\\tfg\\lib\\site-packages\\torch\\nn\\modules\\module.py:1501\u001b[0m, in \u001b[0;36mModule._call_impl\u001b[1;34m(self, *args, **kwargs)\u001b[0m\n\u001b[0;32m   1496\u001b[0m \u001b[39m# If we don't have any hooks, we want to skip the rest of the logic in\u001b[39;00m\n\u001b[0;32m   1497\u001b[0m \u001b[39m# this function, and just call forward.\u001b[39;00m\n\u001b[0;32m   1498\u001b[0m \u001b[39mif\u001b[39;00m \u001b[39mnot\u001b[39;00m (\u001b[39mself\u001b[39m\u001b[39m.\u001b[39m_backward_hooks \u001b[39mor\u001b[39;00m \u001b[39mself\u001b[39m\u001b[39m.\u001b[39m_backward_pre_hooks \u001b[39mor\u001b[39;00m \u001b[39mself\u001b[39m\u001b[39m.\u001b[39m_forward_hooks \u001b[39mor\u001b[39;00m \u001b[39mself\u001b[39m\u001b[39m.\u001b[39m_forward_pre_hooks\n\u001b[0;32m   1499\u001b[0m         \u001b[39mor\u001b[39;00m _global_backward_pre_hooks \u001b[39mor\u001b[39;00m _global_backward_hooks\n\u001b[0;32m   1500\u001b[0m         \u001b[39mor\u001b[39;00m _global_forward_hooks \u001b[39mor\u001b[39;00m _global_forward_pre_hooks):\n\u001b[1;32m-> 1501\u001b[0m     \u001b[39mreturn\u001b[39;00m forward_call(\u001b[39m*\u001b[39margs, \u001b[39m*\u001b[39m\u001b[39m*\u001b[39mkwargs)\n\u001b[0;32m   1502\u001b[0m \u001b[39m# Do not call functions when jit is used\u001b[39;00m\n\u001b[0;32m   1503\u001b[0m full_backward_hooks, non_full_backward_hooks \u001b[39m=\u001b[39m [], []\n",
            "File \u001b[1;32mc:\\Users\\Palenzuela\\miniconda3\\envs\\tfg\\lib\\site-packages\\torch\\nn\\modules\\dropout.py:59\u001b[0m, in \u001b[0;36mDropout.forward\u001b[1;34m(self, input)\u001b[0m\n\u001b[0;32m     58\u001b[0m \u001b[39mdef\u001b[39;00m \u001b[39mforward\u001b[39m(\u001b[39mself\u001b[39m, \u001b[39minput\u001b[39m: Tensor) \u001b[39m-\u001b[39m\u001b[39m>\u001b[39m Tensor:\n\u001b[1;32m---> 59\u001b[0m     \u001b[39mreturn\u001b[39;00m F\u001b[39m.\u001b[39;49mdropout(\u001b[39minput\u001b[39;49m, \u001b[39mself\u001b[39;49m\u001b[39m.\u001b[39;49mp, \u001b[39mself\u001b[39;49m\u001b[39m.\u001b[39;49mtraining, \u001b[39mself\u001b[39;49m\u001b[39m.\u001b[39;49minplace)\n",
            "File \u001b[1;32mc:\\Users\\Palenzuela\\miniconda3\\envs\\tfg\\lib\\site-packages\\torch\\nn\\functional.py:1252\u001b[0m, in \u001b[0;36mdropout\u001b[1;34m(input, p, training, inplace)\u001b[0m\n\u001b[0;32m   1250\u001b[0m \u001b[39mif\u001b[39;00m p \u001b[39m<\u001b[39m \u001b[39m0.0\u001b[39m \u001b[39mor\u001b[39;00m p \u001b[39m>\u001b[39m \u001b[39m1.0\u001b[39m:\n\u001b[0;32m   1251\u001b[0m     \u001b[39mraise\u001b[39;00m \u001b[39mValueError\u001b[39;00m(\u001b[39m\"\u001b[39m\u001b[39mdropout probability has to be between 0 and 1, \u001b[39m\u001b[39m\"\u001b[39m \u001b[39m\"\u001b[39m\u001b[39mbut got \u001b[39m\u001b[39m{}\u001b[39;00m\u001b[39m\"\u001b[39m\u001b[39m.\u001b[39mformat(p))\n\u001b[1;32m-> 1252\u001b[0m \u001b[39mreturn\u001b[39;00m _VF\u001b[39m.\u001b[39mdropout_(\u001b[39minput\u001b[39m, p, training) \u001b[39mif\u001b[39;00m inplace \u001b[39melse\u001b[39;00m _VF\u001b[39m.\u001b[39;49mdropout(\u001b[39minput\u001b[39;49m, p, training)\n",
            "\u001b[1;31mKeyboardInterrupt\u001b[0m: "
          ]
        }
      ],
      "source": [
        "# Generating from 0 token (which is the '\\n' character)\n",
        "print(\"---- Generating sequence from [\\'\\\\n\\']:\")\n",
        "starting_token = torch.zeros((1, 1), dtype=torch.long)\n",
        "torch.manual_seed(98)\n",
        "while True:\n",
        "  generated_tokens = m.generate(idx=starting_token, max_new_tokens=1)\n",
        "  starting_token = generated_tokens\n",
        "  # display.clear_output(wait=True)\n",
        "  # display.display(decode(generated_tokens[0].tolist()))\n",
        "  print(decode(generated_tokens[0].tolist())[-1], end='')"
      ]
    },
    {
      "cell_type": "code",
      "execution_count": 65,
      "metadata": {},
      "outputs": [
        {
          "name": "stdout",
          "output_type": "stream",
          "text": [
            "\n",
            "gota hacer, le se dije está cara, por toda lo cual me hacía de con otra de mi durgor; por detantáncias dijo a la calanza, y que veo a vualego el deseño que los tomagas, males de los tocas prear estigender es cruel de la cueña de algún apórejas por don vuele de los armado de la Camila que los de don Femando le y de igualada? Alma diéndolos; costo nuestro camades. Si mal soldad dicele cualque yo no me sepas de lo que alguno había vuestra graciosa malquina que la obra, pues ayudar vos a sus sacorenta quitásemos, por la ley le bien llegar dijo:\n",
            "-Capula y lleval recogación; ¿quiéndolos; que vino restreche.\n",
            "-¿Qué más daga bastaltar un casto -dijo Doroteado-.\n",
            "-¿No pudiese polva, salía, sin pallabre, don Quijote, en otro por dí gusto corto arrogó y espejando finada, que ni acose piedra, y cuidada cómánda menos ha correnado y gración por padre; y emperdearamos dás el amor de escuderido; que sin valleros a lo venir y destallabarle esto cuando entre afrenezcar,\n",
            "senla una locuraden, luego, luegó a una preto, que un conjés y tantas tuvieren unas desmosaste subiese ni mie podir mayo, los que consejaba no de acompar del galardo, que a Dios de a vengana, que a su ventura lo parece; porque no, que si estillos más con propesar que paría como se debe de pader infarme inajende de Rocinante, cuán que se sale ahizán en su traista. Las en la cual liberta se habla afeca, y me pedíi en dulvísimo falmada; asío los tiempedemla a la calaraquí en aque mirar o a bastaba y sin palaba que hice por el estrado de mi venturo que duena el ahí, que te la cual es esparanzado que letuen y el horar andando de en todas bondad, vinos en los maríantes; y el aprepunto que bueno menor a él:\n",
            "darme yo dejar de las muesmos lo que saldaré un apatorfamiente en el un pensamion, con él procurarilles hobra, que ya oss condició la de mano, el hachasto de Aglma, dijos? Que el escucho dondisfapiesa, sin du alcanzarme a venir si no hubierán en otra ventad, mirando en al tu barbádosa como mozo que llamante a que él enambaste cosa que samigo las libró colones, detiarmel y a Rocinante les parmado en la horra pañol, la brardía se cumía; Cla, desaba en esta, siz que no Cardenio de nadie de Don Quijote.\n",
            "-Esta mejor parecidio y nombiendo nuevos algunos armán de aventuroso tán el libertaleza y bien la pensamina, como gustarde en oír que quieras rey que con el señor, y los cura de en esto en la gela la firméisund de la contante salta de otro liguelo. Lo sólo me te ores, por el cual pierse cosa los ricosos de sus laneras, y, cuando la camra, y hallama cuy a ser láquzos le rebajó lo cual daaba, y la partíten a que me hubiese saco mío adelante ibante él de tustoma su hizencia, tornón sot que si ha respondido: ciendo lle parece a mí, que al habré se semed.\n",
            "-No dijo, ¿confeto Zoraida – que es le le vidrimo quel es que Samldan el suceso; mas ni cargados del torrego secho, ni descargé el abriente señor, pero y en la doscinzlosa no porque el hación quisien a cosasión, rocuda saltó dul no desdermito la Males y de que en su bengo; y y caso ansimiese bien que más bueno ha pícipo, metro mi, o la vuez ira partias nacosas haciendo, respondió Garcelio el bastille, que él le respondió Don Quijote ún Elcurmado. Vime dijo Saspe Anselmo, digo con que él Anselmo quiso que mi nombre. Capilallé el cura que le harío era uno te haría hecho con ella hermosa, fin darla cuántos, aquí él bastán que la ven, ningunta a su amisto, que por día -dijo Sancho al más con las causadas.\n",
            "Adme la cuesta, pero Gaia Hermonese, tal las memorias concesaria eson todo concerte, que de su discreto en sese leale urlando e irviano adoravió a los muya remenzar padritos, aguar su honrado, y entrarme al cual no serán ando le había juito. Sino, a tan la barbera -respondió Sancho. Y, salió así, todo esto tan como y pued, no tomando a fue a la roma, que no ahora alcar comieron salió un verduntariono, pruesta le podría, que con pena pendrimente en la lleva asimisma cosa que de lo boja y pena camino en sus ampenos; y de o, y da lengua, compor esa brazón sino abseado a quien no os uno aún de pliguño, porque aun dos compados y traegos los que dijese todos los conoces es la fuerza Reinante, si los luego, sin andar ibió Y en cólo tu pude imagunosfujos nombre a endir ver andamos que apartaba, no la nacidad, digo donde pasación, he bire con muestaba. Canada y así huelo el lo duña a don Fe nuelos, aunto doy en que no parecio, y sin quietus espieses, más bien escudero, y se hace tu castía poco o entre volverar los y árrimargos virioso. Suy no lreroné Hilinado, que os la quitarnomos sandando entuda, nás dí asalí en repona, y son dar las cortesmosuras y meligrosiajo, fue Sancillenta cosia. Dige más fin de mano bien montando y jurame al trado. Lo humbré camaro tumpo canta paza a llas dos que su partes san los modoles que los de admire en de la vuelta bertala\" del día mi lugas, y en estos que tus disconuidos a lora unaco del la lengua na pasaadera de aquellos honestemajado, que os vuelvas vinan con cuentino su vida.\n",
            "Y con tu verda en el tiejo?\n",
            "–decía en el bueno –dijo don Quijote-. Pero, que a barrá)se en sé ponel sin dán que parezca un hacer esto casta en la tierra, que llería, a mi honrada, diciéndome, que los soledonos Don Quijote de un deso quito, y él caballero, fueron y podía lo don Quijote a la suyón con la ventura, y dijese mi valor de no serir al camar la rique debía; pura en ser una postada de su discajo de Arpinado, maladrimiento de la cabidad, que esta obra locura. Mirícamos defento, le anto, no mesmo que osa mayó con un golpeco de a una guetella, sin capear compando, y yo lesalte, y desdicía Don Quijote en vallero. De alcanzas a en tontómantes de más a mis caulado y del ofri\n"
          ]
        }
      ],
      "source": [
        "print(decode(generated_tokens[0].tolist()))"
      ]
    }
  ],
  "metadata": {
    "accelerator": "TPU",
    "colab": {
      "collapsed_sections": [
        "hAFYbcHb0mGC"
      ],
      "provenance": []
    },
    "kernelspec": {
      "display_name": "Python 3",
      "name": "python3"
    },
    "language_info": {
      "codemirror_mode": {
        "name": "ipython",
        "version": 3
      },
      "file_extension": ".py",
      "mimetype": "text/x-python",
      "name": "python",
      "nbconvert_exporter": "python",
      "pygments_lexer": "ipython3",
      "version": "3.9.17"
    },
    "widgets": {
      "application/vnd.jupyter.widget-state+json": {
        "0098fbb63cfb431a9ceb50499f12ff78": {
          "model_module": "@jupyter-widgets/base",
          "model_module_version": "1.2.0",
          "model_name": "LayoutModel",
          "state": {
            "_model_module": "@jupyter-widgets/base",
            "_model_module_version": "1.2.0",
            "_model_name": "LayoutModel",
            "_view_count": null,
            "_view_module": "@jupyter-widgets/base",
            "_view_module_version": "1.2.0",
            "_view_name": "LayoutView",
            "align_content": null,
            "align_items": null,
            "align_self": null,
            "border": null,
            "bottom": null,
            "display": null,
            "flex": null,
            "flex_flow": null,
            "grid_area": null,
            "grid_auto_columns": null,
            "grid_auto_flow": null,
            "grid_auto_rows": null,
            "grid_column": null,
            "grid_gap": null,
            "grid_row": null,
            "grid_template_areas": null,
            "grid_template_columns": null,
            "grid_template_rows": null,
            "height": null,
            "justify_content": null,
            "justify_items": null,
            "left": null,
            "margin": null,
            "max_height": null,
            "max_width": null,
            "min_height": null,
            "min_width": null,
            "object_fit": null,
            "object_position": null,
            "order": null,
            "overflow": null,
            "overflow_x": null,
            "overflow_y": null,
            "padding": null,
            "right": null,
            "top": null,
            "visibility": null,
            "width": null
          }
        },
        "044bcc78744642c5a56d681950d05c9b": {
          "model_module": "@jupyter-widgets/controls",
          "model_module_version": "1.5.0",
          "model_name": "FloatProgressModel",
          "state": {
            "_dom_classes": [],
            "_model_module": "@jupyter-widgets/controls",
            "_model_module_version": "1.5.0",
            "_model_name": "FloatProgressModel",
            "_view_count": null,
            "_view_module": "@jupyter-widgets/controls",
            "_view_module_version": "1.5.0",
            "_view_name": "ProgressView",
            "bar_style": "success",
            "description": "",
            "description_tooltip": null,
            "layout": "IPY_MODEL_64a12c79e23f4a9dab49df665d839908",
            "max": 10000,
            "min": 0,
            "orientation": "horizontal",
            "style": "IPY_MODEL_626641c630ae40dabd19c708ccbc06db",
            "value": 10000
          }
        },
        "044f488186f34b6f96a415344a8560fe": {
          "model_module": "@jupyter-widgets/controls",
          "model_module_version": "1.5.0",
          "model_name": "HTMLModel",
          "state": {
            "_dom_classes": [],
            "_model_module": "@jupyter-widgets/controls",
            "_model_module_version": "1.5.0",
            "_model_name": "HTMLModel",
            "_view_count": null,
            "_view_module": "@jupyter-widgets/controls",
            "_view_module_version": "1.5.0",
            "_view_name": "HTMLView",
            "description": "",
            "description_tooltip": null,
            "layout": "IPY_MODEL_ddb3cc2e20cb4bcb92f0c66fd953dd01",
            "placeholder": "​",
            "style": "IPY_MODEL_bace4a62a36f40aeb90d0d15021106ed",
            "value": " 10000/10000 [04:01&lt;00:00, 61.87it/s]"
          }
        },
        "05559ce30f794a62a8c385c31f2f5495": {
          "model_module": "@jupyter-widgets/controls",
          "model_module_version": "1.5.0",
          "model_name": "DescriptionStyleModel",
          "state": {
            "_model_module": "@jupyter-widgets/controls",
            "_model_module_version": "1.5.0",
            "_model_name": "DescriptionStyleModel",
            "_view_count": null,
            "_view_module": "@jupyter-widgets/base",
            "_view_module_version": "1.2.0",
            "_view_name": "StyleView",
            "description_width": ""
          }
        },
        "05894a48f8ab43829f0fa5b663d0cf01": {
          "model_module": "@jupyter-widgets/controls",
          "model_module_version": "1.5.0",
          "model_name": "HTMLModel",
          "state": {
            "_dom_classes": [],
            "_model_module": "@jupyter-widgets/controls",
            "_model_module_version": "1.5.0",
            "_model_name": "HTMLModel",
            "_view_count": null,
            "_view_module": "@jupyter-widgets/controls",
            "_view_module_version": "1.5.0",
            "_view_name": "HTMLView",
            "description": "",
            "description_tooltip": null,
            "layout": "IPY_MODEL_3cb463dc92304743b5a29de50ccf0811",
            "placeholder": "​",
            "style": "IPY_MODEL_9ed7137090f6481aa39670408937d668",
            "value": " 10000/10000 [00:44&lt;00:00, 155.20it/s]"
          }
        },
        "0b2f0191474b40c2b6095fd3f34fd7ad": {
          "model_module": "@jupyter-widgets/controls",
          "model_module_version": "1.5.0",
          "model_name": "DescriptionStyleModel",
          "state": {
            "_model_module": "@jupyter-widgets/controls",
            "_model_module_version": "1.5.0",
            "_model_name": "DescriptionStyleModel",
            "_view_count": null,
            "_view_module": "@jupyter-widgets/base",
            "_view_module_version": "1.2.0",
            "_view_name": "StyleView",
            "description_width": ""
          }
        },
        "0e669af41acf48d2b5d0c4859d276131": {
          "model_module": "@jupyter-widgets/controls",
          "model_module_version": "1.5.0",
          "model_name": "ProgressStyleModel",
          "state": {
            "_model_module": "@jupyter-widgets/controls",
            "_model_module_version": "1.5.0",
            "_model_name": "ProgressStyleModel",
            "_view_count": null,
            "_view_module": "@jupyter-widgets/base",
            "_view_module_version": "1.2.0",
            "_view_name": "StyleView",
            "bar_color": null,
            "description_width": ""
          }
        },
        "142477952a2f45f496e23f54a4c00fc0": {
          "model_module": "@jupyter-widgets/controls",
          "model_module_version": "1.5.0",
          "model_name": "HBoxModel",
          "state": {
            "_dom_classes": [],
            "_model_module": "@jupyter-widgets/controls",
            "_model_module_version": "1.5.0",
            "_model_name": "HBoxModel",
            "_view_count": null,
            "_view_module": "@jupyter-widgets/controls",
            "_view_module_version": "1.5.0",
            "_view_name": "HBoxView",
            "box_style": "",
            "children": [
              "IPY_MODEL_464e6187f305497f8078d865609bc990",
              "IPY_MODEL_044bcc78744642c5a56d681950d05c9b",
              "IPY_MODEL_8259e708b4b54b29aebf03004f11a264"
            ],
            "layout": "IPY_MODEL_a6f6c9cb9c47438c8f6e663686f280b2"
          }
        },
        "18cfce4dc2034a40ab32a6896191407e": {
          "model_module": "@jupyter-widgets/controls",
          "model_module_version": "1.5.0",
          "model_name": "HTMLModel",
          "state": {
            "_dom_classes": [],
            "_model_module": "@jupyter-widgets/controls",
            "_model_module_version": "1.5.0",
            "_model_name": "HTMLModel",
            "_view_count": null,
            "_view_module": "@jupyter-widgets/controls",
            "_view_module_version": "1.5.0",
            "_view_name": "HTMLView",
            "description": "",
            "description_tooltip": null,
            "layout": "IPY_MODEL_e741815db98f406eabfb7b937ac9cd41",
            "placeholder": "​",
            "style": "IPY_MODEL_37d6cc1593b84e24bd8dff4b6ff5e190",
            "value": " 10000/10000 [01:38&lt;00:00, 101.54it/s]"
          }
        },
        "19b3e5e9f1734167844c7d86d9a38a94": {
          "model_module": "@jupyter-widgets/base",
          "model_module_version": "1.2.0",
          "model_name": "LayoutModel",
          "state": {
            "_model_module": "@jupyter-widgets/base",
            "_model_module_version": "1.2.0",
            "_model_name": "LayoutModel",
            "_view_count": null,
            "_view_module": "@jupyter-widgets/base",
            "_view_module_version": "1.2.0",
            "_view_name": "LayoutView",
            "align_content": null,
            "align_items": null,
            "align_self": null,
            "border": null,
            "bottom": null,
            "display": null,
            "flex": null,
            "flex_flow": null,
            "grid_area": null,
            "grid_auto_columns": null,
            "grid_auto_flow": null,
            "grid_auto_rows": null,
            "grid_column": null,
            "grid_gap": null,
            "grid_row": null,
            "grid_template_areas": null,
            "grid_template_columns": null,
            "grid_template_rows": null,
            "height": null,
            "justify_content": null,
            "justify_items": null,
            "left": null,
            "margin": null,
            "max_height": null,
            "max_width": null,
            "min_height": null,
            "min_width": null,
            "object_fit": null,
            "object_position": null,
            "order": null,
            "overflow": null,
            "overflow_x": null,
            "overflow_y": null,
            "padding": null,
            "right": null,
            "top": null,
            "visibility": null,
            "width": null
          }
        },
        "1a6e5c10cb914a138ee77836f472e1ff": {
          "model_module": "@jupyter-widgets/base",
          "model_module_version": "1.2.0",
          "model_name": "LayoutModel",
          "state": {
            "_model_module": "@jupyter-widgets/base",
            "_model_module_version": "1.2.0",
            "_model_name": "LayoutModel",
            "_view_count": null,
            "_view_module": "@jupyter-widgets/base",
            "_view_module_version": "1.2.0",
            "_view_name": "LayoutView",
            "align_content": null,
            "align_items": null,
            "align_self": null,
            "border": null,
            "bottom": null,
            "display": null,
            "flex": null,
            "flex_flow": null,
            "grid_area": null,
            "grid_auto_columns": null,
            "grid_auto_flow": null,
            "grid_auto_rows": null,
            "grid_column": null,
            "grid_gap": null,
            "grid_row": null,
            "grid_template_areas": null,
            "grid_template_columns": null,
            "grid_template_rows": null,
            "height": null,
            "justify_content": null,
            "justify_items": null,
            "left": null,
            "margin": null,
            "max_height": null,
            "max_width": null,
            "min_height": null,
            "min_width": null,
            "object_fit": null,
            "object_position": null,
            "order": null,
            "overflow": null,
            "overflow_x": null,
            "overflow_y": null,
            "padding": null,
            "right": null,
            "top": null,
            "visibility": null,
            "width": null
          }
        },
        "1a731c65e90249359960d612a707d370": {
          "model_module": "@jupyter-widgets/controls",
          "model_module_version": "1.5.0",
          "model_name": "HBoxModel",
          "state": {
            "_dom_classes": [],
            "_model_module": "@jupyter-widgets/controls",
            "_model_module_version": "1.5.0",
            "_model_name": "HBoxModel",
            "_view_count": null,
            "_view_module": "@jupyter-widgets/controls",
            "_view_module_version": "1.5.0",
            "_view_name": "HBoxView",
            "box_style": "",
            "children": [
              "IPY_MODEL_611d3924bbb04499b3400361f8808237",
              "IPY_MODEL_23087c83cb7043aea8dc9fdf3c3c9f18",
              "IPY_MODEL_dee2441ce2434c4a83df3044a92f083b"
            ],
            "layout": "IPY_MODEL_ce8835f40edc482fba87cdd37096343c"
          }
        },
        "1eea39b98107433fba72c5b3b5b0842a": {
          "model_module": "@jupyter-widgets/controls",
          "model_module_version": "1.5.0",
          "model_name": "HBoxModel",
          "state": {
            "_dom_classes": [],
            "_model_module": "@jupyter-widgets/controls",
            "_model_module_version": "1.5.0",
            "_model_name": "HBoxModel",
            "_view_count": null,
            "_view_module": "@jupyter-widgets/controls",
            "_view_module_version": "1.5.0",
            "_view_name": "HBoxView",
            "box_style": "",
            "children": [
              "IPY_MODEL_cf9e767929d647eebcff9d3f9415fd5f",
              "IPY_MODEL_8910a15471314254bc0e992e40522593",
              "IPY_MODEL_05894a48f8ab43829f0fa5b663d0cf01"
            ],
            "layout": "IPY_MODEL_fa4be2f3b4134d308452b446de103dd2"
          }
        },
        "1ff3708012f5466c865a87d31fcce720": {
          "model_module": "@jupyter-widgets/controls",
          "model_module_version": "1.5.0",
          "model_name": "DescriptionStyleModel",
          "state": {
            "_model_module": "@jupyter-widgets/controls",
            "_model_module_version": "1.5.0",
            "_model_name": "DescriptionStyleModel",
            "_view_count": null,
            "_view_module": "@jupyter-widgets/base",
            "_view_module_version": "1.2.0",
            "_view_name": "StyleView",
            "description_width": ""
          }
        },
        "22718ffa11f54a7da3ba29f54923b927": {
          "model_module": "@jupyter-widgets/controls",
          "model_module_version": "1.5.0",
          "model_name": "DescriptionStyleModel",
          "state": {
            "_model_module": "@jupyter-widgets/controls",
            "_model_module_version": "1.5.0",
            "_model_name": "DescriptionStyleModel",
            "_view_count": null,
            "_view_module": "@jupyter-widgets/base",
            "_view_module_version": "1.2.0",
            "_view_name": "StyleView",
            "description_width": ""
          }
        },
        "22f93a2e64ba45db83134cae54810500": {
          "model_module": "@jupyter-widgets/base",
          "model_module_version": "1.2.0",
          "model_name": "LayoutModel",
          "state": {
            "_model_module": "@jupyter-widgets/base",
            "_model_module_version": "1.2.0",
            "_model_name": "LayoutModel",
            "_view_count": null,
            "_view_module": "@jupyter-widgets/base",
            "_view_module_version": "1.2.0",
            "_view_name": "LayoutView",
            "align_content": null,
            "align_items": null,
            "align_self": null,
            "border": null,
            "bottom": null,
            "display": null,
            "flex": null,
            "flex_flow": null,
            "grid_area": null,
            "grid_auto_columns": null,
            "grid_auto_flow": null,
            "grid_auto_rows": null,
            "grid_column": null,
            "grid_gap": null,
            "grid_row": null,
            "grid_template_areas": null,
            "grid_template_columns": null,
            "grid_template_rows": null,
            "height": null,
            "justify_content": null,
            "justify_items": null,
            "left": null,
            "margin": null,
            "max_height": null,
            "max_width": null,
            "min_height": null,
            "min_width": null,
            "object_fit": null,
            "object_position": null,
            "order": null,
            "overflow": null,
            "overflow_x": null,
            "overflow_y": null,
            "padding": null,
            "right": null,
            "top": null,
            "visibility": null,
            "width": null
          }
        },
        "23087c83cb7043aea8dc9fdf3c3c9f18": {
          "model_module": "@jupyter-widgets/controls",
          "model_module_version": "1.5.0",
          "model_name": "FloatProgressModel",
          "state": {
            "_dom_classes": [],
            "_model_module": "@jupyter-widgets/controls",
            "_model_module_version": "1.5.0",
            "_model_name": "FloatProgressModel",
            "_view_count": null,
            "_view_module": "@jupyter-widgets/controls",
            "_view_module_version": "1.5.0",
            "_view_name": "ProgressView",
            "bar_style": "success",
            "description": "",
            "description_tooltip": null,
            "layout": "IPY_MODEL_ae2a44370ebd42b5a9b488bb6821429b",
            "max": 10000,
            "min": 0,
            "orientation": "horizontal",
            "style": "IPY_MODEL_7e179b2d157e4283a4054be7eb58ea31",
            "value": 10000
          }
        },
        "2615692ffcdc4496afaec153d6dfb34c": {
          "model_module": "@jupyter-widgets/controls",
          "model_module_version": "1.5.0",
          "model_name": "ProgressStyleModel",
          "state": {
            "_model_module": "@jupyter-widgets/controls",
            "_model_module_version": "1.5.0",
            "_model_name": "ProgressStyleModel",
            "_view_count": null,
            "_view_module": "@jupyter-widgets/base",
            "_view_module_version": "1.2.0",
            "_view_name": "StyleView",
            "bar_color": null,
            "description_width": ""
          }
        },
        "289af7fc576d418684c05f5c78e3fb33": {
          "model_module": "@jupyter-widgets/controls",
          "model_module_version": "1.5.0",
          "model_name": "HTMLModel",
          "state": {
            "_dom_classes": [],
            "_model_module": "@jupyter-widgets/controls",
            "_model_module_version": "1.5.0",
            "_model_name": "HTMLModel",
            "_view_count": null,
            "_view_module": "@jupyter-widgets/controls",
            "_view_module_version": "1.5.0",
            "_view_name": "HTMLView",
            "description": "",
            "description_tooltip": null,
            "layout": "IPY_MODEL_f1163bf08cfa4cdf9efa6f6222cfbfa0",
            "placeholder": "​",
            "style": "IPY_MODEL_6ad6ae92d3654bbd8ba9a2b21df602ba",
            "value": " 10000/10000 [03:24&lt;00:00, 69.71it/s]"
          }
        },
        "297605e3bc734826bd06acaf5b29aee2": {
          "model_module": "@jupyter-widgets/controls",
          "model_module_version": "1.5.0",
          "model_name": "ProgressStyleModel",
          "state": {
            "_model_module": "@jupyter-widgets/controls",
            "_model_module_version": "1.5.0",
            "_model_name": "ProgressStyleModel",
            "_view_count": null,
            "_view_module": "@jupyter-widgets/base",
            "_view_module_version": "1.2.0",
            "_view_name": "StyleView",
            "bar_color": null,
            "description_width": ""
          }
        },
        "2cccc6002c664460b057689ddebb6f8d": {
          "model_module": "@jupyter-widgets/controls",
          "model_module_version": "1.5.0",
          "model_name": "FloatProgressModel",
          "state": {
            "_dom_classes": [],
            "_model_module": "@jupyter-widgets/controls",
            "_model_module_version": "1.5.0",
            "_model_name": "FloatProgressModel",
            "_view_count": null,
            "_view_module": "@jupyter-widgets/controls",
            "_view_module_version": "1.5.0",
            "_view_name": "ProgressView",
            "bar_style": "success",
            "description": "",
            "description_tooltip": null,
            "layout": "IPY_MODEL_c71c0bd2bcae48cea0b7ba9b1fe332de",
            "max": 10000,
            "min": 0,
            "orientation": "horizontal",
            "style": "IPY_MODEL_297605e3bc734826bd06acaf5b29aee2",
            "value": 10000
          }
        },
        "2d29a67c9036418e873eac82ce682c32": {
          "model_module": "@jupyter-widgets/controls",
          "model_module_version": "1.5.0",
          "model_name": "HTMLModel",
          "state": {
            "_dom_classes": [],
            "_model_module": "@jupyter-widgets/controls",
            "_model_module_version": "1.5.0",
            "_model_name": "HTMLModel",
            "_view_count": null,
            "_view_module": "@jupyter-widgets/controls",
            "_view_module_version": "1.5.0",
            "_view_name": "HTMLView",
            "description": "",
            "description_tooltip": null,
            "layout": "IPY_MODEL_bafcce615d5f49b3abe89a10445b7bf3",
            "placeholder": "​",
            "style": "IPY_MODEL_0b2f0191474b40c2b6095fd3f34fd7ad",
            "value": "100%"
          }
        },
        "2f2503dc8d324635984b5c75e8666208": {
          "model_module": "@jupyter-widgets/base",
          "model_module_version": "1.2.0",
          "model_name": "LayoutModel",
          "state": {
            "_model_module": "@jupyter-widgets/base",
            "_model_module_version": "1.2.0",
            "_model_name": "LayoutModel",
            "_view_count": null,
            "_view_module": "@jupyter-widgets/base",
            "_view_module_version": "1.2.0",
            "_view_name": "LayoutView",
            "align_content": null,
            "align_items": null,
            "align_self": null,
            "border": null,
            "bottom": null,
            "display": null,
            "flex": null,
            "flex_flow": null,
            "grid_area": null,
            "grid_auto_columns": null,
            "grid_auto_flow": null,
            "grid_auto_rows": null,
            "grid_column": null,
            "grid_gap": null,
            "grid_row": null,
            "grid_template_areas": null,
            "grid_template_columns": null,
            "grid_template_rows": null,
            "height": null,
            "justify_content": null,
            "justify_items": null,
            "left": null,
            "margin": null,
            "max_height": null,
            "max_width": null,
            "min_height": null,
            "min_width": null,
            "object_fit": null,
            "object_position": null,
            "order": null,
            "overflow": null,
            "overflow_x": null,
            "overflow_y": null,
            "padding": null,
            "right": null,
            "top": null,
            "visibility": null,
            "width": null
          }
        },
        "34bbe2626d8748468914a5842b9a0825": {
          "model_module": "@jupyter-widgets/base",
          "model_module_version": "1.2.0",
          "model_name": "LayoutModel",
          "state": {
            "_model_module": "@jupyter-widgets/base",
            "_model_module_version": "1.2.0",
            "_model_name": "LayoutModel",
            "_view_count": null,
            "_view_module": "@jupyter-widgets/base",
            "_view_module_version": "1.2.0",
            "_view_name": "LayoutView",
            "align_content": null,
            "align_items": null,
            "align_self": null,
            "border": null,
            "bottom": null,
            "display": null,
            "flex": null,
            "flex_flow": null,
            "grid_area": null,
            "grid_auto_columns": null,
            "grid_auto_flow": null,
            "grid_auto_rows": null,
            "grid_column": null,
            "grid_gap": null,
            "grid_row": null,
            "grid_template_areas": null,
            "grid_template_columns": null,
            "grid_template_rows": null,
            "height": null,
            "justify_content": null,
            "justify_items": null,
            "left": null,
            "margin": null,
            "max_height": null,
            "max_width": null,
            "min_height": null,
            "min_width": null,
            "object_fit": null,
            "object_position": null,
            "order": null,
            "overflow": null,
            "overflow_x": null,
            "overflow_y": null,
            "padding": null,
            "right": null,
            "top": null,
            "visibility": null,
            "width": null
          }
        },
        "372439ef48884732a90379579813f44e": {
          "model_module": "@jupyter-widgets/controls",
          "model_module_version": "1.5.0",
          "model_name": "FloatProgressModel",
          "state": {
            "_dom_classes": [],
            "_model_module": "@jupyter-widgets/controls",
            "_model_module_version": "1.5.0",
            "_model_name": "FloatProgressModel",
            "_view_count": null,
            "_view_module": "@jupyter-widgets/controls",
            "_view_module_version": "1.5.0",
            "_view_name": "ProgressView",
            "bar_style": "success",
            "description": "",
            "description_tooltip": null,
            "layout": "IPY_MODEL_0098fbb63cfb431a9ceb50499f12ff78",
            "max": 10000,
            "min": 0,
            "orientation": "horizontal",
            "style": "IPY_MODEL_e2a5f9a345024c67979224ee1f3a726d",
            "value": 10000
          }
        },
        "37d6cc1593b84e24bd8dff4b6ff5e190": {
          "model_module": "@jupyter-widgets/controls",
          "model_module_version": "1.5.0",
          "model_name": "DescriptionStyleModel",
          "state": {
            "_model_module": "@jupyter-widgets/controls",
            "_model_module_version": "1.5.0",
            "_model_name": "DescriptionStyleModel",
            "_view_count": null,
            "_view_module": "@jupyter-widgets/base",
            "_view_module_version": "1.2.0",
            "_view_name": "StyleView",
            "description_width": ""
          }
        },
        "3cb463dc92304743b5a29de50ccf0811": {
          "model_module": "@jupyter-widgets/base",
          "model_module_version": "1.2.0",
          "model_name": "LayoutModel",
          "state": {
            "_model_module": "@jupyter-widgets/base",
            "_model_module_version": "1.2.0",
            "_model_name": "LayoutModel",
            "_view_count": null,
            "_view_module": "@jupyter-widgets/base",
            "_view_module_version": "1.2.0",
            "_view_name": "LayoutView",
            "align_content": null,
            "align_items": null,
            "align_self": null,
            "border": null,
            "bottom": null,
            "display": null,
            "flex": null,
            "flex_flow": null,
            "grid_area": null,
            "grid_auto_columns": null,
            "grid_auto_flow": null,
            "grid_auto_rows": null,
            "grid_column": null,
            "grid_gap": null,
            "grid_row": null,
            "grid_template_areas": null,
            "grid_template_columns": null,
            "grid_template_rows": null,
            "height": null,
            "justify_content": null,
            "justify_items": null,
            "left": null,
            "margin": null,
            "max_height": null,
            "max_width": null,
            "min_height": null,
            "min_width": null,
            "object_fit": null,
            "object_position": null,
            "order": null,
            "overflow": null,
            "overflow_x": null,
            "overflow_y": null,
            "padding": null,
            "right": null,
            "top": null,
            "visibility": null,
            "width": null
          }
        },
        "3d21680624c646c582534d11c95aa9be": {
          "model_module": "@jupyter-widgets/base",
          "model_module_version": "1.2.0",
          "model_name": "LayoutModel",
          "state": {
            "_model_module": "@jupyter-widgets/base",
            "_model_module_version": "1.2.0",
            "_model_name": "LayoutModel",
            "_view_count": null,
            "_view_module": "@jupyter-widgets/base",
            "_view_module_version": "1.2.0",
            "_view_name": "LayoutView",
            "align_content": null,
            "align_items": null,
            "align_self": null,
            "border": null,
            "bottom": null,
            "display": null,
            "flex": null,
            "flex_flow": null,
            "grid_area": null,
            "grid_auto_columns": null,
            "grid_auto_flow": null,
            "grid_auto_rows": null,
            "grid_column": null,
            "grid_gap": null,
            "grid_row": null,
            "grid_template_areas": null,
            "grid_template_columns": null,
            "grid_template_rows": null,
            "height": null,
            "justify_content": null,
            "justify_items": null,
            "left": null,
            "margin": null,
            "max_height": null,
            "max_width": null,
            "min_height": null,
            "min_width": null,
            "object_fit": null,
            "object_position": null,
            "order": null,
            "overflow": null,
            "overflow_x": null,
            "overflow_y": null,
            "padding": null,
            "right": null,
            "top": null,
            "visibility": null,
            "width": null
          }
        },
        "3dc7e18f761c4cbeb40fecdbc52bb14d": {
          "model_module": "@jupyter-widgets/base",
          "model_module_version": "1.2.0",
          "model_name": "LayoutModel",
          "state": {
            "_model_module": "@jupyter-widgets/base",
            "_model_module_version": "1.2.0",
            "_model_name": "LayoutModel",
            "_view_count": null,
            "_view_module": "@jupyter-widgets/base",
            "_view_module_version": "1.2.0",
            "_view_name": "LayoutView",
            "align_content": null,
            "align_items": null,
            "align_self": null,
            "border": null,
            "bottom": null,
            "display": null,
            "flex": null,
            "flex_flow": null,
            "grid_area": null,
            "grid_auto_columns": null,
            "grid_auto_flow": null,
            "grid_auto_rows": null,
            "grid_column": null,
            "grid_gap": null,
            "grid_row": null,
            "grid_template_areas": null,
            "grid_template_columns": null,
            "grid_template_rows": null,
            "height": null,
            "justify_content": null,
            "justify_items": null,
            "left": null,
            "margin": null,
            "max_height": null,
            "max_width": null,
            "min_height": null,
            "min_width": null,
            "object_fit": null,
            "object_position": null,
            "order": null,
            "overflow": null,
            "overflow_x": null,
            "overflow_y": null,
            "padding": null,
            "right": null,
            "top": null,
            "visibility": null,
            "width": null
          }
        },
        "408ab45599834b7082c87e2ef8e3cac2": {
          "model_module": "@jupyter-widgets/controls",
          "model_module_version": "1.5.0",
          "model_name": "HTMLModel",
          "state": {
            "_dom_classes": [],
            "_model_module": "@jupyter-widgets/controls",
            "_model_module_version": "1.5.0",
            "_model_name": "HTMLModel",
            "_view_count": null,
            "_view_module": "@jupyter-widgets/controls",
            "_view_module_version": "1.5.0",
            "_view_name": "HTMLView",
            "description": "",
            "description_tooltip": null,
            "layout": "IPY_MODEL_617a9d0609954e6485f0b97aa926a81b",
            "placeholder": "​",
            "style": "IPY_MODEL_f8982fd0caa04ae6b73ff9ef606f6df3",
            "value": " 10000/10000 [01:06&lt;00:00, 150.17it/s]"
          }
        },
        "42b53eb5095e434b9b0ffa7122115357": {
          "model_module": "@jupyter-widgets/controls",
          "model_module_version": "1.5.0",
          "model_name": "DescriptionStyleModel",
          "state": {
            "_model_module": "@jupyter-widgets/controls",
            "_model_module_version": "1.5.0",
            "_model_name": "DescriptionStyleModel",
            "_view_count": null,
            "_view_module": "@jupyter-widgets/base",
            "_view_module_version": "1.2.0",
            "_view_name": "StyleView",
            "description_width": ""
          }
        },
        "464e6187f305497f8078d865609bc990": {
          "model_module": "@jupyter-widgets/controls",
          "model_module_version": "1.5.0",
          "model_name": "HTMLModel",
          "state": {
            "_dom_classes": [],
            "_model_module": "@jupyter-widgets/controls",
            "_model_module_version": "1.5.0",
            "_model_name": "HTMLModel",
            "_view_count": null,
            "_view_module": "@jupyter-widgets/controls",
            "_view_module_version": "1.5.0",
            "_view_name": "HTMLView",
            "description": "",
            "description_tooltip": null,
            "layout": "IPY_MODEL_6aaa9959adef495097a29b50233b58cb",
            "placeholder": "​",
            "style": "IPY_MODEL_05559ce30f794a62a8c385c31f2f5495",
            "value": "100%"
          }
        },
        "492366ceb5294611920ba86ccc974659": {
          "model_module": "@jupyter-widgets/controls",
          "model_module_version": "1.5.0",
          "model_name": "HTMLModel",
          "state": {
            "_dom_classes": [],
            "_model_module": "@jupyter-widgets/controls",
            "_model_module_version": "1.5.0",
            "_model_name": "HTMLModel",
            "_view_count": null,
            "_view_module": "@jupyter-widgets/controls",
            "_view_module_version": "1.5.0",
            "_view_name": "HTMLView",
            "description": "",
            "description_tooltip": null,
            "layout": "IPY_MODEL_abb0f0b4e45d4377981f1381bf350c16",
            "placeholder": "​",
            "style": "IPY_MODEL_fb09e117d17540028a1ae4ac37f689b9",
            "value": "100%"
          }
        },
        "49da84bc8f6145e7b9708cee8e2e66f9": {
          "model_module": "@jupyter-widgets/controls",
          "model_module_version": "1.5.0",
          "model_name": "FloatProgressModel",
          "state": {
            "_dom_classes": [],
            "_model_module": "@jupyter-widgets/controls",
            "_model_module_version": "1.5.0",
            "_model_name": "FloatProgressModel",
            "_view_count": null,
            "_view_module": "@jupyter-widgets/controls",
            "_view_module_version": "1.5.0",
            "_view_name": "ProgressView",
            "bar_style": "success",
            "description": "",
            "description_tooltip": null,
            "layout": "IPY_MODEL_ac41b0f47f8b4098aea33102676fec44",
            "max": 10000,
            "min": 0,
            "orientation": "horizontal",
            "style": "IPY_MODEL_a735367f98814c04b04b337c727c5097",
            "value": 10000
          }
        },
        "513e586e24174a808a47071b969d2dda": {
          "model_module": "@jupyter-widgets/controls",
          "model_module_version": "1.5.0",
          "model_name": "HTMLModel",
          "state": {
            "_dom_classes": [],
            "_model_module": "@jupyter-widgets/controls",
            "_model_module_version": "1.5.0",
            "_model_name": "HTMLModel",
            "_view_count": null,
            "_view_module": "@jupyter-widgets/controls",
            "_view_module_version": "1.5.0",
            "_view_name": "HTMLView",
            "description": "",
            "description_tooltip": null,
            "layout": "IPY_MODEL_8118d6f0f5da4c128afc8b2e63d0ec40",
            "placeholder": "​",
            "style": "IPY_MODEL_22718ffa11f54a7da3ba29f54923b927",
            "value": "100%"
          }
        },
        "5ecefcb14fb24e229b439540ff66a967": {
          "model_module": "@jupyter-widgets/controls",
          "model_module_version": "1.5.0",
          "model_name": "FloatProgressModel",
          "state": {
            "_dom_classes": [],
            "_model_module": "@jupyter-widgets/controls",
            "_model_module_version": "1.5.0",
            "_model_name": "FloatProgressModel",
            "_view_count": null,
            "_view_module": "@jupyter-widgets/controls",
            "_view_module_version": "1.5.0",
            "_view_name": "ProgressView",
            "bar_style": "success",
            "description": "",
            "description_tooltip": null,
            "layout": "IPY_MODEL_ad6e1364ef3641fd98df9a7ecd29091b",
            "max": 10000,
            "min": 0,
            "orientation": "horizontal",
            "style": "IPY_MODEL_2615692ffcdc4496afaec153d6dfb34c",
            "value": 10000
          }
        },
        "611d3924bbb04499b3400361f8808237": {
          "model_module": "@jupyter-widgets/controls",
          "model_module_version": "1.5.0",
          "model_name": "HTMLModel",
          "state": {
            "_dom_classes": [],
            "_model_module": "@jupyter-widgets/controls",
            "_model_module_version": "1.5.0",
            "_model_name": "HTMLModel",
            "_view_count": null,
            "_view_module": "@jupyter-widgets/controls",
            "_view_module_version": "1.5.0",
            "_view_name": "HTMLView",
            "description": "",
            "description_tooltip": null,
            "layout": "IPY_MODEL_91d40c89fe574bd5a75a7aab6ebc57ae",
            "placeholder": "​",
            "style": "IPY_MODEL_42b53eb5095e434b9b0ffa7122115357",
            "value": "100%"
          }
        },
        "617a9d0609954e6485f0b97aa926a81b": {
          "model_module": "@jupyter-widgets/base",
          "model_module_version": "1.2.0",
          "model_name": "LayoutModel",
          "state": {
            "_model_module": "@jupyter-widgets/base",
            "_model_module_version": "1.2.0",
            "_model_name": "LayoutModel",
            "_view_count": null,
            "_view_module": "@jupyter-widgets/base",
            "_view_module_version": "1.2.0",
            "_view_name": "LayoutView",
            "align_content": null,
            "align_items": null,
            "align_self": null,
            "border": null,
            "bottom": null,
            "display": null,
            "flex": null,
            "flex_flow": null,
            "grid_area": null,
            "grid_auto_columns": null,
            "grid_auto_flow": null,
            "grid_auto_rows": null,
            "grid_column": null,
            "grid_gap": null,
            "grid_row": null,
            "grid_template_areas": null,
            "grid_template_columns": null,
            "grid_template_rows": null,
            "height": null,
            "justify_content": null,
            "justify_items": null,
            "left": null,
            "margin": null,
            "max_height": null,
            "max_width": null,
            "min_height": null,
            "min_width": null,
            "object_fit": null,
            "object_position": null,
            "order": null,
            "overflow": null,
            "overflow_x": null,
            "overflow_y": null,
            "padding": null,
            "right": null,
            "top": null,
            "visibility": null,
            "width": null
          }
        },
        "626641c630ae40dabd19c708ccbc06db": {
          "model_module": "@jupyter-widgets/controls",
          "model_module_version": "1.5.0",
          "model_name": "ProgressStyleModel",
          "state": {
            "_model_module": "@jupyter-widgets/controls",
            "_model_module_version": "1.5.0",
            "_model_name": "ProgressStyleModel",
            "_view_count": null,
            "_view_module": "@jupyter-widgets/base",
            "_view_module_version": "1.2.0",
            "_view_name": "StyleView",
            "bar_color": null,
            "description_width": ""
          }
        },
        "64a12c79e23f4a9dab49df665d839908": {
          "model_module": "@jupyter-widgets/base",
          "model_module_version": "1.2.0",
          "model_name": "LayoutModel",
          "state": {
            "_model_module": "@jupyter-widgets/base",
            "_model_module_version": "1.2.0",
            "_model_name": "LayoutModel",
            "_view_count": null,
            "_view_module": "@jupyter-widgets/base",
            "_view_module_version": "1.2.0",
            "_view_name": "LayoutView",
            "align_content": null,
            "align_items": null,
            "align_self": null,
            "border": null,
            "bottom": null,
            "display": null,
            "flex": null,
            "flex_flow": null,
            "grid_area": null,
            "grid_auto_columns": null,
            "grid_auto_flow": null,
            "grid_auto_rows": null,
            "grid_column": null,
            "grid_gap": null,
            "grid_row": null,
            "grid_template_areas": null,
            "grid_template_columns": null,
            "grid_template_rows": null,
            "height": null,
            "justify_content": null,
            "justify_items": null,
            "left": null,
            "margin": null,
            "max_height": null,
            "max_width": null,
            "min_height": null,
            "min_width": null,
            "object_fit": null,
            "object_position": null,
            "order": null,
            "overflow": null,
            "overflow_x": null,
            "overflow_y": null,
            "padding": null,
            "right": null,
            "top": null,
            "visibility": null,
            "width": null
          }
        },
        "6a7cc8cd1cba4edf86b6cc68ffe747ce": {
          "model_module": "@jupyter-widgets/controls",
          "model_module_version": "1.5.0",
          "model_name": "HBoxModel",
          "state": {
            "_dom_classes": [],
            "_model_module": "@jupyter-widgets/controls",
            "_model_module_version": "1.5.0",
            "_model_name": "HBoxModel",
            "_view_count": null,
            "_view_module": "@jupyter-widgets/controls",
            "_view_module_version": "1.5.0",
            "_view_name": "HBoxView",
            "box_style": "",
            "children": [
              "IPY_MODEL_ccf71bc2bd9c4bae88d09da6cdbaa070",
              "IPY_MODEL_2cccc6002c664460b057689ddebb6f8d",
              "IPY_MODEL_18cfce4dc2034a40ab32a6896191407e"
            ],
            "layout": "IPY_MODEL_866f760adc17407bb53b01030869c2df"
          }
        },
        "6aaa9959adef495097a29b50233b58cb": {
          "model_module": "@jupyter-widgets/base",
          "model_module_version": "1.2.0",
          "model_name": "LayoutModel",
          "state": {
            "_model_module": "@jupyter-widgets/base",
            "_model_module_version": "1.2.0",
            "_model_name": "LayoutModel",
            "_view_count": null,
            "_view_module": "@jupyter-widgets/base",
            "_view_module_version": "1.2.0",
            "_view_name": "LayoutView",
            "align_content": null,
            "align_items": null,
            "align_self": null,
            "border": null,
            "bottom": null,
            "display": null,
            "flex": null,
            "flex_flow": null,
            "grid_area": null,
            "grid_auto_columns": null,
            "grid_auto_flow": null,
            "grid_auto_rows": null,
            "grid_column": null,
            "grid_gap": null,
            "grid_row": null,
            "grid_template_areas": null,
            "grid_template_columns": null,
            "grid_template_rows": null,
            "height": null,
            "justify_content": null,
            "justify_items": null,
            "left": null,
            "margin": null,
            "max_height": null,
            "max_width": null,
            "min_height": null,
            "min_width": null,
            "object_fit": null,
            "object_position": null,
            "order": null,
            "overflow": null,
            "overflow_x": null,
            "overflow_y": null,
            "padding": null,
            "right": null,
            "top": null,
            "visibility": null,
            "width": null
          }
        },
        "6ad6ae92d3654bbd8ba9a2b21df602ba": {
          "model_module": "@jupyter-widgets/controls",
          "model_module_version": "1.5.0",
          "model_name": "DescriptionStyleModel",
          "state": {
            "_model_module": "@jupyter-widgets/controls",
            "_model_module_version": "1.5.0",
            "_model_name": "DescriptionStyleModel",
            "_view_count": null,
            "_view_module": "@jupyter-widgets/base",
            "_view_module_version": "1.2.0",
            "_view_name": "StyleView",
            "description_width": ""
          }
        },
        "76ca4ba8144d4ad5959bf209aaee298d": {
          "model_module": "@jupyter-widgets/controls",
          "model_module_version": "1.5.0",
          "model_name": "DescriptionStyleModel",
          "state": {
            "_model_module": "@jupyter-widgets/controls",
            "_model_module_version": "1.5.0",
            "_model_name": "DescriptionStyleModel",
            "_view_count": null,
            "_view_module": "@jupyter-widgets/base",
            "_view_module_version": "1.2.0",
            "_view_name": "StyleView",
            "description_width": ""
          }
        },
        "779779388c534da184f23585a3d923b9": {
          "model_module": "@jupyter-widgets/controls",
          "model_module_version": "1.5.0",
          "model_name": "ProgressStyleModel",
          "state": {
            "_model_module": "@jupyter-widgets/controls",
            "_model_module_version": "1.5.0",
            "_model_name": "ProgressStyleModel",
            "_view_count": null,
            "_view_module": "@jupyter-widgets/base",
            "_view_module_version": "1.2.0",
            "_view_name": "StyleView",
            "bar_color": null,
            "description_width": ""
          }
        },
        "7e179b2d157e4283a4054be7eb58ea31": {
          "model_module": "@jupyter-widgets/controls",
          "model_module_version": "1.5.0",
          "model_name": "ProgressStyleModel",
          "state": {
            "_model_module": "@jupyter-widgets/controls",
            "_model_module_version": "1.5.0",
            "_model_name": "ProgressStyleModel",
            "_view_count": null,
            "_view_module": "@jupyter-widgets/base",
            "_view_module_version": "1.2.0",
            "_view_name": "StyleView",
            "bar_color": null,
            "description_width": ""
          }
        },
        "8118d6f0f5da4c128afc8b2e63d0ec40": {
          "model_module": "@jupyter-widgets/base",
          "model_module_version": "1.2.0",
          "model_name": "LayoutModel",
          "state": {
            "_model_module": "@jupyter-widgets/base",
            "_model_module_version": "1.2.0",
            "_model_name": "LayoutModel",
            "_view_count": null,
            "_view_module": "@jupyter-widgets/base",
            "_view_module_version": "1.2.0",
            "_view_name": "LayoutView",
            "align_content": null,
            "align_items": null,
            "align_self": null,
            "border": null,
            "bottom": null,
            "display": null,
            "flex": null,
            "flex_flow": null,
            "grid_area": null,
            "grid_auto_columns": null,
            "grid_auto_flow": null,
            "grid_auto_rows": null,
            "grid_column": null,
            "grid_gap": null,
            "grid_row": null,
            "grid_template_areas": null,
            "grid_template_columns": null,
            "grid_template_rows": null,
            "height": null,
            "justify_content": null,
            "justify_items": null,
            "left": null,
            "margin": null,
            "max_height": null,
            "max_width": null,
            "min_height": null,
            "min_width": null,
            "object_fit": null,
            "object_position": null,
            "order": null,
            "overflow": null,
            "overflow_x": null,
            "overflow_y": null,
            "padding": null,
            "right": null,
            "top": null,
            "visibility": null,
            "width": null
          }
        },
        "819d0c0c9e0f422a9b417fe0634e70c7": {
          "model_module": "@jupyter-widgets/controls",
          "model_module_version": "1.5.0",
          "model_name": "HTMLModel",
          "state": {
            "_dom_classes": [],
            "_model_module": "@jupyter-widgets/controls",
            "_model_module_version": "1.5.0",
            "_model_name": "HTMLModel",
            "_view_count": null,
            "_view_module": "@jupyter-widgets/controls",
            "_view_module_version": "1.5.0",
            "_view_name": "HTMLView",
            "description": "",
            "description_tooltip": null,
            "layout": "IPY_MODEL_19b3e5e9f1734167844c7d86d9a38a94",
            "placeholder": "​",
            "style": "IPY_MODEL_b294739b3c6744bdbe707fb736d76554",
            "value": "100%"
          }
        },
        "8259e708b4b54b29aebf03004f11a264": {
          "model_module": "@jupyter-widgets/controls",
          "model_module_version": "1.5.0",
          "model_name": "HTMLModel",
          "state": {
            "_dom_classes": [],
            "_model_module": "@jupyter-widgets/controls",
            "_model_module_version": "1.5.0",
            "_model_name": "HTMLModel",
            "_view_count": null,
            "_view_module": "@jupyter-widgets/controls",
            "_view_module_version": "1.5.0",
            "_view_name": "HTMLView",
            "description": "",
            "description_tooltip": null,
            "layout": "IPY_MODEL_34bbe2626d8748468914a5842b9a0825",
            "placeholder": "​",
            "style": "IPY_MODEL_f45108c1410c4b4cbf3c13c153b7c315",
            "value": " 10000/10000 [04:30&lt;00:00, 46.99it/s]"
          }
        },
        "84f61a3e1d234325a777216e15c411cc": {
          "model_module": "@jupyter-widgets/controls",
          "model_module_version": "1.5.0",
          "model_name": "HBoxModel",
          "state": {
            "_dom_classes": [],
            "_model_module": "@jupyter-widgets/controls",
            "_model_module_version": "1.5.0",
            "_model_name": "HBoxModel",
            "_view_count": null,
            "_view_module": "@jupyter-widgets/controls",
            "_view_module_version": "1.5.0",
            "_view_name": "HBoxView",
            "box_style": "",
            "children": [
              "IPY_MODEL_513e586e24174a808a47071b969d2dda",
              "IPY_MODEL_5ecefcb14fb24e229b439540ff66a967",
              "IPY_MODEL_289af7fc576d418684c05f5c78e3fb33"
            ],
            "layout": "IPY_MODEL_2f2503dc8d324635984b5c75e8666208"
          }
        },
        "866f760adc17407bb53b01030869c2df": {
          "model_module": "@jupyter-widgets/base",
          "model_module_version": "1.2.0",
          "model_name": "LayoutModel",
          "state": {
            "_model_module": "@jupyter-widgets/base",
            "_model_module_version": "1.2.0",
            "_model_name": "LayoutModel",
            "_view_count": null,
            "_view_module": "@jupyter-widgets/base",
            "_view_module_version": "1.2.0",
            "_view_name": "LayoutView",
            "align_content": null,
            "align_items": null,
            "align_self": null,
            "border": null,
            "bottom": null,
            "display": null,
            "flex": null,
            "flex_flow": null,
            "grid_area": null,
            "grid_auto_columns": null,
            "grid_auto_flow": null,
            "grid_auto_rows": null,
            "grid_column": null,
            "grid_gap": null,
            "grid_row": null,
            "grid_template_areas": null,
            "grid_template_columns": null,
            "grid_template_rows": null,
            "height": null,
            "justify_content": null,
            "justify_items": null,
            "left": null,
            "margin": null,
            "max_height": null,
            "max_width": null,
            "min_height": null,
            "min_width": null,
            "object_fit": null,
            "object_position": null,
            "order": null,
            "overflow": null,
            "overflow_x": null,
            "overflow_y": null,
            "padding": null,
            "right": null,
            "top": null,
            "visibility": null,
            "width": null
          }
        },
        "8910a15471314254bc0e992e40522593": {
          "model_module": "@jupyter-widgets/controls",
          "model_module_version": "1.5.0",
          "model_name": "FloatProgressModel",
          "state": {
            "_dom_classes": [],
            "_model_module": "@jupyter-widgets/controls",
            "_model_module_version": "1.5.0",
            "_model_name": "FloatProgressModel",
            "_view_count": null,
            "_view_module": "@jupyter-widgets/controls",
            "_view_module_version": "1.5.0",
            "_view_name": "ProgressView",
            "bar_style": "success",
            "description": "",
            "description_tooltip": null,
            "layout": "IPY_MODEL_b9d5e59feaeb45679929f1a16de2dfb7",
            "max": 10000,
            "min": 0,
            "orientation": "horizontal",
            "style": "IPY_MODEL_779779388c534da184f23585a3d923b9",
            "value": 10000
          }
        },
        "8b2de68bfd954c9eb9749bf63f9189bb": {
          "model_module": "@jupyter-widgets/base",
          "model_module_version": "1.2.0",
          "model_name": "LayoutModel",
          "state": {
            "_model_module": "@jupyter-widgets/base",
            "_model_module_version": "1.2.0",
            "_model_name": "LayoutModel",
            "_view_count": null,
            "_view_module": "@jupyter-widgets/base",
            "_view_module_version": "1.2.0",
            "_view_name": "LayoutView",
            "align_content": null,
            "align_items": null,
            "align_self": null,
            "border": null,
            "bottom": null,
            "display": null,
            "flex": null,
            "flex_flow": null,
            "grid_area": null,
            "grid_auto_columns": null,
            "grid_auto_flow": null,
            "grid_auto_rows": null,
            "grid_column": null,
            "grid_gap": null,
            "grid_row": null,
            "grid_template_areas": null,
            "grid_template_columns": null,
            "grid_template_rows": null,
            "height": null,
            "justify_content": null,
            "justify_items": null,
            "left": null,
            "margin": null,
            "max_height": null,
            "max_width": null,
            "min_height": null,
            "min_width": null,
            "object_fit": null,
            "object_position": null,
            "order": null,
            "overflow": null,
            "overflow_x": null,
            "overflow_y": null,
            "padding": null,
            "right": null,
            "top": null,
            "visibility": null,
            "width": null
          }
        },
        "91d40c89fe574bd5a75a7aab6ebc57ae": {
          "model_module": "@jupyter-widgets/base",
          "model_module_version": "1.2.0",
          "model_name": "LayoutModel",
          "state": {
            "_model_module": "@jupyter-widgets/base",
            "_model_module_version": "1.2.0",
            "_model_name": "LayoutModel",
            "_view_count": null,
            "_view_module": "@jupyter-widgets/base",
            "_view_module_version": "1.2.0",
            "_view_name": "LayoutView",
            "align_content": null,
            "align_items": null,
            "align_self": null,
            "border": null,
            "bottom": null,
            "display": null,
            "flex": null,
            "flex_flow": null,
            "grid_area": null,
            "grid_auto_columns": null,
            "grid_auto_flow": null,
            "grid_auto_rows": null,
            "grid_column": null,
            "grid_gap": null,
            "grid_row": null,
            "grid_template_areas": null,
            "grid_template_columns": null,
            "grid_template_rows": null,
            "height": null,
            "justify_content": null,
            "justify_items": null,
            "left": null,
            "margin": null,
            "max_height": null,
            "max_width": null,
            "min_height": null,
            "min_width": null,
            "object_fit": null,
            "object_position": null,
            "order": null,
            "overflow": null,
            "overflow_x": null,
            "overflow_y": null,
            "padding": null,
            "right": null,
            "top": null,
            "visibility": null,
            "width": null
          }
        },
        "91fb6c30d13547bb9b94e596589cbe6e": {
          "model_module": "@jupyter-widgets/controls",
          "model_module_version": "1.5.0",
          "model_name": "HTMLModel",
          "state": {
            "_dom_classes": [],
            "_model_module": "@jupyter-widgets/controls",
            "_model_module_version": "1.5.0",
            "_model_name": "HTMLModel",
            "_view_count": null,
            "_view_module": "@jupyter-widgets/controls",
            "_view_module_version": "1.5.0",
            "_view_name": "HTMLView",
            "description": "",
            "description_tooltip": null,
            "layout": "IPY_MODEL_975f25f37dc6439baaf86070eb8802c0",
            "placeholder": "​",
            "style": "IPY_MODEL_1ff3708012f5466c865a87d31fcce720",
            "value": " 74/10000 [00:42&lt;1:33:05,  1.78it/s]"
          }
        },
        "975f25f37dc6439baaf86070eb8802c0": {
          "model_module": "@jupyter-widgets/base",
          "model_module_version": "1.2.0",
          "model_name": "LayoutModel",
          "state": {
            "_model_module": "@jupyter-widgets/base",
            "_model_module_version": "1.2.0",
            "_model_name": "LayoutModel",
            "_view_count": null,
            "_view_module": "@jupyter-widgets/base",
            "_view_module_version": "1.2.0",
            "_view_name": "LayoutView",
            "align_content": null,
            "align_items": null,
            "align_self": null,
            "border": null,
            "bottom": null,
            "display": null,
            "flex": null,
            "flex_flow": null,
            "grid_area": null,
            "grid_auto_columns": null,
            "grid_auto_flow": null,
            "grid_auto_rows": null,
            "grid_column": null,
            "grid_gap": null,
            "grid_row": null,
            "grid_template_areas": null,
            "grid_template_columns": null,
            "grid_template_rows": null,
            "height": null,
            "justify_content": null,
            "justify_items": null,
            "left": null,
            "margin": null,
            "max_height": null,
            "max_width": null,
            "min_height": null,
            "min_width": null,
            "object_fit": null,
            "object_position": null,
            "order": null,
            "overflow": null,
            "overflow_x": null,
            "overflow_y": null,
            "padding": null,
            "right": null,
            "top": null,
            "visibility": null,
            "width": null
          }
        },
        "99fad94e99484272abb6a7f40ecaa07c": {
          "model_module": "@jupyter-widgets/controls",
          "model_module_version": "1.5.0",
          "model_name": "DescriptionStyleModel",
          "state": {
            "_model_module": "@jupyter-widgets/controls",
            "_model_module_version": "1.5.0",
            "_model_name": "DescriptionStyleModel",
            "_view_count": null,
            "_view_module": "@jupyter-widgets/base",
            "_view_module_version": "1.2.0",
            "_view_name": "StyleView",
            "description_width": ""
          }
        },
        "9d828cfe619f408fb6914e05458bd0d8": {
          "model_module": "@jupyter-widgets/controls",
          "model_module_version": "1.5.0",
          "model_name": "HTMLModel",
          "state": {
            "_dom_classes": [],
            "_model_module": "@jupyter-widgets/controls",
            "_model_module_version": "1.5.0",
            "_model_name": "HTMLModel",
            "_view_count": null,
            "_view_module": "@jupyter-widgets/controls",
            "_view_module_version": "1.5.0",
            "_view_name": "HTMLView",
            "description": "",
            "description_tooltip": null,
            "layout": "IPY_MODEL_8b2de68bfd954c9eb9749bf63f9189bb",
            "placeholder": "​",
            "style": "IPY_MODEL_76ca4ba8144d4ad5959bf209aaee298d",
            "value": "  1%"
          }
        },
        "9ed7137090f6481aa39670408937d668": {
          "model_module": "@jupyter-widgets/controls",
          "model_module_version": "1.5.0",
          "model_name": "DescriptionStyleModel",
          "state": {
            "_model_module": "@jupyter-widgets/controls",
            "_model_module_version": "1.5.0",
            "_model_name": "DescriptionStyleModel",
            "_view_count": null,
            "_view_module": "@jupyter-widgets/base",
            "_view_module_version": "1.2.0",
            "_view_name": "StyleView",
            "description_width": ""
          }
        },
        "a2e680c28a134874aa8b09af14a4e6db": {
          "model_module": "@jupyter-widgets/base",
          "model_module_version": "1.2.0",
          "model_name": "LayoutModel",
          "state": {
            "_model_module": "@jupyter-widgets/base",
            "_model_module_version": "1.2.0",
            "_model_name": "LayoutModel",
            "_view_count": null,
            "_view_module": "@jupyter-widgets/base",
            "_view_module_version": "1.2.0",
            "_view_name": "LayoutView",
            "align_content": null,
            "align_items": null,
            "align_self": null,
            "border": null,
            "bottom": null,
            "display": null,
            "flex": null,
            "flex_flow": null,
            "grid_area": null,
            "grid_auto_columns": null,
            "grid_auto_flow": null,
            "grid_auto_rows": null,
            "grid_column": null,
            "grid_gap": null,
            "grid_row": null,
            "grid_template_areas": null,
            "grid_template_columns": null,
            "grid_template_rows": null,
            "height": null,
            "justify_content": null,
            "justify_items": null,
            "left": null,
            "margin": null,
            "max_height": null,
            "max_width": null,
            "min_height": null,
            "min_width": null,
            "object_fit": null,
            "object_position": null,
            "order": null,
            "overflow": null,
            "overflow_x": null,
            "overflow_y": null,
            "padding": null,
            "right": null,
            "top": null,
            "visibility": null,
            "width": null
          }
        },
        "a6f6c9cb9c47438c8f6e663686f280b2": {
          "model_module": "@jupyter-widgets/base",
          "model_module_version": "1.2.0",
          "model_name": "LayoutModel",
          "state": {
            "_model_module": "@jupyter-widgets/base",
            "_model_module_version": "1.2.0",
            "_model_name": "LayoutModel",
            "_view_count": null,
            "_view_module": "@jupyter-widgets/base",
            "_view_module_version": "1.2.0",
            "_view_name": "LayoutView",
            "align_content": null,
            "align_items": null,
            "align_self": null,
            "border": null,
            "bottom": null,
            "display": null,
            "flex": null,
            "flex_flow": null,
            "grid_area": null,
            "grid_auto_columns": null,
            "grid_auto_flow": null,
            "grid_auto_rows": null,
            "grid_column": null,
            "grid_gap": null,
            "grid_row": null,
            "grid_template_areas": null,
            "grid_template_columns": null,
            "grid_template_rows": null,
            "height": null,
            "justify_content": null,
            "justify_items": null,
            "left": null,
            "margin": null,
            "max_height": null,
            "max_width": null,
            "min_height": null,
            "min_width": null,
            "object_fit": null,
            "object_position": null,
            "order": null,
            "overflow": null,
            "overflow_x": null,
            "overflow_y": null,
            "padding": null,
            "right": null,
            "top": null,
            "visibility": null,
            "width": null
          }
        },
        "a735367f98814c04b04b337c727c5097": {
          "model_module": "@jupyter-widgets/controls",
          "model_module_version": "1.5.0",
          "model_name": "ProgressStyleModel",
          "state": {
            "_model_module": "@jupyter-widgets/controls",
            "_model_module_version": "1.5.0",
            "_model_name": "ProgressStyleModel",
            "_view_count": null,
            "_view_module": "@jupyter-widgets/base",
            "_view_module_version": "1.2.0",
            "_view_name": "StyleView",
            "bar_color": null,
            "description_width": ""
          }
        },
        "abb0f0b4e45d4377981f1381bf350c16": {
          "model_module": "@jupyter-widgets/base",
          "model_module_version": "1.2.0",
          "model_name": "LayoutModel",
          "state": {
            "_model_module": "@jupyter-widgets/base",
            "_model_module_version": "1.2.0",
            "_model_name": "LayoutModel",
            "_view_count": null,
            "_view_module": "@jupyter-widgets/base",
            "_view_module_version": "1.2.0",
            "_view_name": "LayoutView",
            "align_content": null,
            "align_items": null,
            "align_self": null,
            "border": null,
            "bottom": null,
            "display": null,
            "flex": null,
            "flex_flow": null,
            "grid_area": null,
            "grid_auto_columns": null,
            "grid_auto_flow": null,
            "grid_auto_rows": null,
            "grid_column": null,
            "grid_gap": null,
            "grid_row": null,
            "grid_template_areas": null,
            "grid_template_columns": null,
            "grid_template_rows": null,
            "height": null,
            "justify_content": null,
            "justify_items": null,
            "left": null,
            "margin": null,
            "max_height": null,
            "max_width": null,
            "min_height": null,
            "min_width": null,
            "object_fit": null,
            "object_position": null,
            "order": null,
            "overflow": null,
            "overflow_x": null,
            "overflow_y": null,
            "padding": null,
            "right": null,
            "top": null,
            "visibility": null,
            "width": null
          }
        },
        "ac41b0f47f8b4098aea33102676fec44": {
          "model_module": "@jupyter-widgets/base",
          "model_module_version": "1.2.0",
          "model_name": "LayoutModel",
          "state": {
            "_model_module": "@jupyter-widgets/base",
            "_model_module_version": "1.2.0",
            "_model_name": "LayoutModel",
            "_view_count": null,
            "_view_module": "@jupyter-widgets/base",
            "_view_module_version": "1.2.0",
            "_view_name": "LayoutView",
            "align_content": null,
            "align_items": null,
            "align_self": null,
            "border": null,
            "bottom": null,
            "display": null,
            "flex": null,
            "flex_flow": null,
            "grid_area": null,
            "grid_auto_columns": null,
            "grid_auto_flow": null,
            "grid_auto_rows": null,
            "grid_column": null,
            "grid_gap": null,
            "grid_row": null,
            "grid_template_areas": null,
            "grid_template_columns": null,
            "grid_template_rows": null,
            "height": null,
            "justify_content": null,
            "justify_items": null,
            "left": null,
            "margin": null,
            "max_height": null,
            "max_width": null,
            "min_height": null,
            "min_width": null,
            "object_fit": null,
            "object_position": null,
            "order": null,
            "overflow": null,
            "overflow_x": null,
            "overflow_y": null,
            "padding": null,
            "right": null,
            "top": null,
            "visibility": null,
            "width": null
          }
        },
        "ad6e1364ef3641fd98df9a7ecd29091b": {
          "model_module": "@jupyter-widgets/base",
          "model_module_version": "1.2.0",
          "model_name": "LayoutModel",
          "state": {
            "_model_module": "@jupyter-widgets/base",
            "_model_module_version": "1.2.0",
            "_model_name": "LayoutModel",
            "_view_count": null,
            "_view_module": "@jupyter-widgets/base",
            "_view_module_version": "1.2.0",
            "_view_name": "LayoutView",
            "align_content": null,
            "align_items": null,
            "align_self": null,
            "border": null,
            "bottom": null,
            "display": null,
            "flex": null,
            "flex_flow": null,
            "grid_area": null,
            "grid_auto_columns": null,
            "grid_auto_flow": null,
            "grid_auto_rows": null,
            "grid_column": null,
            "grid_gap": null,
            "grid_row": null,
            "grid_template_areas": null,
            "grid_template_columns": null,
            "grid_template_rows": null,
            "height": null,
            "justify_content": null,
            "justify_items": null,
            "left": null,
            "margin": null,
            "max_height": null,
            "max_width": null,
            "min_height": null,
            "min_width": null,
            "object_fit": null,
            "object_position": null,
            "order": null,
            "overflow": null,
            "overflow_x": null,
            "overflow_y": null,
            "padding": null,
            "right": null,
            "top": null,
            "visibility": null,
            "width": null
          }
        },
        "ae2a44370ebd42b5a9b488bb6821429b": {
          "model_module": "@jupyter-widgets/base",
          "model_module_version": "1.2.0",
          "model_name": "LayoutModel",
          "state": {
            "_model_module": "@jupyter-widgets/base",
            "_model_module_version": "1.2.0",
            "_model_name": "LayoutModel",
            "_view_count": null,
            "_view_module": "@jupyter-widgets/base",
            "_view_module_version": "1.2.0",
            "_view_name": "LayoutView",
            "align_content": null,
            "align_items": null,
            "align_self": null,
            "border": null,
            "bottom": null,
            "display": null,
            "flex": null,
            "flex_flow": null,
            "grid_area": null,
            "grid_auto_columns": null,
            "grid_auto_flow": null,
            "grid_auto_rows": null,
            "grid_column": null,
            "grid_gap": null,
            "grid_row": null,
            "grid_template_areas": null,
            "grid_template_columns": null,
            "grid_template_rows": null,
            "height": null,
            "justify_content": null,
            "justify_items": null,
            "left": null,
            "margin": null,
            "max_height": null,
            "max_width": null,
            "min_height": null,
            "min_width": null,
            "object_fit": null,
            "object_position": null,
            "order": null,
            "overflow": null,
            "overflow_x": null,
            "overflow_y": null,
            "padding": null,
            "right": null,
            "top": null,
            "visibility": null,
            "width": null
          }
        },
        "b294739b3c6744bdbe707fb736d76554": {
          "model_module": "@jupyter-widgets/controls",
          "model_module_version": "1.5.0",
          "model_name": "DescriptionStyleModel",
          "state": {
            "_model_module": "@jupyter-widgets/controls",
            "_model_module_version": "1.5.0",
            "_model_name": "DescriptionStyleModel",
            "_view_count": null,
            "_view_module": "@jupyter-widgets/base",
            "_view_module_version": "1.2.0",
            "_view_name": "StyleView",
            "description_width": ""
          }
        },
        "b9d5e59feaeb45679929f1a16de2dfb7": {
          "model_module": "@jupyter-widgets/base",
          "model_module_version": "1.2.0",
          "model_name": "LayoutModel",
          "state": {
            "_model_module": "@jupyter-widgets/base",
            "_model_module_version": "1.2.0",
            "_model_name": "LayoutModel",
            "_view_count": null,
            "_view_module": "@jupyter-widgets/base",
            "_view_module_version": "1.2.0",
            "_view_name": "LayoutView",
            "align_content": null,
            "align_items": null,
            "align_self": null,
            "border": null,
            "bottom": null,
            "display": null,
            "flex": null,
            "flex_flow": null,
            "grid_area": null,
            "grid_auto_columns": null,
            "grid_auto_flow": null,
            "grid_auto_rows": null,
            "grid_column": null,
            "grid_gap": null,
            "grid_row": null,
            "grid_template_areas": null,
            "grid_template_columns": null,
            "grid_template_rows": null,
            "height": null,
            "justify_content": null,
            "justify_items": null,
            "left": null,
            "margin": null,
            "max_height": null,
            "max_width": null,
            "min_height": null,
            "min_width": null,
            "object_fit": null,
            "object_position": null,
            "order": null,
            "overflow": null,
            "overflow_x": null,
            "overflow_y": null,
            "padding": null,
            "right": null,
            "top": null,
            "visibility": null,
            "width": null
          }
        },
        "bace4a62a36f40aeb90d0d15021106ed": {
          "model_module": "@jupyter-widgets/controls",
          "model_module_version": "1.5.0",
          "model_name": "DescriptionStyleModel",
          "state": {
            "_model_module": "@jupyter-widgets/controls",
            "_model_module_version": "1.5.0",
            "_model_name": "DescriptionStyleModel",
            "_view_count": null,
            "_view_module": "@jupyter-widgets/base",
            "_view_module_version": "1.2.0",
            "_view_name": "StyleView",
            "description_width": ""
          }
        },
        "bafcce615d5f49b3abe89a10445b7bf3": {
          "model_module": "@jupyter-widgets/base",
          "model_module_version": "1.2.0",
          "model_name": "LayoutModel",
          "state": {
            "_model_module": "@jupyter-widgets/base",
            "_model_module_version": "1.2.0",
            "_model_name": "LayoutModel",
            "_view_count": null,
            "_view_module": "@jupyter-widgets/base",
            "_view_module_version": "1.2.0",
            "_view_name": "LayoutView",
            "align_content": null,
            "align_items": null,
            "align_self": null,
            "border": null,
            "bottom": null,
            "display": null,
            "flex": null,
            "flex_flow": null,
            "grid_area": null,
            "grid_auto_columns": null,
            "grid_auto_flow": null,
            "grid_auto_rows": null,
            "grid_column": null,
            "grid_gap": null,
            "grid_row": null,
            "grid_template_areas": null,
            "grid_template_columns": null,
            "grid_template_rows": null,
            "height": null,
            "justify_content": null,
            "justify_items": null,
            "left": null,
            "margin": null,
            "max_height": null,
            "max_width": null,
            "min_height": null,
            "min_width": null,
            "object_fit": null,
            "object_position": null,
            "order": null,
            "overflow": null,
            "overflow_x": null,
            "overflow_y": null,
            "padding": null,
            "right": null,
            "top": null,
            "visibility": null,
            "width": null
          }
        },
        "bb8a18ff9a884872a9ccb13adbdec566": {
          "model_module": "@jupyter-widgets/controls",
          "model_module_version": "1.5.0",
          "model_name": "HBoxModel",
          "state": {
            "_dom_classes": [],
            "_model_module": "@jupyter-widgets/controls",
            "_model_module_version": "1.5.0",
            "_model_name": "HBoxModel",
            "_view_count": null,
            "_view_module": "@jupyter-widgets/controls",
            "_view_module_version": "1.5.0",
            "_view_name": "HBoxView",
            "box_style": "",
            "children": [
              "IPY_MODEL_492366ceb5294611920ba86ccc974659",
              "IPY_MODEL_372439ef48884732a90379579813f44e",
              "IPY_MODEL_044f488186f34b6f96a415344a8560fe"
            ],
            "layout": "IPY_MODEL_22f93a2e64ba45db83134cae54810500"
          }
        },
        "bf49d9ab6b2b41b98fac7ce72eff5a53": {
          "model_module": "@jupyter-widgets/controls",
          "model_module_version": "1.5.0",
          "model_name": "HTMLModel",
          "state": {
            "_dom_classes": [],
            "_model_module": "@jupyter-widgets/controls",
            "_model_module_version": "1.5.0",
            "_model_name": "HTMLModel",
            "_view_count": null,
            "_view_module": "@jupyter-widgets/controls",
            "_view_module_version": "1.5.0",
            "_view_name": "HTMLView",
            "description": "",
            "description_tooltip": null,
            "layout": "IPY_MODEL_1a6e5c10cb914a138ee77836f472e1ff",
            "placeholder": "​",
            "style": "IPY_MODEL_fba49378617044d18c6a7587378d52b2",
            "value": " 10000/10000 [04:19&lt;00:00, 62.98it/s]"
          }
        },
        "c0e839ba144845bc933a713e53bbe559": {
          "model_module": "@jupyter-widgets/base",
          "model_module_version": "1.2.0",
          "model_name": "LayoutModel",
          "state": {
            "_model_module": "@jupyter-widgets/base",
            "_model_module_version": "1.2.0",
            "_model_name": "LayoutModel",
            "_view_count": null,
            "_view_module": "@jupyter-widgets/base",
            "_view_module_version": "1.2.0",
            "_view_name": "LayoutView",
            "align_content": null,
            "align_items": null,
            "align_self": null,
            "border": null,
            "bottom": null,
            "display": null,
            "flex": null,
            "flex_flow": null,
            "grid_area": null,
            "grid_auto_columns": null,
            "grid_auto_flow": null,
            "grid_auto_rows": null,
            "grid_column": null,
            "grid_gap": null,
            "grid_row": null,
            "grid_template_areas": null,
            "grid_template_columns": null,
            "grid_template_rows": null,
            "height": null,
            "justify_content": null,
            "justify_items": null,
            "left": null,
            "margin": null,
            "max_height": null,
            "max_width": null,
            "min_height": null,
            "min_width": null,
            "object_fit": null,
            "object_position": null,
            "order": null,
            "overflow": null,
            "overflow_x": null,
            "overflow_y": null,
            "padding": null,
            "right": null,
            "top": null,
            "visibility": null,
            "width": null
          }
        },
        "c43dd1710b7247d7a15f0ab4f2ee8cc3": {
          "model_module": "@jupyter-widgets/base",
          "model_module_version": "1.2.0",
          "model_name": "LayoutModel",
          "state": {
            "_model_module": "@jupyter-widgets/base",
            "_model_module_version": "1.2.0",
            "_model_name": "LayoutModel",
            "_view_count": null,
            "_view_module": "@jupyter-widgets/base",
            "_view_module_version": "1.2.0",
            "_view_name": "LayoutView",
            "align_content": null,
            "align_items": null,
            "align_self": null,
            "border": null,
            "bottom": null,
            "display": null,
            "flex": null,
            "flex_flow": null,
            "grid_area": null,
            "grid_auto_columns": null,
            "grid_auto_flow": null,
            "grid_auto_rows": null,
            "grid_column": null,
            "grid_gap": null,
            "grid_row": null,
            "grid_template_areas": null,
            "grid_template_columns": null,
            "grid_template_rows": null,
            "height": null,
            "justify_content": null,
            "justify_items": null,
            "left": null,
            "margin": null,
            "max_height": null,
            "max_width": null,
            "min_height": null,
            "min_width": null,
            "object_fit": null,
            "object_position": null,
            "order": null,
            "overflow": null,
            "overflow_x": null,
            "overflow_y": null,
            "padding": null,
            "right": null,
            "top": null,
            "visibility": null,
            "width": null
          }
        },
        "c66a16a5f22c49f59e13920687756890": {
          "model_module": "@jupyter-widgets/controls",
          "model_module_version": "1.5.0",
          "model_name": "DescriptionStyleModel",
          "state": {
            "_model_module": "@jupyter-widgets/controls",
            "_model_module_version": "1.5.0",
            "_model_name": "DescriptionStyleModel",
            "_view_count": null,
            "_view_module": "@jupyter-widgets/base",
            "_view_module_version": "1.2.0",
            "_view_name": "StyleView",
            "description_width": ""
          }
        },
        "c71c0bd2bcae48cea0b7ba9b1fe332de": {
          "model_module": "@jupyter-widgets/base",
          "model_module_version": "1.2.0",
          "model_name": "LayoutModel",
          "state": {
            "_model_module": "@jupyter-widgets/base",
            "_model_module_version": "1.2.0",
            "_model_name": "LayoutModel",
            "_view_count": null,
            "_view_module": "@jupyter-widgets/base",
            "_view_module_version": "1.2.0",
            "_view_name": "LayoutView",
            "align_content": null,
            "align_items": null,
            "align_self": null,
            "border": null,
            "bottom": null,
            "display": null,
            "flex": null,
            "flex_flow": null,
            "grid_area": null,
            "grid_auto_columns": null,
            "grid_auto_flow": null,
            "grid_auto_rows": null,
            "grid_column": null,
            "grid_gap": null,
            "grid_row": null,
            "grid_template_areas": null,
            "grid_template_columns": null,
            "grid_template_rows": null,
            "height": null,
            "justify_content": null,
            "justify_items": null,
            "left": null,
            "margin": null,
            "max_height": null,
            "max_width": null,
            "min_height": null,
            "min_width": null,
            "object_fit": null,
            "object_position": null,
            "order": null,
            "overflow": null,
            "overflow_x": null,
            "overflow_y": null,
            "padding": null,
            "right": null,
            "top": null,
            "visibility": null,
            "width": null
          }
        },
        "c91b6a7184074c4a9dbaadff7b526da3": {
          "model_module": "@jupyter-widgets/controls",
          "model_module_version": "1.5.0",
          "model_name": "HBoxModel",
          "state": {
            "_dom_classes": [],
            "_model_module": "@jupyter-widgets/controls",
            "_model_module_version": "1.5.0",
            "_model_name": "HBoxModel",
            "_view_count": null,
            "_view_module": "@jupyter-widgets/controls",
            "_view_module_version": "1.5.0",
            "_view_name": "HBoxView",
            "box_style": "",
            "children": [
              "IPY_MODEL_2d29a67c9036418e873eac82ce682c32",
              "IPY_MODEL_d3051d893d6d44e4b59ccf190eb7f714",
              "IPY_MODEL_408ab45599834b7082c87e2ef8e3cac2"
            ],
            "layout": "IPY_MODEL_3d21680624c646c582534d11c95aa9be"
          }
        },
        "ccf71bc2bd9c4bae88d09da6cdbaa070": {
          "model_module": "@jupyter-widgets/controls",
          "model_module_version": "1.5.0",
          "model_name": "HTMLModel",
          "state": {
            "_dom_classes": [],
            "_model_module": "@jupyter-widgets/controls",
            "_model_module_version": "1.5.0",
            "_model_name": "HTMLModel",
            "_view_count": null,
            "_view_module": "@jupyter-widgets/controls",
            "_view_module_version": "1.5.0",
            "_view_name": "HTMLView",
            "description": "",
            "description_tooltip": null,
            "layout": "IPY_MODEL_fe1f445b875341f5aa0c800b07f6b16b",
            "placeholder": "​",
            "style": "IPY_MODEL_c66a16a5f22c49f59e13920687756890",
            "value": "100%"
          }
        },
        "cd69763284084206b0f393e6d744a18c": {
          "model_module": "@jupyter-widgets/controls",
          "model_module_version": "1.5.0",
          "model_name": "ProgressStyleModel",
          "state": {
            "_model_module": "@jupyter-widgets/controls",
            "_model_module_version": "1.5.0",
            "_model_name": "ProgressStyleModel",
            "_view_count": null,
            "_view_module": "@jupyter-widgets/base",
            "_view_module_version": "1.2.0",
            "_view_name": "StyleView",
            "bar_color": null,
            "description_width": ""
          }
        },
        "ce8835f40edc482fba87cdd37096343c": {
          "model_module": "@jupyter-widgets/base",
          "model_module_version": "1.2.0",
          "model_name": "LayoutModel",
          "state": {
            "_model_module": "@jupyter-widgets/base",
            "_model_module_version": "1.2.0",
            "_model_name": "LayoutModel",
            "_view_count": null,
            "_view_module": "@jupyter-widgets/base",
            "_view_module_version": "1.2.0",
            "_view_name": "LayoutView",
            "align_content": null,
            "align_items": null,
            "align_self": null,
            "border": null,
            "bottom": null,
            "display": null,
            "flex": null,
            "flex_flow": null,
            "grid_area": null,
            "grid_auto_columns": null,
            "grid_auto_flow": null,
            "grid_auto_rows": null,
            "grid_column": null,
            "grid_gap": null,
            "grid_row": null,
            "grid_template_areas": null,
            "grid_template_columns": null,
            "grid_template_rows": null,
            "height": null,
            "justify_content": null,
            "justify_items": null,
            "left": null,
            "margin": null,
            "max_height": null,
            "max_width": null,
            "min_height": null,
            "min_width": null,
            "object_fit": null,
            "object_position": null,
            "order": null,
            "overflow": null,
            "overflow_x": null,
            "overflow_y": null,
            "padding": null,
            "right": null,
            "top": null,
            "visibility": null,
            "width": null
          }
        },
        "cf9e767929d647eebcff9d3f9415fd5f": {
          "model_module": "@jupyter-widgets/controls",
          "model_module_version": "1.5.0",
          "model_name": "HTMLModel",
          "state": {
            "_dom_classes": [],
            "_model_module": "@jupyter-widgets/controls",
            "_model_module_version": "1.5.0",
            "_model_name": "HTMLModel",
            "_view_count": null,
            "_view_module": "@jupyter-widgets/controls",
            "_view_module_version": "1.5.0",
            "_view_name": "HTMLView",
            "description": "",
            "description_tooltip": null,
            "layout": "IPY_MODEL_c0e839ba144845bc933a713e53bbe559",
            "placeholder": "​",
            "style": "IPY_MODEL_e413150976e444e29d78ffa087cb3548",
            "value": "100%"
          }
        },
        "d3051d893d6d44e4b59ccf190eb7f714": {
          "model_module": "@jupyter-widgets/controls",
          "model_module_version": "1.5.0",
          "model_name": "FloatProgressModel",
          "state": {
            "_dom_classes": [],
            "_model_module": "@jupyter-widgets/controls",
            "_model_module_version": "1.5.0",
            "_model_name": "FloatProgressModel",
            "_view_count": null,
            "_view_module": "@jupyter-widgets/controls",
            "_view_module_version": "1.5.0",
            "_view_name": "ProgressView",
            "bar_style": "success",
            "description": "",
            "description_tooltip": null,
            "layout": "IPY_MODEL_3dc7e18f761c4cbeb40fecdbc52bb14d",
            "max": 10000,
            "min": 0,
            "orientation": "horizontal",
            "style": "IPY_MODEL_cd69763284084206b0f393e6d744a18c",
            "value": 10000
          }
        },
        "d4910a02b0d046d9b29681eec060ac38": {
          "model_module": "@jupyter-widgets/controls",
          "model_module_version": "1.5.0",
          "model_name": "FloatProgressModel",
          "state": {
            "_dom_classes": [],
            "_model_module": "@jupyter-widgets/controls",
            "_model_module_version": "1.5.0",
            "_model_name": "FloatProgressModel",
            "_view_count": null,
            "_view_module": "@jupyter-widgets/controls",
            "_view_module_version": "1.5.0",
            "_view_name": "ProgressView",
            "bar_style": "",
            "description": "",
            "description_tooltip": null,
            "layout": "IPY_MODEL_f0611657b6e74cac9a76220cf3216c00",
            "max": 10000,
            "min": 0,
            "orientation": "horizontal",
            "style": "IPY_MODEL_0e669af41acf48d2b5d0c4859d276131",
            "value": 74
          }
        },
        "ddb3cc2e20cb4bcb92f0c66fd953dd01": {
          "model_module": "@jupyter-widgets/base",
          "model_module_version": "1.2.0",
          "model_name": "LayoutModel",
          "state": {
            "_model_module": "@jupyter-widgets/base",
            "_model_module_version": "1.2.0",
            "_model_name": "LayoutModel",
            "_view_count": null,
            "_view_module": "@jupyter-widgets/base",
            "_view_module_version": "1.2.0",
            "_view_name": "LayoutView",
            "align_content": null,
            "align_items": null,
            "align_self": null,
            "border": null,
            "bottom": null,
            "display": null,
            "flex": null,
            "flex_flow": null,
            "grid_area": null,
            "grid_auto_columns": null,
            "grid_auto_flow": null,
            "grid_auto_rows": null,
            "grid_column": null,
            "grid_gap": null,
            "grid_row": null,
            "grid_template_areas": null,
            "grid_template_columns": null,
            "grid_template_rows": null,
            "height": null,
            "justify_content": null,
            "justify_items": null,
            "left": null,
            "margin": null,
            "max_height": null,
            "max_width": null,
            "min_height": null,
            "min_width": null,
            "object_fit": null,
            "object_position": null,
            "order": null,
            "overflow": null,
            "overflow_x": null,
            "overflow_y": null,
            "padding": null,
            "right": null,
            "top": null,
            "visibility": null,
            "width": null
          }
        },
        "dee2441ce2434c4a83df3044a92f083b": {
          "model_module": "@jupyter-widgets/controls",
          "model_module_version": "1.5.0",
          "model_name": "HTMLModel",
          "state": {
            "_dom_classes": [],
            "_model_module": "@jupyter-widgets/controls",
            "_model_module_version": "1.5.0",
            "_model_name": "HTMLModel",
            "_view_count": null,
            "_view_module": "@jupyter-widgets/controls",
            "_view_module_version": "1.5.0",
            "_view_name": "HTMLView",
            "description": "",
            "description_tooltip": null,
            "layout": "IPY_MODEL_ed3cad435490420681f8cec713bc4735",
            "placeholder": "​",
            "style": "IPY_MODEL_99fad94e99484272abb6a7f40ecaa07c",
            "value": " 10000/10000 [01:41&lt;00:00, 100.52it/s]"
          }
        },
        "e1b965cc0f6242e9afc4cc75e838f42f": {
          "model_module": "@jupyter-widgets/controls",
          "model_module_version": "1.5.0",
          "model_name": "HBoxModel",
          "state": {
            "_dom_classes": [],
            "_model_module": "@jupyter-widgets/controls",
            "_model_module_version": "1.5.0",
            "_model_name": "HBoxModel",
            "_view_count": null,
            "_view_module": "@jupyter-widgets/controls",
            "_view_module_version": "1.5.0",
            "_view_name": "HBoxView",
            "box_style": "",
            "children": [
              "IPY_MODEL_819d0c0c9e0f422a9b417fe0634e70c7",
              "IPY_MODEL_49da84bc8f6145e7b9708cee8e2e66f9",
              "IPY_MODEL_bf49d9ab6b2b41b98fac7ce72eff5a53"
            ],
            "layout": "IPY_MODEL_c43dd1710b7247d7a15f0ab4f2ee8cc3"
          }
        },
        "e2a5f9a345024c67979224ee1f3a726d": {
          "model_module": "@jupyter-widgets/controls",
          "model_module_version": "1.5.0",
          "model_name": "ProgressStyleModel",
          "state": {
            "_model_module": "@jupyter-widgets/controls",
            "_model_module_version": "1.5.0",
            "_model_name": "ProgressStyleModel",
            "_view_count": null,
            "_view_module": "@jupyter-widgets/base",
            "_view_module_version": "1.2.0",
            "_view_name": "StyleView",
            "bar_color": null,
            "description_width": ""
          }
        },
        "e413150976e444e29d78ffa087cb3548": {
          "model_module": "@jupyter-widgets/controls",
          "model_module_version": "1.5.0",
          "model_name": "DescriptionStyleModel",
          "state": {
            "_model_module": "@jupyter-widgets/controls",
            "_model_module_version": "1.5.0",
            "_model_name": "DescriptionStyleModel",
            "_view_count": null,
            "_view_module": "@jupyter-widgets/base",
            "_view_module_version": "1.2.0",
            "_view_name": "StyleView",
            "description_width": ""
          }
        },
        "e741815db98f406eabfb7b937ac9cd41": {
          "model_module": "@jupyter-widgets/base",
          "model_module_version": "1.2.0",
          "model_name": "LayoutModel",
          "state": {
            "_model_module": "@jupyter-widgets/base",
            "_model_module_version": "1.2.0",
            "_model_name": "LayoutModel",
            "_view_count": null,
            "_view_module": "@jupyter-widgets/base",
            "_view_module_version": "1.2.0",
            "_view_name": "LayoutView",
            "align_content": null,
            "align_items": null,
            "align_self": null,
            "border": null,
            "bottom": null,
            "display": null,
            "flex": null,
            "flex_flow": null,
            "grid_area": null,
            "grid_auto_columns": null,
            "grid_auto_flow": null,
            "grid_auto_rows": null,
            "grid_column": null,
            "grid_gap": null,
            "grid_row": null,
            "grid_template_areas": null,
            "grid_template_columns": null,
            "grid_template_rows": null,
            "height": null,
            "justify_content": null,
            "justify_items": null,
            "left": null,
            "margin": null,
            "max_height": null,
            "max_width": null,
            "min_height": null,
            "min_width": null,
            "object_fit": null,
            "object_position": null,
            "order": null,
            "overflow": null,
            "overflow_x": null,
            "overflow_y": null,
            "padding": null,
            "right": null,
            "top": null,
            "visibility": null,
            "width": null
          }
        },
        "e7eb45e7f33142f692a98897d0451c20": {
          "model_module": "@jupyter-widgets/controls",
          "model_module_version": "1.5.0",
          "model_name": "HBoxModel",
          "state": {
            "_dom_classes": [],
            "_model_module": "@jupyter-widgets/controls",
            "_model_module_version": "1.5.0",
            "_model_name": "HBoxModel",
            "_view_count": null,
            "_view_module": "@jupyter-widgets/controls",
            "_view_module_version": "1.5.0",
            "_view_name": "HBoxView",
            "box_style": "",
            "children": [
              "IPY_MODEL_9d828cfe619f408fb6914e05458bd0d8",
              "IPY_MODEL_d4910a02b0d046d9b29681eec060ac38",
              "IPY_MODEL_91fb6c30d13547bb9b94e596589cbe6e"
            ],
            "layout": "IPY_MODEL_a2e680c28a134874aa8b09af14a4e6db"
          }
        },
        "ed3cad435490420681f8cec713bc4735": {
          "model_module": "@jupyter-widgets/base",
          "model_module_version": "1.2.0",
          "model_name": "LayoutModel",
          "state": {
            "_model_module": "@jupyter-widgets/base",
            "_model_module_version": "1.2.0",
            "_model_name": "LayoutModel",
            "_view_count": null,
            "_view_module": "@jupyter-widgets/base",
            "_view_module_version": "1.2.0",
            "_view_name": "LayoutView",
            "align_content": null,
            "align_items": null,
            "align_self": null,
            "border": null,
            "bottom": null,
            "display": null,
            "flex": null,
            "flex_flow": null,
            "grid_area": null,
            "grid_auto_columns": null,
            "grid_auto_flow": null,
            "grid_auto_rows": null,
            "grid_column": null,
            "grid_gap": null,
            "grid_row": null,
            "grid_template_areas": null,
            "grid_template_columns": null,
            "grid_template_rows": null,
            "height": null,
            "justify_content": null,
            "justify_items": null,
            "left": null,
            "margin": null,
            "max_height": null,
            "max_width": null,
            "min_height": null,
            "min_width": null,
            "object_fit": null,
            "object_position": null,
            "order": null,
            "overflow": null,
            "overflow_x": null,
            "overflow_y": null,
            "padding": null,
            "right": null,
            "top": null,
            "visibility": null,
            "width": null
          }
        },
        "f0611657b6e74cac9a76220cf3216c00": {
          "model_module": "@jupyter-widgets/base",
          "model_module_version": "1.2.0",
          "model_name": "LayoutModel",
          "state": {
            "_model_module": "@jupyter-widgets/base",
            "_model_module_version": "1.2.0",
            "_model_name": "LayoutModel",
            "_view_count": null,
            "_view_module": "@jupyter-widgets/base",
            "_view_module_version": "1.2.0",
            "_view_name": "LayoutView",
            "align_content": null,
            "align_items": null,
            "align_self": null,
            "border": null,
            "bottom": null,
            "display": null,
            "flex": null,
            "flex_flow": null,
            "grid_area": null,
            "grid_auto_columns": null,
            "grid_auto_flow": null,
            "grid_auto_rows": null,
            "grid_column": null,
            "grid_gap": null,
            "grid_row": null,
            "grid_template_areas": null,
            "grid_template_columns": null,
            "grid_template_rows": null,
            "height": null,
            "justify_content": null,
            "justify_items": null,
            "left": null,
            "margin": null,
            "max_height": null,
            "max_width": null,
            "min_height": null,
            "min_width": null,
            "object_fit": null,
            "object_position": null,
            "order": null,
            "overflow": null,
            "overflow_x": null,
            "overflow_y": null,
            "padding": null,
            "right": null,
            "top": null,
            "visibility": null,
            "width": null
          }
        },
        "f1163bf08cfa4cdf9efa6f6222cfbfa0": {
          "model_module": "@jupyter-widgets/base",
          "model_module_version": "1.2.0",
          "model_name": "LayoutModel",
          "state": {
            "_model_module": "@jupyter-widgets/base",
            "_model_module_version": "1.2.0",
            "_model_name": "LayoutModel",
            "_view_count": null,
            "_view_module": "@jupyter-widgets/base",
            "_view_module_version": "1.2.0",
            "_view_name": "LayoutView",
            "align_content": null,
            "align_items": null,
            "align_self": null,
            "border": null,
            "bottom": null,
            "display": null,
            "flex": null,
            "flex_flow": null,
            "grid_area": null,
            "grid_auto_columns": null,
            "grid_auto_flow": null,
            "grid_auto_rows": null,
            "grid_column": null,
            "grid_gap": null,
            "grid_row": null,
            "grid_template_areas": null,
            "grid_template_columns": null,
            "grid_template_rows": null,
            "height": null,
            "justify_content": null,
            "justify_items": null,
            "left": null,
            "margin": null,
            "max_height": null,
            "max_width": null,
            "min_height": null,
            "min_width": null,
            "object_fit": null,
            "object_position": null,
            "order": null,
            "overflow": null,
            "overflow_x": null,
            "overflow_y": null,
            "padding": null,
            "right": null,
            "top": null,
            "visibility": null,
            "width": null
          }
        },
        "f45108c1410c4b4cbf3c13c153b7c315": {
          "model_module": "@jupyter-widgets/controls",
          "model_module_version": "1.5.0",
          "model_name": "DescriptionStyleModel",
          "state": {
            "_model_module": "@jupyter-widgets/controls",
            "_model_module_version": "1.5.0",
            "_model_name": "DescriptionStyleModel",
            "_view_count": null,
            "_view_module": "@jupyter-widgets/base",
            "_view_module_version": "1.2.0",
            "_view_name": "StyleView",
            "description_width": ""
          }
        },
        "f8982fd0caa04ae6b73ff9ef606f6df3": {
          "model_module": "@jupyter-widgets/controls",
          "model_module_version": "1.5.0",
          "model_name": "DescriptionStyleModel",
          "state": {
            "_model_module": "@jupyter-widgets/controls",
            "_model_module_version": "1.5.0",
            "_model_name": "DescriptionStyleModel",
            "_view_count": null,
            "_view_module": "@jupyter-widgets/base",
            "_view_module_version": "1.2.0",
            "_view_name": "StyleView",
            "description_width": ""
          }
        },
        "fa4be2f3b4134d308452b446de103dd2": {
          "model_module": "@jupyter-widgets/base",
          "model_module_version": "1.2.0",
          "model_name": "LayoutModel",
          "state": {
            "_model_module": "@jupyter-widgets/base",
            "_model_module_version": "1.2.0",
            "_model_name": "LayoutModel",
            "_view_count": null,
            "_view_module": "@jupyter-widgets/base",
            "_view_module_version": "1.2.0",
            "_view_name": "LayoutView",
            "align_content": null,
            "align_items": null,
            "align_self": null,
            "border": null,
            "bottom": null,
            "display": null,
            "flex": null,
            "flex_flow": null,
            "grid_area": null,
            "grid_auto_columns": null,
            "grid_auto_flow": null,
            "grid_auto_rows": null,
            "grid_column": null,
            "grid_gap": null,
            "grid_row": null,
            "grid_template_areas": null,
            "grid_template_columns": null,
            "grid_template_rows": null,
            "height": null,
            "justify_content": null,
            "justify_items": null,
            "left": null,
            "margin": null,
            "max_height": null,
            "max_width": null,
            "min_height": null,
            "min_width": null,
            "object_fit": null,
            "object_position": null,
            "order": null,
            "overflow": null,
            "overflow_x": null,
            "overflow_y": null,
            "padding": null,
            "right": null,
            "top": null,
            "visibility": null,
            "width": null
          }
        },
        "fb09e117d17540028a1ae4ac37f689b9": {
          "model_module": "@jupyter-widgets/controls",
          "model_module_version": "1.5.0",
          "model_name": "DescriptionStyleModel",
          "state": {
            "_model_module": "@jupyter-widgets/controls",
            "_model_module_version": "1.5.0",
            "_model_name": "DescriptionStyleModel",
            "_view_count": null,
            "_view_module": "@jupyter-widgets/base",
            "_view_module_version": "1.2.0",
            "_view_name": "StyleView",
            "description_width": ""
          }
        },
        "fba49378617044d18c6a7587378d52b2": {
          "model_module": "@jupyter-widgets/controls",
          "model_module_version": "1.5.0",
          "model_name": "DescriptionStyleModel",
          "state": {
            "_model_module": "@jupyter-widgets/controls",
            "_model_module_version": "1.5.0",
            "_model_name": "DescriptionStyleModel",
            "_view_count": null,
            "_view_module": "@jupyter-widgets/base",
            "_view_module_version": "1.2.0",
            "_view_name": "StyleView",
            "description_width": ""
          }
        },
        "fe1f445b875341f5aa0c800b07f6b16b": {
          "model_module": "@jupyter-widgets/base",
          "model_module_version": "1.2.0",
          "model_name": "LayoutModel",
          "state": {
            "_model_module": "@jupyter-widgets/base",
            "_model_module_version": "1.2.0",
            "_model_name": "LayoutModel",
            "_view_count": null,
            "_view_module": "@jupyter-widgets/base",
            "_view_module_version": "1.2.0",
            "_view_name": "LayoutView",
            "align_content": null,
            "align_items": null,
            "align_self": null,
            "border": null,
            "bottom": null,
            "display": null,
            "flex": null,
            "flex_flow": null,
            "grid_area": null,
            "grid_auto_columns": null,
            "grid_auto_flow": null,
            "grid_auto_rows": null,
            "grid_column": null,
            "grid_gap": null,
            "grid_row": null,
            "grid_template_areas": null,
            "grid_template_columns": null,
            "grid_template_rows": null,
            "height": null,
            "justify_content": null,
            "justify_items": null,
            "left": null,
            "margin": null,
            "max_height": null,
            "max_width": null,
            "min_height": null,
            "min_width": null,
            "object_fit": null,
            "object_position": null,
            "order": null,
            "overflow": null,
            "overflow_x": null,
            "overflow_y": null,
            "padding": null,
            "right": null,
            "top": null,
            "visibility": null,
            "width": null
          }
        }
      }
    }
  },
  "nbformat": 4,
  "nbformat_minor": 0
}
